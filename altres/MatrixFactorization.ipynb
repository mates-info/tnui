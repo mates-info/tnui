{
  "cells": [
    {
      "cell_type": "markdown",
      "metadata": {
        "id": "JdvwkqYw50xO"
      },
      "source": [
        "We set a rating (with values from $1$ to $5$) matrix with 4 movies given by 6 users. Some users didn’t watch some movies before, so the rating is given as 0 in the rating."
      ]
    },
    {
      "cell_type": "code",
      "execution_count": null,
      "metadata": {
        "id": "wuVzr0Gg3KNJ"
      },
      "outputs": [],
      "source": [
        "import numpy\n",
        "\n",
        "def matrix_factorization(R, P, Q, K, steps=5000, alpha=0.0002):\n",
        "    '''\n",
        "    R: rating matrix\n",
        "    P: |U| * K (User features matrix)\n",
        "    Q: |D| * K (Item features matrix)\n",
        "    K: latent features\n",
        "    steps: iterations\n",
        "    alpha: learning rate\n",
        "    beta: regularization parameter'''\n",
        "    \n",
        "    Q = Q.T\n",
        "    laste = 0.0\n",
        "    for step in range(steps):\n",
        "        for i in range(len(R)):\n",
        "            for j in range(len(R[i])):\n",
        "                if R[i][j] > 0:\n",
        "                    # calculate error\n",
        "                    eij = R[i][j] - numpy.dot(P[i,:],Q[:,j])\n",
        "\n",
        "                    for k in range(K):\n",
        "                        # update parameters\n",
        "                        P[i][k] = P[i][k] + alpha * (2 * eij * Q[k][j])\n",
        "                        Q[k][j] = Q[k][j] + alpha * (2 * eij * P[i][k])\n",
        "\n",
        "        eR = numpy.dot(P,Q)\n",
        "\n",
        "        e = 0\n",
        "        \n",
        "        for i in range(len(R)):\n",
        "            for j in range(len(R[i])):\n",
        "                if R[i][j] > 0:\n",
        "                    e = e + pow(R[i][j] - numpy.dot(P[i,:],Q[:,j]), 2)\n",
        "                    for k in range(K):\n",
        "                        e = e + (pow(P[i][k],2) + pow(Q[k][j],2))\n",
        "        # 0.001: local minimum\n",
        "        if e < 100:\n",
        "            break\n",
        "\n",
        "    return P, Q.T"
      ]
    },
    {
      "cell_type": "code",
      "execution_count": null,
      "metadata": {
        "id": "TDaliEgv3amp"
      },
      "outputs": [],
      "source": [
        "R = [\n",
        "     [5,3,0,1],\n",
        "     [4,0,0,1],\n",
        "     [1,1,0,5],\n",
        "     [1,0,0,4],\n",
        "     [0,1,5,4],\n",
        "     [2,1,3,0],\n",
        "    ]\n",
        "\n",
        "R = numpy.array(R)\n",
        "# N: num of User\n",
        "N = len(R)\n",
        "# M: num of Movie\n",
        "M = len(R[0])\n",
        "# Num of Features\n",
        "K = 3\n",
        " \n",
        "P = numpy.random.rand(N,K)\n",
        "Q = numpy.random.rand(M,K)\n",
        "\n",
        "nP, nQ = matrix_factorization(R, P, Q, K)\n",
        "\n",
        "nR = numpy.dot(nP, nQ.T)"
      ]
    },
    {
      "cell_type": "markdown",
      "metadata": {
        "id": "cgEZJI485vw8"
      },
      "source": [
        "The predicted matrix has similar output with the true values, and the 0 ratings are replaced with the prediction based on the similar users’ preferences on movies."
      ]
    },
    {
      "cell_type": "code",
      "execution_count": null,
      "metadata": {
        "colab": {
          "base_uri": "https://localhost:8080/"
        },
        "id": "LGNyNz3c5l5-",
        "outputId": "c5eab729-66a3-4276-9371-7d00f67c0886"
      },
      "outputs": [
        {
          "data": {
            "text/plain": [
              "array([[5, 3, 0, 1],\n",
              "       [4, 0, 0, 1],\n",
              "       [1, 1, 0, 5],\n",
              "       [1, 0, 0, 4],\n",
              "       [0, 1, 5, 4],\n",
              "       [2, 1, 3, 0]])"
            ]
          },
          "execution_count": 48,
          "metadata": {},
          "output_type": "execute_result"
        }
      ],
      "source": [
        "R"
      ]
    },
    {
      "cell_type": "code",
      "execution_count": null,
      "metadata": {
        "colab": {
          "base_uri": "https://localhost:8080/"
        },
        "id": "q2gQDM8W5ns6",
        "outputId": "dabc54cf-4b5b-4b04-bcfe-d9e3a3997974"
      },
      "outputs": [
        {
          "data": {
            "text/plain": [
              "array([[4.99129986, 2.99029123, 5.80431828, 1.00257357],\n",
              "       [3.98379767, 1.22320988, 4.24503112, 1.00490025],\n",
              "       [0.99235107, 0.98483695, 2.7686549 , 5.00416005],\n",
              "       [0.98388458, 0.81268152, 2.38989039, 4.00356482],\n",
              "       [3.92548391, 1.00757738, 5.01978764, 3.9885138 ],\n",
              "       [2.08893367, 1.02190549, 2.91964903, 2.32110281]])"
            ]
          },
          "execution_count": 49,
          "metadata": {},
          "output_type": "execute_result"
        }
      ],
      "source": [
        "nR"
      ]
    },
    {
      "cell_type": "markdown",
      "metadata": {
        "id": "iEqjo08s6B-u"
      },
      "source": [
        "In the real-world, the rating matrix is very sparse since every user watches movies at different frequencies. However, the error function RMSE is only calculated with the non-null rating. The missing entries in the rating matrix would be replaced by the dot product of the factor matrices. Therefore, we know what to recommend to the users with the unseen movies based on the prediction."
      ]
    }
  ],
  "metadata": {
    "colab": {
      "collapsed_sections": [],
      "provenance": []
    },
    "kernelspec": {
      "display_name": "Python 3.10.5 64-bit",
      "language": "python",
      "name": "python3"
    },
    "language_info": {
      "name": "python",
      "version": "3.10.5"
    },
    "vscode": {
      "interpreter": {
        "hash": "ad2117d8da04c720903da65ba8862d63b2fb82849cd17efbeca69c80f28b43db"
      }
    }
  },
  "nbformat": 4,
  "nbformat_minor": 0
}
