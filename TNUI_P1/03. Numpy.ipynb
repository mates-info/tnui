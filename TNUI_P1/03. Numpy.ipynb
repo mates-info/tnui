{
 "cells": [
  {
   "cell_type": "markdown",
   "metadata": {},
   "source": [
    "# Numpy\n",
    "\n",
    "Dur a terme operacions matemàtiques en Python és complicat, com podem simplificar-ho i operar amb vectors o inclús matrius? \n",
    "\n",
    "La resposta és la llibreria **Numpy**."
   ]
  },
  {
   "cell_type": "code",
   "execution_count": 1,
   "metadata": {},
   "outputs": [],
   "source": [
    "import numpy as np"
   ]
  },
  {
   "cell_type": "markdown",
   "metadata": {},
   "source": [
    "Tornem a l'exemple anterior, com calcular $z = x + y$ on $x=(1, 2, 3), y=(2, 3, 4)$?"
   ]
  },
  {
   "cell_type": "code",
   "execution_count": 2,
   "metadata": {},
   "outputs": [
    {
     "data": {
      "text/plain": [
       "array([1, 2, 3])"
      ]
     },
     "execution_count": 2,
     "metadata": {},
     "output_type": "execute_result"
    }
   ],
   "source": [
    "# Necessitem convertir les llistes de python a elements de numpy\n",
    "x = [1, 2, 3]\n",
    "y = [2, 3, 4]\n",
    "\n",
    "x = np.array(x)\n",
    "y = np.asarray(y)\n",
    "\n",
    "# Inspeccionem que és ara x\n",
    "x"
   ]
  },
  {
   "cell_type": "code",
   "execution_count": 3,
   "metadata": {},
   "outputs": [
    {
     "data": {
      "text/plain": [
       "array([3, 5, 7])"
      ]
     },
     "execution_count": 3,
     "metadata": {},
     "output_type": "execute_result"
    }
   ],
   "source": [
    "# A partir d'ara, podem operar amb aquestes \"x\" i \"y\" com si fossin vectors matemàtics\n",
    "\n",
    "z = x + y\n",
    "z"
   ]
  },
  {
   "cell_type": "markdown",
   "metadata": {},
   "source": [
    "## 1. Vectors i matrius (arrays i arrays ndimensionals)"
   ]
  },
  {
   "cell_type": "markdown",
   "metadata": {},
   "source": [
    "Existeixen diferents formes de crear elements en numpy:\n",
    "    \n",
    "* Vectors a partir de llistes de python\n",
    "* Vectors directament des de numpy\n",
    "* Matrius a partir de llistes de llistes\n",
    "* Matrius amb numpy"
   ]
  },
  {
   "cell_type": "code",
   "execution_count": 5,
   "metadata": {
    "scrolled": true,
    "tags": []
   },
   "outputs": [
    {
     "name": "stdout",
     "output_type": "stream",
     "text": [
      "[1 2 3]\n",
      "[0. 0. 0. 0. 0. 0. 0. 0.]\n",
      "[7. 7. 7. 7. 7.]\n"
     ]
    }
   ],
   "source": [
    "# Abans hem vist la creació a partir d'una llista de python\n",
    "# _Les dues són equivalents_\n",
    "vector = np.asarray([1, 2, 3])\n",
    "vector = np.array([1, 2, 3])\n",
    "print(vector)\n",
    "\n",
    "# També es pot crear directament vectors de 0's o 1's\n",
    "# Per exemple, un vector de 8 0's\n",
    "zeros = np.zeros(8)\n",
    "print(zeros)\n",
    "\n",
    "# Un vector de 5 0's\n",
    "ones = np.ones(5)*7\n",
    "print(ones)"
   ]
  },
  {
   "cell_type": "markdown",
   "metadata": {},
   "source": [
    "Fixa't que per defecte numpy crea vectors de tipus `float` quan es fa servir `ones` o `zeros`, amb la quantitat que li indiquem.\n",
    "\n",
    "D'altra banda, si li donem una llista de python, infereix el tipus d'aquesta. Per exemple, abans la llista contenia enters, i per tant ha utilitzat el tipus `int`.\n",
    "\n",
    "Que passaria en aquest cas?"
   ]
  },
  {
   "cell_type": "code",
   "execution_count": 6,
   "metadata": {},
   "outputs": [
    {
     "data": {
      "text/plain": [
       "array([1., 2.])"
      ]
     },
     "execution_count": 6,
     "metadata": {},
     "output_type": "execute_result"
    }
   ],
   "source": [
    "np.asarray([1, 2.0])"
   ]
  },
  {
   "cell_type": "markdown",
   "metadata": {},
   "source": [
    "Si hi ha tipus barrejats, com ara `int` i `float`, numpy escull sempre el tipus flotant. Podem, però, indicar un tipus diferent:"
   ]
  },
  {
   "cell_type": "code",
   "execution_count": 7,
   "metadata": {},
   "outputs": [
    {
     "name": "stdout",
     "output_type": "stream",
     "text": [
      "Per defecte\n",
      "[   1.     2.5    3.6  256.    -1.  -256. ]\n",
      "\n",
      "Flotants\n",
      "[   1.     2.5    3.6  256.    -1.  -256. ]\n",
      "[   1.     2.5    3.6  256.    -1.  -256. ]\n",
      "[   1.     2.5    3.6  256.    -1.  -256. ]\n",
      "\n",
      "Enters\n",
      "[   1    2    3  256   -1 -256]\n",
      "[   1    2    3  256   -1 -256]\n",
      "[         1          2          3        256 4294967295 4294967040]\n",
      "[ 1  2  3  0 -1  0]\n",
      "[  1   2   3   0 255   0]\n"
     ]
    }
   ],
   "source": [
    "print('Per defecte')\n",
    "print(np.asarray([1.0, 2.5, 3.6, 256, -1, -256]))\n",
    "\n",
    "print('\\nFlotants')\n",
    "print(np.asarray([1.0, 2.5, 3.6, 256, -1, -256], dtype=float))\n",
    "print(np.asarray([1.0, 2.5, 3.6, 256, -1, -256], dtype=np.float32))\n",
    "print(np.asarray([1.0, 2.5, 3.6, 256, -1, -256], dtype=np.float64))\n",
    "\n",
    "print('\\nEnters')\n",
    "print(np.asarray([1.0, 2.5, 3.6, 256, -1, -256], dtype=int))\n",
    "print(np.asarray([1.0, 2.5, 3.6, 256, -1, -256], dtype=np.int32))\n",
    "print(np.asarray([1.0, 2.5, 3.6, 256, -1, -256], dtype=np.uint32))\n",
    "print(np.asarray([1.0, 2.5, 3.6, 256, -1, -256], dtype=np.int8))\n",
    "print(np.asarray([1.0, 2.5, 3.6, 256, -1, -256], dtype=np.uint8))"
   ]
  },
  {
   "cell_type": "code",
   "execution_count": 9,
   "metadata": {},
   "outputs": [
    {
     "name": "stdout",
     "output_type": "stream",
     "text": [
      "[1. 2. 3.]\n",
      "float64\n",
      "[1 2 3]\n",
      "int32\n"
     ]
    }
   ],
   "source": [
    "# En qualsevol moment podem canviar el tipus també\n",
    "vector = np.asarray([1.0, 2.0, 3.0])\n",
    "print(vector)\n",
    "print(vector.dtype)\n",
    "vector = vector.astype(int)\n",
    "print(vector)\n",
    "print(vector.dtype)"
   ]
  },
  {
   "cell_type": "markdown",
   "metadata": {},
   "source": [
    "També podem crear matrius:"
   ]
  },
  {
   "cell_type": "code",
   "execution_count": 10,
   "metadata": {},
   "outputs": [
    {
     "data": {
      "text/plain": [
       "array([[1., 1., 1., 1.],\n",
       "       [1., 1., 1., 1.],\n",
       "       [1., 1., 1., 1.]])"
      ]
     },
     "execution_count": 10,
     "metadata": {},
     "output_type": "execute_result"
    }
   ],
   "source": [
    "np.ones((3, 4))"
   ]
  },
  {
   "cell_type": "code",
   "execution_count": 11,
   "metadata": {},
   "outputs": [
    {
     "data": {
      "text/plain": [
       "array([[0., 0., 0., 0., 0., 0., 0.],\n",
       "       [0., 0., 0., 0., 0., 0., 0.]])"
      ]
     },
     "execution_count": 11,
     "metadata": {},
     "output_type": "execute_result"
    }
   ],
   "source": [
    "np.zeros((2, 7))"
   ]
  },
  {
   "cell_type": "code",
   "execution_count": 12,
   "metadata": {},
   "outputs": [
    {
     "data": {
      "text/plain": [
       "array([[  1,   2,   3,   4],\n",
       "       [ 10,  20,  30,  40],\n",
       "       [100, 200, 300, 400]])"
      ]
     },
     "execution_count": 12,
     "metadata": {},
     "output_type": "execute_result"
    }
   ],
   "source": [
    "np.asarray([\n",
    "    [1, 2, 3, 4],\n",
    "    [10, 20, 30, 40],\n",
    "    [100, 200, 300, 400]\n",
    "])"
   ]
  },
  {
   "cell_type": "markdown",
   "metadata": {},
   "source": [
    "I podem crear matrius a partir de les dimensions d'una altra matriu"
   ]
  },
  {
   "cell_type": "code",
   "execution_count": 13,
   "metadata": {},
   "outputs": [
    {
     "name": "stdout",
     "output_type": "stream",
     "text": [
      "(5, 4)\n"
     ]
    }
   ],
   "source": [
    "matriu_1 = np.ones((5, 4)) # Creem una matriu 5x4\n",
    "print(matriu_1.shape)"
   ]
  },
  {
   "cell_type": "code",
   "execution_count": 14,
   "metadata": {},
   "outputs": [
    {
     "name": "stdout",
     "output_type": "stream",
     "text": [
      "(5, 4)\n"
     ]
    }
   ],
   "source": [
    "matriu_2 = np.zeros_like(matriu_1) # Creem la matriu_2 a partir de la forma de la 1\n",
    "print(matriu_2.shape)"
   ]
  },
  {
   "cell_type": "markdown",
   "metadata": {},
   "source": [
    "També podem manipular la forma"
   ]
  },
  {
   "cell_type": "code",
   "execution_count": 15,
   "metadata": {},
   "outputs": [
    {
     "name": "stdout",
     "output_type": "stream",
     "text": [
      "(3, 6)\n",
      "(6, 3)\n",
      "(2, 3, 3)\n"
     ]
    }
   ],
   "source": [
    "mat = np.ones((3, 6))\n",
    "print(mat.shape)\n",
    "mat = mat.reshape((6, 3))\n",
    "print(mat.shape)\n",
    "mat = mat.reshape((2,3,3))\n",
    "print(mat.shape)"
   ]
  },
  {
   "cell_type": "markdown",
   "metadata": {},
   "source": [
    "## 2. Operacions sobre vectors i matrius"
   ]
  },
  {
   "cell_type": "markdown",
   "metadata": {},
   "source": [
    "Com amb les llistes, podem fer operacions de reducció sobre vectors o matrius"
   ]
  },
  {
   "cell_type": "code",
   "execution_count": 16,
   "metadata": {},
   "outputs": [
    {
     "name": "stdout",
     "output_type": "stream",
     "text": [
      "Sum\n",
      "10\n",
      "10\n",
      "\n",
      "Max\n",
      "4\n",
      "4\n",
      "\n",
      "Min\n",
      "1\n",
      "1\n",
      "\n",
      "Prod\n",
      "24\n",
      "24\n"
     ]
    }
   ],
   "source": [
    "vector = np.asarray([1, 2, 3, 4])\n",
    "\n",
    "# És equivalent np.sum(x) i x.sum()\n",
    "print(\"Sum\")\n",
    "print(np.sum(vector))\n",
    "print(vector.sum())\n",
    "\n",
    "print(\"\\nMax\")\n",
    "print(np.max(vector))\n",
    "print(vector.max())\n",
    "\n",
    "print(\"\\nMin\")\n",
    "print(np.min(vector))\n",
    "print(vector.min())\n",
    "\n",
    "print(\"\\nProd\")\n",
    "print(np.prod(vector))\n",
    "print(vector.prod())"
   ]
  },
  {
   "cell_type": "markdown",
   "metadata": {},
   "source": [
    "En el cas de les matrius, les operacions actuen de forma global per defecte, però se'ls hi pot indicar sobre quina dimensió efectuar l'operació:\n",
    "\n",
    "* **Columnes**: dimensió 0\n",
    "* **Files**: dimensió 1"
   ]
  },
  {
   "cell_type": "code",
   "execution_count": 17,
   "metadata": {},
   "outputs": [
    {
     "name": "stdout",
     "output_type": "stream",
     "text": [
      "Sum\n",
      "1110\n",
      "[111 222 333 444]\n",
      "[  10  100 1000]\n"
     ]
    }
   ],
   "source": [
    "# Fem una matriu 3x4\n",
    "matriu = np.asarray([[  1,   2,   3,  4],\n",
    "                     [ 10,  20,  30, 40],\n",
    "                     [100, 200, 300, 400]])\n",
    "\n",
    "print(\"Sum\")\n",
    "print(matriu.sum())\n",
    "print(matriu.sum(axis=0))\n",
    "print(matriu.sum(axis=1))\n",
    "\n",
    "# Anàlogament per la resta de les operacions"
   ]
  },
  {
   "cell_type": "markdown",
   "metadata": {},
   "source": [
    "**Atenció**: Eviteu fer servir les funcions de `python` pures!\n",
    "\n",
    "```python\n",
    "# sum(matriu)\n",
    "#    vs\n",
    "np.sum(matriu) # O matriu.sum()\n",
    "```"
   ]
  },
  {
   "cell_type": "markdown",
   "metadata": {},
   "source": [
    "Sempre tenim l'equivalent en Numpy de tot:"
   ]
  },
  {
   "cell_type": "code",
   "execution_count": 18,
   "metadata": {},
   "outputs": [
    {
     "data": {
      "text/plain": [
       "array([[  1,   2,   3,   4],\n",
       "       [ 10,  20,  30,  40],\n",
       "       [100, 200, 300, 400]])"
      ]
     },
     "execution_count": 18,
     "metadata": {},
     "output_type": "execute_result"
    }
   ],
   "source": [
    "np.abs(matriu) # enlloc de abs(matriu)"
   ]
  },
  {
   "cell_type": "markdown",
   "metadata": {},
   "source": [
    "## 3. Indexació"
   ]
  },
  {
   "cell_type": "markdown",
   "metadata": {},
   "source": [
    "Com en Python, fent servir Numpy podem accedir a elements en particular d'un vector o matriu"
   ]
  },
  {
   "cell_type": "code",
   "execution_count": 19,
   "metadata": {},
   "outputs": [
    {
     "data": {
      "text/plain": [
       "[1, 3, 3]"
      ]
     },
     "execution_count": 19,
     "metadata": {},
     "output_type": "execute_result"
    }
   ],
   "source": [
    "llista = [1, 2, 3]\n",
    "llista[-2] = 3\n",
    "llista\n"
   ]
  },
  {
   "cell_type": "code",
   "execution_count": 20,
   "metadata": {},
   "outputs": [
    {
     "data": {
      "text/plain": [
       "array([1, 2, 3, 4])"
      ]
     },
     "execution_count": 20,
     "metadata": {},
     "output_type": "execute_result"
    }
   ],
   "source": [
    "vector"
   ]
  },
  {
   "cell_type": "code",
   "execution_count": 21,
   "metadata": {},
   "outputs": [
    {
     "name": "stdout",
     "output_type": "stream",
     "text": [
      "1\n",
      "4\n",
      "4\n",
      "[2 3]\n"
     ]
    }
   ],
   "source": [
    "print(vector[0])\n",
    "print(vector[3])\n",
    "print(vector[-1])\n",
    "print(vector[1:3])"
   ]
  },
  {
   "cell_type": "code",
   "execution_count": 22,
   "metadata": {},
   "outputs": [
    {
     "data": {
      "text/plain": [
       "array([[  1,   2,   3,   4],\n",
       "       [ 10,  20,  30,  40],\n",
       "       [100, 200, 300, 400]])"
      ]
     },
     "execution_count": 22,
     "metadata": {},
     "output_type": "execute_result"
    }
   ],
   "source": [
    "matriu"
   ]
  },
  {
   "cell_type": "code",
   "execution_count": 23,
   "metadata": {},
   "outputs": [
    {
     "data": {
      "text/plain": [
       "array([[[1., 1., 1., 1.],\n",
       "        [1., 1., 1., 1.],\n",
       "        [1., 1., 1., 1.]],\n",
       "\n",
       "       [[1., 1., 1., 1.],\n",
       "        [1., 1., 1., 1.],\n",
       "        [1., 1., 1., 1.]]])"
      ]
     },
     "execution_count": 23,
     "metadata": {},
     "output_type": "execute_result"
    }
   ],
   "source": [
    "# Outside to inside\n",
    "np.ones((2, 3, 4))"
   ]
  },
  {
   "cell_type": "code",
   "execution_count": 31,
   "metadata": {},
   "outputs": [
    {
     "data": {
      "text/plain": [
       "array([[2., 2., 2., 2.],\n",
       "       [2., 2., 2., 2.],\n",
       "       [2., 2., 2., 2.]])"
      ]
     },
     "execution_count": 31,
     "metadata": {},
     "output_type": "execute_result"
    }
   ],
   "source": [
    "# Destrueix la fila passada, de fora endins\n",
    "np.ones((2, 3, 4)).sum(axis=0)"
   ]
  },
  {
   "cell_type": "code",
   "execution_count": 39,
   "metadata": {},
   "outputs": [
    {
     "name": "stdout",
     "output_type": "stream",
     "text": [
      "1\n",
      "2\n",
      "30\n",
      "400\n",
      "\n",
      "[ 1 10]\n",
      "[20 30]\n",
      "[[ 2  3]\n",
      " [20 30]]\n",
      "\n",
      "[10 20]\n",
      "[[10 20]]\n",
      "\n",
      "[ 10 300]\n"
     ]
    }
   ],
   "source": [
    "# Un element en concret\n",
    "print(matriu[0, 0]) # Fila 0, Columna 0\n",
    "print(matriu[0, 1]) # Fila 0, Columna 1\n",
    "print(matriu[1, 2]) # Fila 1, Columna 2\n",
    "print(matriu[2, 3]) # Fila 2, Columna 3\n",
    "\n",
    "# Rangs de files i/o columnes\n",
    "print()\n",
    "print(matriu[0:2, 0]) # Files 0 i 1, Columna 0\n",
    "print(matriu[1, 1:3]) # Fila 1, Columnes 1 i 2\n",
    "print(matriu[0:2, 1:3]) # Fila 0 i 1, Columna 1 i 2\n",
    "\n",
    "# Quina diferència hi ha?\n",
    "print()\n",
    "print(matriu[1, 0:2])   # Fila 1, Columnes 0 i 1\n",
    "print(matriu[1:2, 0:2]) # Fila 1, Columnes 0 i 1\n",
    "\n",
    "# Seleccions d'elements múltiples\n",
    "# SI ACCEDEIXO EN FORMA DE LLISTA, PRIMER TOTES LES 1res DIMENSIONS I DESPRÉS LES ALTRES PER SEPARAT!! (i vol tupla exterior)\n",
    "print()\n",
    "\n",
    "print(matriu[([1, 2], [0, 2])])"
   ]
  },
  {
   "cell_type": "markdown",
   "metadata": {},
   "source": [
    "## 4. NUMPY FA VISTES, NO CÒPIES!"
   ]
  },
  {
   "cell_type": "code",
   "execution_count": 40,
   "metadata": {},
   "outputs": [
    {
     "data": {
      "text/plain": [
       "array([[ 20,  30],\n",
       "       [200, 300]])"
      ]
     },
     "execution_count": 40,
     "metadata": {},
     "output_type": "execute_result"
    }
   ],
   "source": [
    "matriu = np.asarray([[1, 2, 3, 4], [10, 20, 30, 40], [100, 200, 300, 400]])\n",
    "submatriu = matriu[1:3, 1:3]\n",
    "submatriu"
   ]
  },
  {
   "cell_type": "code",
   "execution_count": 41,
   "metadata": {},
   "outputs": [],
   "source": [
    "submatriu[1, 1] = 0"
   ]
  },
  {
   "cell_type": "code",
   "execution_count": 42,
   "metadata": {},
   "outputs": [
    {
     "data": {
      "text/plain": [
       "array([[  1,   2,   3,   4],\n",
       "       [ 10,  20,  30,  40],\n",
       "       [100, 200,   0, 400]])"
      ]
     },
     "execution_count": 42,
     "metadata": {},
     "output_type": "execute_result"
    }
   ],
   "source": [
    "matriu"
   ]
  },
  {
   "cell_type": "markdown",
   "metadata": {},
   "source": [
    "També podem fer còpies si volem"
   ]
  },
  {
   "cell_type": "code",
   "execution_count": 43,
   "metadata": {},
   "outputs": [
    {
     "data": {
      "text/plain": [
       "array([[  1,   2,   3,   4],\n",
       "       [ 10,  20,  30,  40],\n",
       "       [100, 200, 300, 400]])"
      ]
     },
     "execution_count": 43,
     "metadata": {},
     "output_type": "execute_result"
    }
   ],
   "source": [
    "matriu = np.asarray([[1, 2, 3, 4], [10, 20, 30, 40], [100, 200, 300, 400]])\n",
    "submatriu = matriu[1:3, 1:3]\n",
    "submatriu = submatriu.copy()\n",
    "submatriu[1, 1] = 0\n",
    "matriu"
   ]
  },
  {
   "cell_type": "markdown",
   "metadata": {},
   "source": [
    "## 5. Indexació booleana\n",
    "\n",
    "Suposa que volem sobreescriure tots els elements negatius d'una matriu per 0, ho podem aconseguir amb indexació booleana"
   ]
  },
  {
   "cell_type": "code",
   "execution_count": 44,
   "metadata": {},
   "outputs": [
    {
     "data": {
      "text/plain": [
       "array([[-0.42117242,  0.66783318,  0.89816911,  0.28066001],\n",
       "       [-0.90536945,  0.21141154,  0.71103474, -0.79551339],\n",
       "       [-0.0207816 ,  0.70354865, -0.08265845,  0.08344156]])"
      ]
     },
     "execution_count": 44,
     "metadata": {},
     "output_type": "execute_result"
    }
   ],
   "source": [
    "exemple = np.random.uniform(-1, 1, size=(3, 4))\n",
    "exemple"
   ]
  },
  {
   "cell_type": "code",
   "execution_count": 45,
   "metadata": {},
   "outputs": [
    {
     "data": {
      "text/plain": [
       "array([[ True, False, False, False],\n",
       "       [ True, False, False,  True],\n",
       "       [ True, False,  True, False]])"
      ]
     },
     "execution_count": 45,
     "metadata": {},
     "output_type": "execute_result"
    }
   ],
   "source": [
    "# 1. Trobem els elements negatius\n",
    "negatius = exemple < 0\n",
    "negatius"
   ]
  },
  {
   "cell_type": "markdown",
   "metadata": {},
   "source": [
    "Ara, podem fer servir aquesta matriu `negatius` com a índexs. Numpy \"seleccionarà\" únicament aquelles posicions on hi hagi un `True`"
   ]
  },
  {
   "cell_type": "code",
   "execution_count": 46,
   "metadata": {},
   "outputs": [
    {
     "data": {
      "text/plain": [
       "array([-0.42117242, -0.90536945, -0.79551339, -0.0207816 , -0.08265845])"
      ]
     },
     "execution_count": 46,
     "metadata": {},
     "output_type": "execute_result"
    }
   ],
   "source": [
    "exemple[negatius]"
   ]
  },
  {
   "cell_type": "markdown",
   "metadata": {},
   "source": [
    "I, com que Numpy no fa còpies, podem directament canviar els valors d'aquests elements"
   ]
  },
  {
   "cell_type": "code",
   "execution_count": 47,
   "metadata": {},
   "outputs": [
    {
     "data": {
      "text/plain": [
       "array([[0.        , 0.66783318, 0.89816911, 0.28066001],\n",
       "       [0.        , 0.21141154, 0.71103474, 0.        ],\n",
       "       [0.        , 0.70354865, 0.        , 0.08344156]])"
      ]
     },
     "execution_count": 47,
     "metadata": {},
     "output_type": "execute_result"
    }
   ],
   "source": [
    "exemple[exemple < 0] = 0\n",
    "exemple"
   ]
  },
  {
   "cell_type": "markdown",
   "metadata": {},
   "source": [
    "## 6. Operacions element a element\n",
    "\n",
    "Es diu que les operacions estan \"vectoritzades\", és a dir que actuen per a cada element de l'array (i de forma ràpida)"
   ]
  },
  {
   "cell_type": "code",
   "execution_count": 48,
   "metadata": {},
   "outputs": [
    {
     "data": {
      "text/plain": [
       "array([2, 3, 4, 5])"
      ]
     },
     "execution_count": 48,
     "metadata": {},
     "output_type": "execute_result"
    }
   ],
   "source": [
    "vector + 1"
   ]
  },
  {
   "cell_type": "code",
   "execution_count": 49,
   "metadata": {},
   "outputs": [
    {
     "data": {
      "text/plain": [
       "array([2, 4, 6, 8])"
      ]
     },
     "execution_count": 49,
     "metadata": {},
     "output_type": "execute_result"
    }
   ],
   "source": [
    "vector * 2"
   ]
  },
  {
   "cell_type": "code",
   "execution_count": 50,
   "metadata": {},
   "outputs": [
    {
     "data": {
      "text/plain": [
       "array([ 1,  4,  9, 16], dtype=int32)"
      ]
     },
     "execution_count": 50,
     "metadata": {},
     "output_type": "execute_result"
    }
   ],
   "source": [
    "vector ** 2"
   ]
  },
  {
   "cell_type": "code",
   "execution_count": 51,
   "metadata": {},
   "outputs": [
    {
     "data": {
      "text/plain": [
       "array([2, 4, 6, 8])"
      ]
     },
     "execution_count": 51,
     "metadata": {},
     "output_type": "execute_result"
    }
   ],
   "source": [
    "vector + vector"
   ]
  },
  {
   "cell_type": "code",
   "execution_count": 52,
   "metadata": {},
   "outputs": [
    {
     "data": {
      "text/plain": [
       "array([ 1,  4,  9, 16])"
      ]
     },
     "execution_count": 52,
     "metadata": {},
     "output_type": "execute_result"
    }
   ],
   "source": [
    "vector * vector"
   ]
  },
  {
   "cell_type": "markdown",
   "metadata": {},
   "source": [
    "I per matrius:"
   ]
  },
  {
   "cell_type": "code",
   "execution_count": 53,
   "metadata": {},
   "outputs": [
    {
     "data": {
      "text/plain": [
       "array([[  2,   3,   4,   5],\n",
       "       [ 11,  21,  31,  41],\n",
       "       [101, 201, 301, 401]])"
      ]
     },
     "execution_count": 53,
     "metadata": {},
     "output_type": "execute_result"
    }
   ],
   "source": [
    "matriu + 1"
   ]
  },
  {
   "cell_type": "code",
   "execution_count": 54,
   "metadata": {},
   "outputs": [
    {
     "data": {
      "text/plain": [
       "array([[  2,   4,   6,   8],\n",
       "       [ 20,  40,  60,  80],\n",
       "       [200, 400, 600, 800]])"
      ]
     },
     "execution_count": 54,
     "metadata": {},
     "output_type": "execute_result"
    }
   ],
   "source": [
    "matriu * 2"
   ]
  },
  {
   "cell_type": "code",
   "execution_count": 55,
   "metadata": {},
   "outputs": [
    {
     "data": {
      "text/plain": [
       "array([[     1,      4,      9,     16],\n",
       "       [   100,    400,    900,   1600],\n",
       "       [ 10000,  40000,  90000, 160000]], dtype=int32)"
      ]
     },
     "execution_count": 55,
     "metadata": {},
     "output_type": "execute_result"
    }
   ],
   "source": [
    "matriu ** 2"
   ]
  },
  {
   "cell_type": "code",
   "execution_count": 56,
   "metadata": {},
   "outputs": [
    {
     "data": {
      "text/plain": [
       "array([[  2,   4,   6,   8],\n",
       "       [ 20,  40,  60,  80],\n",
       "       [200, 400, 600, 800]])"
      ]
     },
     "execution_count": 56,
     "metadata": {},
     "output_type": "execute_result"
    }
   ],
   "source": [
    "matriu + matriu"
   ]
  },
  {
   "cell_type": "code",
   "execution_count": 57,
   "metadata": {},
   "outputs": [
    {
     "data": {
      "text/plain": [
       "array([[     1,      4,      9,     16],\n",
       "       [   100,    400,    900,   1600],\n",
       "       [ 10000,  40000,  90000, 160000]])"
      ]
     },
     "execution_count": 57,
     "metadata": {},
     "output_type": "execute_result"
    }
   ],
   "source": [
    "matriu * matriu"
   ]
  },
  {
   "cell_type": "markdown",
   "metadata": {},
   "source": [
    "**Nota**: Quan treballem amb matrius l'operador * actua per cada element, no és la multiplicació matricial, aquesta es pot fer de dues formes (equivalents)"
   ]
  },
  {
   "cell_type": "code",
   "execution_count": 58,
   "metadata": {},
   "outputs": [
    {
     "data": {
      "text/plain": [
       "array([[  1,  10, 100],\n",
       "       [  2,  20, 200],\n",
       "       [  3,  30, 300],\n",
       "       [  4,  40, 400]])"
      ]
     },
     "execution_count": 58,
     "metadata": {},
     "output_type": "execute_result"
    }
   ],
   "source": [
    "matriu.T"
   ]
  },
  {
   "cell_type": "code",
   "execution_count": 59,
   "metadata": {},
   "outputs": [
    {
     "data": {
      "text/plain": [
       "array([[    30,    300,   3000],\n",
       "       [   300,   3000,  30000],\n",
       "       [  3000,  30000, 300000]])"
      ]
     },
     "execution_count": 59,
     "metadata": {},
     "output_type": "execute_result"
    }
   ],
   "source": [
    "np.dot(matriu, matriu.T)"
   ]
  },
  {
   "cell_type": "code",
   "execution_count": 60,
   "metadata": {},
   "outputs": [
    {
     "data": {
      "text/plain": [
       "array([[    30,    300,   3000],\n",
       "       [   300,   3000,  30000],\n",
       "       [  3000,  30000, 300000]])"
      ]
     },
     "execution_count": 60,
     "metadata": {},
     "output_type": "execute_result"
    }
   ],
   "source": [
    "matriu @ matriu.T\n",
    "# np.dot ≡ @"
   ]
  },
  {
   "cell_type": "code",
   "execution_count": 61,
   "metadata": {
    "scrolled": true
   },
   "outputs": [
    {
     "data": {
      "text/plain": [
       "array([[  1,  10, 100],\n",
       "       [  2,  20, 200],\n",
       "       [  3,  30, 300],\n",
       "       [  4,  40, 400]])"
      ]
     },
     "execution_count": 61,
     "metadata": {},
     "output_type": "execute_result"
    }
   ],
   "source": [
    "# On `matriu.T` indica la transposada de la matriu:\n",
    "matriu.T"
   ]
  },
  {
   "cell_type": "code",
   "execution_count": 62,
   "metadata": {},
   "outputs": [
    {
     "data": {
      "text/plain": [
       "(3, 4)"
      ]
     },
     "execution_count": 62,
     "metadata": {},
     "output_type": "execute_result"
    }
   ],
   "source": [
    "matriu.shape"
   ]
  },
  {
   "cell_type": "code",
   "execution_count": 63,
   "metadata": {},
   "outputs": [],
   "source": [
    "matriu.T[0, 0] = 3333"
   ]
  },
  {
   "cell_type": "code",
   "execution_count": 64,
   "metadata": {},
   "outputs": [
    {
     "data": {
      "text/plain": [
       "array([[3333,    2,    3,    4],\n",
       "       [  10,   20,   30,   40],\n",
       "       [ 100,  200,  300,  400]])"
      ]
     },
     "execution_count": 64,
     "metadata": {},
     "output_type": "execute_result"
    }
   ],
   "source": [
    "matriu"
   ]
  },
  {
   "cell_type": "markdown",
   "metadata": {},
   "source": [
    "## 7. Difusió de regles (broadcasting)\n",
    "\n",
    "Abans hem vist l'ús bàsic de la difusió de regles, actuar element a element, però numpy permet fer operacions molt més avançades.\n",
    "\n",
    "Per exemple, per fer una operació a cada columna (o fila) no és necessari (i MAI s'hauria de fer) un bucle."
   ]
  },
  {
   "cell_type": "code",
   "execution_count": 65,
   "metadata": {},
   "outputs": [
    {
     "data": {
      "text/plain": [
       "array([[0.63323063, 0.60651028, 0.65975265, 0.82198631],\n",
       "       [0.0071239 , 0.61476869, 0.88040777, 0.77993744],\n",
       "       [0.05524758, 0.24801411, 0.43433861, 0.6762457 ]])"
      ]
     },
     "execution_count": 65,
     "metadata": {},
     "output_type": "execute_result"
    }
   ],
   "source": [
    "matriu = np.random.uniform(size=(3, 4))\n",
    "matriu"
   ]
  },
  {
   "cell_type": "markdown",
   "metadata": {},
   "source": [
    "Volem fer una operació que consisteix a **normalitzar** la matriu per columnes, per tal que la suma de la columna sigui 1.\n",
    "\n",
    "**Com NO fer-ho:** Obtenim primer la suma de les columnes, bucle per cada columna i dividim"
   ]
  },
  {
   "cell_type": "code",
   "execution_count": 66,
   "metadata": {},
   "outputs": [
    {
     "data": {
      "text/plain": [
       "array([0.69560211, 1.46929309, 1.97449903, 2.27816946])"
      ]
     },
     "execution_count": 66,
     "metadata": {},
     "output_type": "execute_result"
    }
   ],
   "source": [
    "sumes = matriu.sum(axis=0)\n",
    "sumes"
   ]
  },
  {
   "cell_type": "code",
   "execution_count": 67,
   "metadata": {},
   "outputs": [
    {
     "data": {
      "text/plain": [
       "array([[0.21955979, 0.06581279, 0.76001343, 0.20593948],\n",
       "       [0.64792092, 0.53159646, 0.07114334, 0.16579346],\n",
       "       [0.13251929, 0.40259074, 0.16884323, 0.62826706]])"
      ]
     },
     "execution_count": 67,
     "metadata": {},
     "output_type": "execute_result"
    }
   ],
   "source": [
    "matriu = np.random.uniform(size=(3, 4))\n",
    "sumes = matriu.sum(axis=0)\n",
    "\n",
    "for j in range(matriu.shape[1]): # Shape retorna (nº files, nº columnes)\n",
    "    matriu[:, j] = matriu[:, j] / sumes[j]\n",
    "    \n",
    "matriu"
   ]
  },
  {
   "cell_type": "code",
   "execution_count": 68,
   "metadata": {},
   "outputs": [
    {
     "data": {
      "text/plain": [
       "array([1., 1., 1., 1.])"
      ]
     },
     "execution_count": 68,
     "metadata": {},
     "output_type": "execute_result"
    }
   ],
   "source": [
    "matriu.sum(axis=0)"
   ]
  },
  {
   "cell_type": "markdown",
   "metadata": {},
   "source": [
    "**Com SÍ fer-ho:** Obtenim la suma per columnes i dividir directament\n",
    "    \n",
    "Farem la divisió d'una matriu $(3, 4)$ amb un vector de $4$ elements"
   ]
  },
  {
   "cell_type": "code",
   "execution_count": 69,
   "metadata": {},
   "outputs": [
    {
     "data": {
      "text/plain": [
       "((3, 4), (4,))"
      ]
     },
     "execution_count": 69,
     "metadata": {},
     "output_type": "execute_result"
    }
   ],
   "source": [
    "matriu.shape, sumes.shape"
   ]
  },
  {
   "cell_type": "code",
   "execution_count": 70,
   "metadata": {},
   "outputs": [
    {
     "data": {
      "text/plain": [
       "array([[0.74699466, 0.05972415, 0.52435202, 0.44267303],\n",
       "       [0.14187292, 0.57179112, 0.19387839, 0.48313172],\n",
       "       [0.11113242, 0.36848474, 0.28176959, 0.07419525]])"
      ]
     },
     "execution_count": 70,
     "metadata": {},
     "output_type": "execute_result"
    }
   ],
   "source": [
    "matriu = np.random.uniform(size=(3, 4))\n",
    "sumes = matriu.sum(axis=0)\n",
    "norm = matriu / sumes\n",
    "norm"
   ]
  },
  {
   "cell_type": "code",
   "execution_count": 71,
   "metadata": {},
   "outputs": [
    {
     "data": {
      "text/plain": [
       "array([1., 1., 1., 1.])"
      ]
     },
     "execution_count": 71,
     "metadata": {},
     "output_type": "execute_result"
    }
   ],
   "source": [
    "norm.sum(axis=0)"
   ]
  },
  {
   "cell_type": "markdown",
   "metadata": {},
   "source": [
    "#### I per files?\n",
    "\n",
    "Numpy fa la difusió per columnes sempre, mai per files, pel que si intentem fer l'operació de divisió entre una matriu $(3, 4)$ i un vector de $3$ elements, fallarà:"
   ]
  },
  {
   "cell_type": "code",
   "execution_count": 72,
   "metadata": {},
   "outputs": [
    {
     "ename": "ValueError",
     "evalue": "operands could not be broadcast together with shapes (3,4) (3,) ",
     "output_type": "error",
     "traceback": [
      "\u001b[1;31m---------------------------------------------------------------------------\u001b[0m",
      "\u001b[1;31mValueError\u001b[0m                                Traceback (most recent call last)",
      "\u001b[1;32mC:\\Users\\ANDREU~1\\AppData\\Local\\Temp/ipykernel_9524/1323319023.py\u001b[0m in \u001b[0;36m<module>\u001b[1;34m\u001b[0m\n\u001b[0;32m      1\u001b[0m \u001b[0mmatriu\u001b[0m \u001b[1;33m=\u001b[0m \u001b[0mnp\u001b[0m\u001b[1;33m.\u001b[0m\u001b[0mrandom\u001b[0m\u001b[1;33m.\u001b[0m\u001b[0muniform\u001b[0m\u001b[1;33m(\u001b[0m\u001b[0msize\u001b[0m\u001b[1;33m=\u001b[0m\u001b[1;33m(\u001b[0m\u001b[1;36m3\u001b[0m\u001b[1;33m,\u001b[0m \u001b[1;36m4\u001b[0m\u001b[1;33m)\u001b[0m\u001b[1;33m)\u001b[0m\u001b[1;33m\u001b[0m\u001b[1;33m\u001b[0m\u001b[0m\n\u001b[0;32m      2\u001b[0m \u001b[0msumes\u001b[0m \u001b[1;33m=\u001b[0m \u001b[0mmatriu\u001b[0m\u001b[1;33m.\u001b[0m\u001b[0msum\u001b[0m\u001b[1;33m(\u001b[0m\u001b[0maxis\u001b[0m\u001b[1;33m=\u001b[0m\u001b[1;36m1\u001b[0m\u001b[1;33m)\u001b[0m\u001b[1;33m\u001b[0m\u001b[1;33m\u001b[0m\u001b[0m\n\u001b[1;32m----> 3\u001b[1;33m \u001b[0mnorm\u001b[0m \u001b[1;33m=\u001b[0m \u001b[0mmatriu\u001b[0m \u001b[1;33m/\u001b[0m \u001b[0msumes\u001b[0m\u001b[1;33m\u001b[0m\u001b[1;33m\u001b[0m\u001b[0m\n\u001b[0m\u001b[0;32m      4\u001b[0m \u001b[0mnorm\u001b[0m\u001b[1;33m\u001b[0m\u001b[1;33m\u001b[0m\u001b[0m\n",
      "\u001b[1;31mValueError\u001b[0m: operands could not be broadcast together with shapes (3,4) (3,) "
     ]
    }
   ],
   "source": [
    "matriu = np.random.uniform(size=(3, 4))\n",
    "sumes = matriu.sum(axis=1)\n",
    "norm = matriu / sumes\n",
    "norm"
   ]
  },
  {
   "cell_type": "markdown",
   "metadata": {},
   "source": [
    "La solució (1)? Transposem la matriu per tenir-la $(3, 4)$, operem i transposem de nou"
   ]
  },
  {
   "cell_type": "code",
   "execution_count": 73,
   "metadata": {},
   "outputs": [
    {
     "data": {
      "text/plain": [
       "array([[0.18679362, 0.34274052, 0.23935891, 0.23110695],\n",
       "       [0.32306344, 0.25757943, 0.22758676, 0.19177036],\n",
       "       [0.37900888, 0.05596841, 0.23123408, 0.33378863]])"
      ]
     },
     "execution_count": 73,
     "metadata": {},
     "output_type": "execute_result"
    }
   ],
   "source": [
    "norm = (matriu.T / sumes).T\n",
    "norm"
   ]
  },
  {
   "cell_type": "code",
   "execution_count": 74,
   "metadata": {},
   "outputs": [
    {
     "data": {
      "text/plain": [
       "array([1., 1., 1.])"
      ]
     },
     "execution_count": 74,
     "metadata": {},
     "output_type": "execute_result"
    }
   ],
   "source": [
    "norm.sum(axis=1)"
   ]
  },
  {
   "cell_type": "markdown",
   "metadata": {},
   "source": [
    "La solució (2)? Canviar la forma del vector de $(3)$ a $(3, 1)$. D'aquesta manera estem fent una operació entre dues matrius, una $(3, 4)$ i una $(3, 1)$: numpy el que farà és a cada columna de la matriu (la dimensió que no quadra), aplicar l'operació que li demanem amb tota la columna de les sumes."
   ]
  },
  {
   "cell_type": "code",
   "execution_count": 75,
   "metadata": {},
   "outputs": [
    {
     "data": {
      "text/plain": [
       "array([[2.5504809 ],\n",
       "       [1.79603905],\n",
       "       [2.23380306]])"
      ]
     },
     "execution_count": 75,
     "metadata": {},
     "output_type": "execute_result"
    }
   ],
   "source": [
    "sumes.reshape((3,1))"
   ]
  },
  {
   "cell_type": "code",
   "execution_count": 76,
   "metadata": {},
   "outputs": [
    {
     "data": {
      "text/plain": [
       "array([[0.18679362, 0.34274052, 0.23935891, 0.23110695],\n",
       "       [0.32306344, 0.25757943, 0.22758676, 0.19177036],\n",
       "       [0.37900888, 0.05596841, 0.23123408, 0.33378863]])"
      ]
     },
     "execution_count": 76,
     "metadata": {},
     "output_type": "execute_result"
    }
   ],
   "source": [
    "norm = matriu / sumes.reshape((3, 1))\n",
    "norm"
   ]
  },
  {
   "cell_type": "code",
   "execution_count": 77,
   "metadata": {},
   "outputs": [
    {
     "data": {
      "text/plain": [
       "array([1., 1., 1.])"
      ]
     },
     "execution_count": 77,
     "metadata": {},
     "output_type": "execute_result"
    }
   ],
   "source": [
    "norm.sum(axis=1)"
   ]
  },
  {
   "cell_type": "markdown",
   "metadata": {},
   "source": [
    "## 8. Not-a-Number (NaN)\n",
    "\n",
    "NaN és un valor especial que serveix per indicar la falta de dades. Segons el tipus de dades, no sempre podem fer servir un valor per defecte. Per exemple, si deixem que l'usuari introdueixi **opcionalment** una valoració numèrica, de valor lliure, no podem fer servir 0 (o qualsevol altre nombre) per indicar que no ha introduït res."
   ]
  },
  {
   "cell_type": "code",
   "execution_count": 78,
   "metadata": {},
   "outputs": [
    {
     "data": {
      "text/plain": [
       "nan"
      ]
     },
     "execution_count": 78,
     "metadata": {},
     "output_type": "execute_result"
    }
   ],
   "source": [
    "np.nan"
   ]
  },
  {
   "cell_type": "markdown",
   "metadata": {},
   "source": [
    "NaN, però, té alguns trucs:"
   ]
  },
  {
   "cell_type": "code",
   "execution_count": 79,
   "metadata": {},
   "outputs": [
    {
     "data": {
      "text/plain": [
       "(False, True)"
      ]
     },
     "execution_count": 79,
     "metadata": {},
     "output_type": "execute_result"
    }
   ],
   "source": [
    "a = np.nan\n",
    "a == np.nan, np.isnan(a)"
   ]
  },
  {
   "cell_type": "code",
   "execution_count": 80,
   "metadata": {},
   "outputs": [
    {
     "data": {
      "text/plain": [
       "array([nan,  2., nan,  3.])"
      ]
     },
     "execution_count": 80,
     "metadata": {},
     "output_type": "execute_result"
    }
   ],
   "source": [
    "vector = np.asarray([np.nan, 2, np.nan, 3])\n",
    "vector"
   ]
  },
  {
   "cell_type": "code",
   "execution_count": 81,
   "metadata": {},
   "outputs": [
    {
     "data": {
      "text/plain": [
       "False"
      ]
     },
     "execution_count": 81,
     "metadata": {},
     "output_type": "execute_result"
    }
   ],
   "source": [
    "vector[0] == np.nan"
   ]
  },
  {
   "cell_type": "code",
   "execution_count": 82,
   "metadata": {},
   "outputs": [
    {
     "data": {
      "text/plain": [
       "True"
      ]
     },
     "execution_count": 82,
     "metadata": {},
     "output_type": "execute_result"
    }
   ],
   "source": [
    "np.isnan(vector[0])"
   ]
  },
  {
   "cell_type": "code",
   "execution_count": 83,
   "metadata": {},
   "outputs": [
    {
     "data": {
      "text/plain": [
       "array([ True, False,  True, False])"
      ]
     },
     "execution_count": 83,
     "metadata": {},
     "output_type": "execute_result"
    }
   ],
   "source": [
    "np.isnan(vector)"
   ]
  },
  {
   "cell_type": "markdown",
   "metadata": {},
   "source": [
    "Exercici: Posar a 0 tots els nans, sense modificar el vector original"
   ]
  },
  {
   "cell_type": "code",
   "execution_count": 84,
   "metadata": {},
   "outputs": [
    {
     "data": {
      "text/plain": [
       "array([ True, False,  True, False])"
      ]
     },
     "execution_count": 84,
     "metadata": {},
     "output_type": "execute_result"
    }
   ],
   "source": [
    "np.isnan(vector)"
   ]
  },
  {
   "cell_type": "code",
   "execution_count": 85,
   "metadata": {},
   "outputs": [
    {
     "data": {
      "text/plain": [
       "array([0., 2., 0., 3.])"
      ]
     },
     "execution_count": 85,
     "metadata": {},
     "output_type": "execute_result"
    }
   ],
   "source": [
    "vector2 = vector.copy()\n",
    "# AQUÍ EL TEU CODI\n",
    "vector2[np.isnan(vector)] = 0\n",
    "vector2"
   ]
  },
  {
   "cell_type": "markdown",
   "metadata": {},
   "source": [
    "# Exercicis"
   ]
  },
  {
   "cell_type": "markdown",
   "metadata": {},
   "source": [
    "**Exercici 1:** La següent funció retorna el següent càlcul element a element pel vector o matriu d'entrada,\n",
    "\n",
    "$$\\begin{equation} x^2+2x+1 \\end{equation}$$"
   ]
  },
  {
   "cell_type": "code",
   "execution_count": 86,
   "metadata": {},
   "outputs": [],
   "source": [
    "def calcular(x):\n",
    "    \"\"\"\n",
    "    Calcula, per cada element de `x` de forma individual, la funció\n",
    "    x^2+2x+1\n",
    "    \n",
    "    *NO* es poden fer servir bucles ni list-comprehensions\n",
    "    \n",
    "    :param x: np.array amb els elemnts a calcular\n",
    "    :return: np.array amb el càlcul fet\n",
    "    \"\"\"\n",
    "    # AQUÍ EL TEU CODI\n",
    "    return x**2 + 2*x + 1"
   ]
  },
  {
   "cell_type": "code",
   "execution_count": 91,
   "metadata": {
    "collapsed": false,
    "jupyter": {
     "outputs_hidden": false
    }
   },
   "outputs": [
    {
     "name": "stdout",
     "output_type": "stream",
     "text": [
      "[[16. 16.]\n",
      " [16. 16.]]\n"
     ]
    }
   ],
   "source": [
    "print(calcular(3*np.ones((2, 2))))"
   ]
  },
  {
   "cell_type": "markdown",
   "metadata": {},
   "source": [
    "**Exercici 2:** Una altra forma de normalitzar vectors és fer que la seva mitja sigui 0 i la seva desviació estàndard sigui 1. Donat un vector $x$, el vector normalitzat $\\bar{x}$ es calcula\n",
    "\n",
    "$$\\bar{x} = \\frac{x - \\mu_x}{\\sigma_x}$$\n",
    "\n",
    "On $\\mu_x$ és la mitja i $\\sigma_x$ la desviació estandard"
   ]
  },
  {
   "cell_type": "code",
   "execution_count": 92,
   "metadata": {},
   "outputs": [],
   "source": [
    "def normalitzar(x):\n",
    "    \"\"\"\n",
    "    Normalitza el vector d'entrada `x` segons la definició\n",
    "    anterior.\n",
    "    \n",
    "    *NO* es poden fer servir bucles ni list-comprehensions\n",
    "    \n",
    "    :param x: np.array en forma de vector (unidimensional)\n",
    "    :return: np.array en forma de vector (unidimensional)\n",
    "    \"\"\"\n",
    "    # AQUÍ EL TEU CODI\n",
    "    return (x - x.mean()) / x.std()"
   ]
  },
  {
   "cell_type": "code",
   "execution_count": 93,
   "metadata": {
    "collapsed": false,
    "jupyter": {
     "outputs_hidden": false
    }
   },
   "outputs": [
    {
     "name": "stdout",
     "output_type": "stream",
     "text": [
      "[-1.52910561  1.19385779  0.93346648 -0.60427088  0.00605222]\n"
     ]
    }
   ],
   "source": [
    "print(normalitzar(np.random.random(5)))"
   ]
  },
  {
   "cell_type": "code",
   "execution_count": 94,
   "metadata": {},
   "outputs": [],
   "source": [
    "def normalitzar_matriu_per_columnes(x):\n",
    "    \"\"\"\n",
    "    Normalitza, segons la definició d'abans, les columnes de la\n",
    "    matriu de forma independent (cada columna es normalitza per la seva\n",
    "    pròpia mitja i desviació estàndard)\n",
    "    \n",
    "    *NO* es poden fer servir bucles ni list-comprehensions\n",
    "    \n",
    "    :param x: np.array en forma matricial (bidimensional)\n",
    "    :return: np.array en forma matricial (bidimensional)\n",
    "    \"\"\"\n",
    "    # AQUÍ EL TEU CODI\n",
    "    return (x - x.mean(axis=0)) / x.std(axis=0)"
   ]
  },
  {
   "cell_type": "code",
   "execution_count": 95,
   "metadata": {
    "collapsed": false,
    "jupyter": {
     "outputs_hidden": false
    }
   },
   "outputs": [
    {
     "name": "stdout",
     "output_type": "stream",
     "text": [
      "[[-0.7980483   1.94208759  1.4692888   1.2383766   0.97833101]\n",
      " [-0.90322    -0.32085389 -1.41784879 -0.55633166 -1.801894  ]\n",
      " [ 1.16307892 -0.15826137  0.55814389 -1.17558719 -0.18859969]\n",
      " [-0.74326297 -0.60868981  0.10360389  1.15592493  0.858388  ]\n",
      " [ 1.28145235 -0.85428252 -0.7131878  -0.66238268  0.15377468]]\n",
      "[ 2.22044605e-16  6.66133815e-16  6.66133815e-16  6.66133815e-16\n",
      " -9.15933995e-16]\n"
     ]
    }
   ],
   "source": [
    "norm_matrix = normalitzar_matriu_per_columnes(np.random.random((5, 5)))\n",
    "\n",
    "print(norm_matrix)\n",
    "\n",
    "print(np.sum(norm_matrix, axis=0))"
   ]
  },
  {
   "cell_type": "code",
   "execution_count": 108,
   "metadata": {},
   "outputs": [],
   "source": [
    "def normalitzar_matriu_per_files(x):\n",
    "    \"\"\"\n",
    "    Normalitza, segons la definició d'abans, les files de la\n",
    "    matriu de forma independent (cada fila es normalitza per la seva\n",
    "    pròpia mitja i desviació estàndard)\n",
    "    \n",
    "    *NO* es poden fer servir bucles ni list-comprehensions\n",
    "    \n",
    "    :param x: np.array en forma matricial (bidimensional)\n",
    "    :return: np.array en forma matricial (bidimensional)\n",
    "    \"\"\"\n",
    "    \n",
    "    # AQUÍ EL TEU CODI\n",
    "    return (x - x.sum(axis=1).reshape((x.shape[0], 1))) / x.std(axis=1).reshape((x.shape[0], 1))"
   ]
  },
  {
   "cell_type": "code",
   "execution_count": 109,
   "metadata": {},
   "outputs": [
    {
     "name": "stdout",
     "output_type": "stream",
     "text": [
      "[[-6.39136259 -7.71737481 -4.97059567 -5.81071087]\n",
      " [-6.36119931 -6.23154254 -5.24561617 -3.86268067]\n",
      " [-5.99678783 -4.28967364 -7.02820486 -6.25339764]\n",
      " [-7.21271966 -4.61154261 -6.13858402 -5.1061381 ]\n",
      " [-7.55261206 -5.45587424 -6.54131201 -4.96700629]]\n",
      "[-24.89004395 -21.70103868 -23.56806397 -23.0689844  -24.5168046 ]\n"
     ]
    }
   ],
   "source": [
    "norm_matrix = normalitzar_matriu_per_files(np.random.random((5, 4)))\n",
    "print(norm_matrix)\n",
    "print(np.sum(norm_matrix, axis = 1))"
   ]
  },
  {
   "cell_type": "markdown",
   "metadata": {},
   "source": [
    "**Exercici 3:** Calcula la mitja del vector d'entrada, però qualsevol element NaN ha de ser tractat com si fos un 0."
   ]
  },
  {
   "cell_type": "code",
   "execution_count": 114,
   "metadata": {},
   "outputs": [],
   "source": [
    "def calcular_mitja(x):\n",
    "    \"\"\"\n",
    "    Calcula la mitja del vector d'entrada `x`, però qualsevol element\n",
    "    NaN ha de ser tractat com si fos un 0. NO es pot modificar el\n",
    "    vector original que es passa per paràmetre\n",
    "    \n",
    "    *NO* es poden fer servir bucles ni list-comprehensions\n",
    "    \n",
    "    :param x: np.array en forma vectorial (unidimensional)\n",
    "    :return: float amb la mitja\n",
    "    \"\"\"\n",
    "    # AQUÍ EL TEU CODI\n",
    "    return np.nan_to_num(x, 0).mean()"
   ]
  },
  {
   "cell_type": "code",
   "execution_count": 115,
   "metadata": {
    "collapsed": false,
    "jupyter": {
     "outputs_hidden": false
    }
   },
   "outputs": [
    {
     "name": "stdout",
     "output_type": "stream",
     "text": [
      "0.4757020679684071\n"
     ]
    }
   ],
   "source": [
    "vec = np.random.random(5)\n",
    "vec[np.random.randint(0, 5)] = np.nan\n",
    "print(calcular_mitja(vec))"
   ]
  },
  {
   "cell_type": "code",
   "execution_count": null,
   "metadata": {},
   "outputs": [],
   "source": []
  }
 ],
 "metadata": {
  "kernelspec": {
   "display_name": "Python 3.10.5 64-bit",
   "language": "python",
   "name": "python3"
  },
  "language_info": {
   "codemirror_mode": {
    "name": "ipython",
    "version": 3
   },
   "file_extension": ".py",
   "mimetype": "text/x-python",
   "name": "python",
   "nbconvert_exporter": "python",
   "pygments_lexer": "ipython3",
   "version": "3.10.5"
  },
  "vscode": {
   "interpreter": {
    "hash": "ad2117d8da04c720903da65ba8862d63b2fb82849cd17efbeca69c80f28b43db"
   }
  }
 },
 "nbformat": 4,
 "nbformat_minor": 4
}
