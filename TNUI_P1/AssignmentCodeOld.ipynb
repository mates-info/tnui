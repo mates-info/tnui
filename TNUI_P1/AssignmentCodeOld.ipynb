{
 "cells": [
  {
   "cell_type": "markdown",
   "id": "portuguese-edwards",
   "metadata": {},
   "source": [
    "**NOMS I COGNOMS: ANTONIO TIGRI VALDIVIA & ANDREU VALL HERNÀNDEZ** \n",
    "\n",
    "**GRUP DE LABORATORI: F**"
   ]
  },
  {
   "cell_type": "markdown",
   "id": "diverse-closure",
   "metadata": {},
   "source": [
    "# Anàlisi exploratòria de dades i preprocessament \n",
    "\n",
    "L'**anàlisi exploratòria de dades** és el tractament estadístic al qual se sotmeten les mostres recollides durant un procés de recerca en qualsevol camp científic. \n",
    "Per a major rapidesa i precisió, tot el procés sol realitzar-se per mitjans informàtics, amb aplicacions específiques per al tractament estadístic.\n",
    "\n",
    "### Aplicació a la Mineria de Dades\n",
    "\n",
    "A la **mineria de dades**, si bé no és obligatori, és una bona pràctica analitzar les dades amb què treballarem per tal d'observar-ne les característiques principals per tal de tenir una idea de l'estructura del conjunt de dades, identificar la variable objectiu i possibles tècniques de modelatge.\n",
    "\n",
    "**Procés bàsic**\n",
    "- *Transformar les dades*: Ens serveix per saber què fer front a valors nuls, faltants o dades atípiques. A més destablir si hi ha necessitat de reduir la dimensionalitat de dades.\n",
    "- *Visualitzar*: Utilitzar alguna eina per fer una representació gràfica de les dades, per exemple, R, Jupyter notebook, Google Colab, etc.\n",
    "- *Analitzar i interpretar*: Analitzar i interpretar les dades a través de diferents visualitzacions.\n",
    "- *Documentar*: Documentar totes les gràfiques i estadístiques generades.\n",
    "\n",
    "Aquest procés ens és útil també en revisar la descripció de les dades per comprendre què significa cada característica.\n",
    "\n",
    "Hi ha diverses activitats en fer una anàlisi exploratòria de dades però quant a la mineria de dades els punts clau que s'han de realitzar són:\n",
    "\n",
    "- Descripció de l'estructura de les dades.\n",
    "- Identificació de dades mancants.# ¿Com ha afectat la covid a l'ús dels taxis a Nova York? \n",
    "- Detecció de valors atípics.\n",
    "- Identificació de relacions entre parells variables.\n",
    "\n",
    "Si realitzem correctament els passos ens facilitarem la manera d'abordar aquestes dades sense deixar de banda l'objectiu o el propòsit per al qual les necessitem."
   ]
  },
  {
   "cell_type": "markdown",
   "id": "cellular-animation",
   "metadata": {},
   "source": [
    "L'**objectiu d'aquesta pràctica** és aprendre com fer una explicació de dades. En aquest cas utilitzarem les dades dels **taxis grocs de la ciutat de Nova York**.\n",
    "\n",
    "En finalitzar el notebook, haureu de ser capaços de respondre la pregunta següent:\n",
    "\n",
    "\n",
    "## ¿Com ha afectat la covid a l'ús dels taxis a Nova York? \n",
    "\n",
    "Algunes de les preguntes que ens farem al llarg del notebook són:\n",
    "- Com ha canviat la covid l'ús dels taxis a NYC?\n",
    "- Quina distribució d'encàrrecs segueixen els taxis i quina distància / durada tenen?\n",
    "- Quines són les zones on m'és / menys taxis s'agafen? I a on més va la gent?\n",
    "- Quins horaris són els més usuals?\n",
    "- Quins dies de la setmana i del mes s'utilitzen més? Possibles motius?"
   ]
  },
  {
   "cell_type": "markdown",
   "id": "innocent-receptor",
   "metadata": {},
   "source": [
    "**Instal·lació i importació de les llibreries necessàries**"
   ]
  },
  {
   "cell_type": "code",
   "execution_count": 3,
   "id": "sharing-bridges",
   "metadata": {
    "tags": []
   },
   "outputs": [
    {
     "name": "stdout",
     "output_type": "stream",
     "text": [
      "Requirement already satisfied: pyarrow in c:\\users\\andreu vall\\appdata\\local\\programs\\python\\python310\\lib\\site-packages (9.0.0)"
     ]
    },
    {
     "name": "stderr",
     "output_type": "stream",
     "text": [
      "WARNING: Ignoring invalid distribution -pencv-python (c:\\users\\andreu vall\\appdata\\local\\programs\\python\\python310\\lib\\site-packages)\n",
      "WARNING: Ignoring invalid distribution -pencv-python (c:\\users\\andreu vall\\appdata\\local\\programs\\python\\python310\\lib\\site-packages)\n",
      "WARNING: Ignoring invalid distribution -pencv-python (c:\\users\\andreu vall\\appdata\\local\\programs\\python\\python310\\lib\\site-packages)\n",
      "WARNING: Ignoring invalid distribution -pencv-python (c:\\users\\andreu vall\\appdata\\local\\programs\\python\\python310\\lib\\site-packages)\n",
      "WARNING: Ignoring invalid distribution -pencv-python (c:\\users\\andreu vall\\appdata\\local\\programs\\python\\python310\\lib\\site-packages)\n",
      "WARNING: Ignoring invalid distribution -pencv-python (c:\\users\\andreu vall\\appdata\\local\\programs\\python\\python310\\lib\\site-packages)\n"
     ]
    },
    {
     "name": "stdout",
     "output_type": "stream",
     "text": [
      "\n",
      "Requirement already satisfied: numpy>=1.16.6 in c:\\users\\andreu vall\\appdata\\local\\programs\\python\\python310\\lib\\site-packages (from pyarrow) (1.21.5)\n",
      "Requirement already satisfied: pyshp in c:\\users\\andreu vall\\appdata\\local\\programs\\python\\python310\\lib\\site-packages (2.3.1)\n"
     ]
    },
    {
     "name": "stderr",
     "output_type": "stream",
     "text": [
      "WARNING: Ignoring invalid distribution -pencv-python (c:\\users\\andreu vall\\appdata\\local\\programs\\python\\python310\\lib\\site-packages)\n",
      "WARNING: Ignoring invalid distribution -pencv-python (c:\\users\\andreu vall\\appdata\\local\\programs\\python\\python310\\lib\\site-packages)\n",
      "WARNING: Ignoring invalid distribution -pencv-python (c:\\users\\andreu vall\\appdata\\local\\programs\\python\\python310\\lib\\site-packages)\n",
      "WARNING: Ignoring invalid distribution -pencv-python (c:\\users\\andreu vall\\appdata\\local\\programs\\python\\python310\\lib\\site-packages)\n",
      "WARNING: Ignoring invalid distribution -pencv-python (c:\\users\\andreu vall\\appdata\\local\\programs\\python\\python310\\lib\\site-packages)\n",
      "WARNING: Ignoring invalid distribution -pencv-python (c:\\users\\andreu vall\\appdata\\local\\programs\\python\\python310\\lib\\site-packages)\n"
     ]
    },
    {
     "name": "stdout",
     "output_type": "stream",
     "text": [
      "Requirement already satisfied: shapely in c:\\users\\andreu vall\\appdata\\local\\programs\\python\\python310\\lib\\site-packages (1.8.4)\n"
     ]
    },
    {
     "name": "stderr",
     "output_type": "stream",
     "text": [
      "WARNING: Ignoring invalid distribution -pencv-python (c:\\users\\andreu vall\\appdata\\local\\programs\\python\\python310\\lib\\site-packages)\n",
      "WARNING: Ignoring invalid distribution -pencv-python (c:\\users\\andreu vall\\appdata\\local\\programs\\python\\python310\\lib\\site-packages)\n",
      "WARNING: Ignoring invalid distribution -pencv-python (c:\\users\\andreu vall\\appdata\\local\\programs\\python\\python310\\lib\\site-packages)\n",
      "WARNING: Ignoring invalid distribution -pencv-python (c:\\users\\andreu vall\\appdata\\local\\programs\\python\\python310\\lib\\site-packages)\n",
      "WARNING: Ignoring invalid distribution -pencv-python (c:\\users\\andreu vall\\appdata\\local\\programs\\python\\python310\\lib\\site-packages)\n",
      "WARNING: Ignoring invalid distribution -pencv-python (c:\\users\\andreu vall\\appdata\\local\\programs\\python\\python310\\lib\\site-packages)\n"
     ]
    },
    {
     "name": "stdout",
     "output_type": "stream",
     "text": [
      "Requirement already satisfied: descartes in c:\\users\\andreu vall\\appdata\\local\\programs\\python\\python310\\lib\\site-packages (1.1.0)\n",
      "Requirement already satisfied: matplotlib in c:\\users\\andreu vall\\appdata\\local\\programs\\python\\python310\\lib\\site-packages (from descartes) (3.5.1)\n",
      "Requirement already satisfied: pillow>=6.2.0 in c:\\users\\andreu vall\\appdata\\local\\programs\\python\\python310\\lib\\site-packages (from matplotlib->descartes) (8.4.0)\n",
      "Requirement already satisfied: cycler>=0.10 in c:\\users\\andreu vall\\appdata\\local\\programs\\python\\python310\\lib\\site-packages (from matplotlib->descartes) (0.11.0)\n",
      "Requirement already satisfied: numpy>=1.17 in c:\\users\\andreu vall\\appdata\\local\\programs\\python\\python310\\lib\\site-packages (from matplotlib->descartes) (1.21.5)\n",
      "Requirement already satisfied: packaging>=20.0 in c:\\users\\andreu vall\\appdata\\local\\programs\\python\\python310\\lib\\site-packages (from matplotlib->descartes) (21.3)\n",
      "Requirement already satisfied: pyparsing>=2.2.1 in c:\\users\\andreu vall\\appdata\\local\\programs\\python\\python310\\lib\\site-packages (from matplotlib->descartes) (3.0.6)\n",
      "Requirement already satisfied: kiwisolver>=1.0.1 in c:\\users\\andreu vall\\appdata\\local\\programs\\python\\python310\\lib\\site-packages (from matplotlib->descartes) (1.3.2)\n",
      "Requirement already satisfied: python-dateutil>=2.7 in c:\\users\\andreu vall\\appdata\\local\\programs\\python\\python310\\lib\\site-packages (from matplotlib->descartes) (2.8.2)\n",
      "Requirement already satisfied: fonttools>=4.22.0 in c:\\users\\andreu vall\\appdata\\local\\programs\\python\\python310\\lib\\site-packages (from matplotlib->descartes) (4.28.5)\n",
      "Requirement already satisfied: six>=1.5 in c:\\users\\andreu vall\\appdata\\local\\programs\\python\\python310\\lib\\site-packages (from python-dateutil>=2.7->matplotlib->descartes) (1.16.0)\n"
     ]
    },
    {
     "name": "stderr",
     "output_type": "stream",
     "text": [
      "WARNING: Ignoring invalid distribution -pencv-python (c:\\users\\andreu vall\\appdata\\local\\programs\\python\\python310\\lib\\site-packages)\n",
      "WARNING: Ignoring invalid distribution -pencv-python (c:\\users\\andreu vall\\appdata\\local\\programs\\python\\python310\\lib\\site-packages)\n",
      "WARNING: Ignoring invalid distribution -pencv-python (c:\\users\\andreu vall\\appdata\\local\\programs\\python\\python310\\lib\\site-packages)\n",
      "WARNING: Ignoring invalid distribution -pencv-python (c:\\users\\andreu vall\\appdata\\local\\programs\\python\\python310\\lib\\site-packages)\n",
      "WARNING: Ignoring invalid distribution -pencv-python (c:\\users\\andreu vall\\appdata\\local\\programs\\python\\python310\\lib\\site-packages)\n",
      "WARNING: Ignoring invalid distribution -pencv-python (c:\\users\\andreu vall\\appdata\\local\\programs\\python\\python310\\lib\\site-packages)\n"
     ]
    }
   ],
   "source": [
    "! pip install pyarrow\n",
    "! pip install pyshp\n",
    "! pip install shapely\n",
    "! pip install descartes"
   ]
  },
  {
   "cell_type": "code",
   "execution_count": 2,
   "id": "anonymous-freeware",
   "metadata": {},
   "outputs": [],
   "source": [
    "# Importació de les llibreries\n",
    "import pandas as pd\n",
    "import numpy as np\n",
    "import urllib.request\n",
    "import zipfile\n",
    "import os\n",
    "from tqdm.notebook import tqdm\n",
    "import pyarrow.parquet as pq"
   ]
  },
  {
   "cell_type": "code",
   "execution_count": 4,
   "id": "changing-simpson",
   "metadata": {},
   "outputs": [],
   "source": [
    "import shapefile\n",
    "from shapely.geometry import Polygon\n",
    "from descartes.patch import PolygonPatch\n",
    "import seaborn as sns\n",
    "import matplotlib as mpl\n",
    "import matplotlib.pyplot as plt\n",
    "%matplotlib inline"
   ]
  },
  {
   "cell_type": "code",
   "execution_count": 5,
   "id": "recreational-legislation",
   "metadata": {},
   "outputs": [],
   "source": [
    "# Variables globals\n",
    "YEARS = [2019, 2020, 2021]"
   ]
  },
  {
   "cell_type": "markdown",
   "id": "colonial-professor",
   "metadata": {},
   "source": [
    "Primer de tot cal descarregar les dades:\n",
    "\n",
    "https://www1.nyc.gov/site/tlc/about/tlc-trip-record-data.page"
   ]
  },
  {
   "cell_type": "code",
   "execution_count": 6,
   "id": "seventh-radius",
   "metadata": {
    "tags": []
   },
   "outputs": [
    {
     "data": {
      "application/vnd.jupyter.widget-view+json": {
       "model_id": "f9054c1ddf8b4196ad6199ae98aa2c33",
       "version_major": 2,
       "version_minor": 0
      },
      "text/plain": [
       "  0%|          | 0/3 [00:00<?, ?it/s]"
      ]
     },
     "metadata": {},
     "output_type": "display_data"
    }
   ],
   "source": [
    "# Download the Trip Record Data\n",
    "for year in tqdm(YEARS):\n",
    "    if not os.path.exists(f'data/{year}'):\n",
    "        os.makedirs(f'data/{year}', exist_ok=True)\n",
    "        for month in tqdm(range(1, 13)): \n",
    "            urllib.request.urlretrieve(f'https://d37ci6vzurychx.cloudfront.net/trip-data/yellow_tripdata_{year}-{month:02d}.parquet', f'data/{year}/{month:02d}.parquet')"
   ]
  },
  {
   "cell_type": "markdown",
   "id": "warming-shore",
   "metadata": {},
   "source": [
    "## 01. Neteja de dades\n",
    "\n",
    "Per tal de tenir unes dades netes i útils, cal eliminar totes aquelles files que continguin informació corrupta:\n",
    "- La recollida és després que la finalització del trajecte.\n",
    "- Les dades s'importen per mes i any. Les dates són correctes?\n",
    "- Viatges amb 0 passatges?\n",
    "- Viatges molts llargs o molt curts?\n",
    "- Pagaments negatius."
   ]
  },
  {
   "cell_type": "markdown",
   "id": "decent-aaron",
   "metadata": {},
   "source": [
    "**Data Dictionary**\n",
    "\n",
    "De totes les columnes que tenen les dades, només calen les següents:\n",
    "\n",
    "- *tpep_pickup_datetime*: The date and time when the meter was engaged.\n",
    "- *tpep_dropoff_datetime*: The date and time when the meter was disengaged. \n",
    "- *Passenger_count*: The number of passengers in the vehicle. (This is a driver-entered value)\n",
    "- *Trip_distance*: The elapsed trip distance in miles reported by the taximeter.\n",
    "- *PULocationID*: TLC Taxi Zone in which the taximeter was engaged\n",
    "- *DOLocationID*: TLC Taxi Zone in which the taximeter was disengaged\n",
    "- *Payment_type*: A numeric code signifying how the passenger paid for the trip. \n",
    "    - 1= Credit card\n",
    "    - 2= Cash\n",
    "    - 3= No charge\n",
    "    - 4= Dispute\n",
    "    - 5= Unknown\n",
    "    - 6= Voided trip\n",
    "- *Fare_amount*: The time-and-distance fare calculated by the meter.\n",
    "- *Total_amount*: The total amount charged to passengers. Does not include cash tips."
   ]
  },
  {
   "cell_type": "code",
   "execution_count": 7,
   "id": "boxed-exemption",
   "metadata": {},
   "outputs": [],
   "source": [
    "def load_table(year, month):\n",
    "    \"\"\"\n",
    "    Funció que llegeix les dades descarregades i les converteix a un DataFrame\n",
    "    \"\"\"\n",
    "    return pq.read_table(f'data/{year}/{str(month).zfill(2)}.parquet').to_pandas()"
   ]
  },
  {
   "cell_type": "code",
   "execution_count": 8,
   "id": "eebf78f5",
   "metadata": {},
   "outputs": [
    {
     "data": {
      "text/html": [
       "<div>\n",
       "<style scoped>\n",
       "    .dataframe tbody tr th:only-of-type {\n",
       "        vertical-align: middle;\n",
       "    }\n",
       "\n",
       "    .dataframe tbody tr th {\n",
       "        vertical-align: top;\n",
       "    }\n",
       "\n",
       "    .dataframe thead th {\n",
       "        text-align: right;\n",
       "    }\n",
       "</style>\n",
       "<table border=\"1\" class=\"dataframe\">\n",
       "  <thead>\n",
       "    <tr style=\"text-align: right;\">\n",
       "      <th></th>\n",
       "      <th>VendorID</th>\n",
       "      <th>tpep_pickup_datetime</th>\n",
       "      <th>tpep_dropoff_datetime</th>\n",
       "      <th>passenger_count</th>\n",
       "      <th>trip_distance</th>\n",
       "      <th>RatecodeID</th>\n",
       "      <th>store_and_fwd_flag</th>\n",
       "      <th>PULocationID</th>\n",
       "      <th>DOLocationID</th>\n",
       "      <th>payment_type</th>\n",
       "      <th>fare_amount</th>\n",
       "      <th>extra</th>\n",
       "      <th>mta_tax</th>\n",
       "      <th>tip_amount</th>\n",
       "      <th>tolls_amount</th>\n",
       "      <th>improvement_surcharge</th>\n",
       "      <th>total_amount</th>\n",
       "      <th>congestion_surcharge</th>\n",
       "      <th>airport_fee</th>\n",
       "    </tr>\n",
       "  </thead>\n",
       "  <tbody>\n",
       "    <tr>\n",
       "      <th>0</th>\n",
       "      <td>1</td>\n",
       "      <td>2019-01-01 00:46:40</td>\n",
       "      <td>2019-01-01 00:53:20</td>\n",
       "      <td>1.0</td>\n",
       "      <td>1.5</td>\n",
       "      <td>1.0</td>\n",
       "      <td>N</td>\n",
       "      <td>151</td>\n",
       "      <td>239</td>\n",
       "      <td>1</td>\n",
       "      <td>7.0</td>\n",
       "      <td>0.5</td>\n",
       "      <td>0.5</td>\n",
       "      <td>1.65</td>\n",
       "      <td>0.0</td>\n",
       "      <td>0.3</td>\n",
       "      <td>9.95</td>\n",
       "      <td>NaN</td>\n",
       "      <td>None</td>\n",
       "    </tr>\n",
       "    <tr>\n",
       "      <th>1</th>\n",
       "      <td>1</td>\n",
       "      <td>2019-01-01 00:59:47</td>\n",
       "      <td>2019-01-01 01:18:59</td>\n",
       "      <td>1.0</td>\n",
       "      <td>2.6</td>\n",
       "      <td>1.0</td>\n",
       "      <td>N</td>\n",
       "      <td>239</td>\n",
       "      <td>246</td>\n",
       "      <td>1</td>\n",
       "      <td>14.0</td>\n",
       "      <td>0.5</td>\n",
       "      <td>0.5</td>\n",
       "      <td>1.00</td>\n",
       "      <td>0.0</td>\n",
       "      <td>0.3</td>\n",
       "      <td>16.30</td>\n",
       "      <td>NaN</td>\n",
       "      <td>None</td>\n",
       "    </tr>\n",
       "    <tr>\n",
       "      <th>2</th>\n",
       "      <td>2</td>\n",
       "      <td>2018-12-21 13:48:30</td>\n",
       "      <td>2018-12-21 13:52:40</td>\n",
       "      <td>3.0</td>\n",
       "      <td>0.0</td>\n",
       "      <td>1.0</td>\n",
       "      <td>N</td>\n",
       "      <td>236</td>\n",
       "      <td>236</td>\n",
       "      <td>1</td>\n",
       "      <td>4.5</td>\n",
       "      <td>0.5</td>\n",
       "      <td>0.5</td>\n",
       "      <td>0.00</td>\n",
       "      <td>0.0</td>\n",
       "      <td>0.3</td>\n",
       "      <td>5.80</td>\n",
       "      <td>NaN</td>\n",
       "      <td>None</td>\n",
       "    </tr>\n",
       "    <tr>\n",
       "      <th>3</th>\n",
       "      <td>2</td>\n",
       "      <td>2018-11-28 15:52:25</td>\n",
       "      <td>2018-11-28 15:55:45</td>\n",
       "      <td>5.0</td>\n",
       "      <td>0.0</td>\n",
       "      <td>1.0</td>\n",
       "      <td>N</td>\n",
       "      <td>193</td>\n",
       "      <td>193</td>\n",
       "      <td>2</td>\n",
       "      <td>3.5</td>\n",
       "      <td>0.5</td>\n",
       "      <td>0.5</td>\n",
       "      <td>0.00</td>\n",
       "      <td>0.0</td>\n",
       "      <td>0.3</td>\n",
       "      <td>7.55</td>\n",
       "      <td>NaN</td>\n",
       "      <td>None</td>\n",
       "    </tr>\n",
       "    <tr>\n",
       "      <th>4</th>\n",
       "      <td>2</td>\n",
       "      <td>2018-11-28 15:56:57</td>\n",
       "      <td>2018-11-28 15:58:33</td>\n",
       "      <td>5.0</td>\n",
       "      <td>0.0</td>\n",
       "      <td>2.0</td>\n",
       "      <td>N</td>\n",
       "      <td>193</td>\n",
       "      <td>193</td>\n",
       "      <td>2</td>\n",
       "      <td>52.0</td>\n",
       "      <td>0.0</td>\n",
       "      <td>0.5</td>\n",
       "      <td>0.00</td>\n",
       "      <td>0.0</td>\n",
       "      <td>0.3</td>\n",
       "      <td>55.55</td>\n",
       "      <td>NaN</td>\n",
       "      <td>None</td>\n",
       "    </tr>\n",
       "  </tbody>\n",
       "</table>\n",
       "</div>"
      ],
      "text/plain": [
       "   VendorID tpep_pickup_datetime tpep_dropoff_datetime  passenger_count  \\\n",
       "0         1  2019-01-01 00:46:40   2019-01-01 00:53:20              1.0   \n",
       "1         1  2019-01-01 00:59:47   2019-01-01 01:18:59              1.0   \n",
       "2         2  2018-12-21 13:48:30   2018-12-21 13:52:40              3.0   \n",
       "3         2  2018-11-28 15:52:25   2018-11-28 15:55:45              5.0   \n",
       "4         2  2018-11-28 15:56:57   2018-11-28 15:58:33              5.0   \n",
       "\n",
       "   trip_distance  RatecodeID store_and_fwd_flag  PULocationID  DOLocationID  \\\n",
       "0            1.5         1.0                  N           151           239   \n",
       "1            2.6         1.0                  N           239           246   \n",
       "2            0.0         1.0                  N           236           236   \n",
       "3            0.0         1.0                  N           193           193   \n",
       "4            0.0         2.0                  N           193           193   \n",
       "\n",
       "   payment_type  fare_amount  extra  mta_tax  tip_amount  tolls_amount  \\\n",
       "0             1          7.0    0.5      0.5        1.65           0.0   \n",
       "1             1         14.0    0.5      0.5        1.00           0.0   \n",
       "2             1          4.5    0.5      0.5        0.00           0.0   \n",
       "3             2          3.5    0.5      0.5        0.00           0.0   \n",
       "4             2         52.0    0.0      0.5        0.00           0.0   \n",
       "\n",
       "   improvement_surcharge  total_amount  congestion_surcharge airport_fee  \n",
       "0                    0.3          9.95                   NaN        None  \n",
       "1                    0.3         16.30                   NaN        None  \n",
       "2                    0.3          5.80                   NaN        None  \n",
       "3                    0.3          7.55                   NaN        None  \n",
       "4                    0.3         55.55                   NaN        None  "
      ]
     },
     "execution_count": 8,
     "metadata": {},
     "output_type": "execute_result"
    }
   ],
   "source": [
    "df = load_table(2019, 1)\n",
    "df.head()"
   ]
  },
  {
   "cell_type": "code",
   "execution_count": 9,
   "id": "f9082b45",
   "metadata": {},
   "outputs": [
    {
     "name": "stdout",
     "output_type": "stream",
     "text": [
      "<class 'pandas.core.frame.DataFrame'>\n",
      "RangeIndex: 7696617 entries, 0 to 7696616\n",
      "Data columns (total 19 columns):\n",
      " #   Column                 Dtype         \n",
      "---  ------                 -----         \n",
      " 0   VendorID               int64         \n",
      " 1   tpep_pickup_datetime   datetime64[ns]\n",
      " 2   tpep_dropoff_datetime  datetime64[ns]\n",
      " 3   passenger_count        float64       \n",
      " 4   trip_distance          float64       \n",
      " 5   RatecodeID             float64       \n",
      " 6   store_and_fwd_flag     object        \n",
      " 7   PULocationID           int64         \n",
      " 8   DOLocationID           int64         \n",
      " 9   payment_type           int64         \n",
      " 10  fare_amount            float64       \n",
      " 11  extra                  float64       \n",
      " 12  mta_tax                float64       \n",
      " 13  tip_amount             float64       \n",
      " 14  tolls_amount           float64       \n",
      " 15  improvement_surcharge  float64       \n",
      " 16  total_amount           float64       \n",
      " 17  congestion_surcharge   float64       \n",
      " 18  airport_fee            object        \n",
      "dtypes: datetime64[ns](2), float64(11), int64(4), object(2)\n",
      "memory usage: 1.1+ GB\n"
     ]
    }
   ],
   "source": [
    "df.info()"
   ]
  },
  {
   "cell_type": "markdown",
   "id": "52ea3e09",
   "metadata": {},
   "source": [
    "### Temporal"
   ]
  },
  {
   "cell_type": "code",
   "execution_count": 1,
   "id": "f35aba1e",
   "metadata": {},
   "outputs": [
    {
     "name": "stdout",
     "output_type": "stream",
     "text": [
      "hello\n"
     ]
    }
   ],
   "source": [
    "print('hello')"
   ]
  },
  {
   "cell_type": "code",
   "execution_count": 14,
   "id": "da076417",
   "metadata": {},
   "outputs": [
    {
     "name": "stderr",
     "output_type": "stream",
     "text": [
      "c:\\Users\\Andreu Vall\\AppData\\Local\\Programs\\Python\\Python310\\lib\\site-packages\\seaborn\\_decorators.py:36: FutureWarning: Pass the following variable as a keyword arg: x. From version 0.12, the only valid positional argument will be `data`, and passing other arguments without an explicit keyword will result in an error or misinterpretation.\n",
      "  warnings.warn(\n"
     ]
    },
    {
     "data": {
      "text/plain": [
       "<AxesSubplot:xlabel='trip_distance'>"
      ]
     },
     "execution_count": 14,
     "metadata": {},
     "output_type": "execute_result"
    },
    {
     "data": {
      "image/png": "[encoded data removed]",
      "text/plain": [
       "<Figure size 432x288 with 1 Axes>"
      ]
     },
     "metadata": {
      "needs_background": "light"
     },
     "output_type": "display_data"
    }
   ],
   "source": [
    "import seaborn as sns\n",
    "\n",
    "sns.boxplot(df['trip_distance'])"
   ]
  },
  {
   "cell_type": "code",
   "execution_count": 15,
   "id": "19829ed2",
   "metadata": {},
   "outputs": [
    {
     "data": {
      "text/plain": [
       "40.92045599989593"
      ]
     },
     "execution_count": 15,
     "metadata": {},
     "output_type": "execute_result"
    }
   ],
   "source": [
    "df['trip_distance'].quantile(0.9999)"
   ]
  },
  {
   "cell_type": "code",
   "execution_count": 16,
   "id": "2489dfa4",
   "metadata": {},
   "outputs": [
    {
     "data": {
      "text/plain": [
       "<AxesSubplot:>"
      ]
     },
     "execution_count": 16,
     "metadata": {},
     "output_type": "execute_result"
    },
    {
     "data": {
      "image/png": "[encoded data removed]",
      "text/plain": [
       "<Figure size 432x288 with 1 Axes>"
      ]
     },
     "metadata": {
      "needs_background": "light"
     },
     "output_type": "display_data"
    }
   ],
   "source": [
    "df['trip_distance'].value_counts().sort_index()[:2].plot()"
   ]
  },
  {
   "cell_type": "code",
   "execution_count": 17,
   "id": "39d5a5e1",
   "metadata": {},
   "outputs": [
    {
     "data": {
      "text/plain": [
       "6074091    831.80\n",
       "4286633    700.70\n",
       "6770985    214.01\n",
       "4707534    211.36\n",
       "4881785    201.27\n",
       "4813335    160.52\n",
       "2567443    144.20\n",
       "4876419    143.63\n",
       "1144939    142.88\n",
       "4911314    132.80\n",
       "5040312    131.47\n",
       "11081      128.73\n",
       "6079106    128.26\n",
       "5000014    123.42\n",
       "6119084    121.80\n",
       "56478      119.80\n",
       "6405325    115.85\n",
       "1128063    113.71\n",
       "6554780    113.58\n",
       "7393138    112.82\n",
       "3842652    110.04\n",
       "2889446    109.90\n",
       "1369064    108.50\n",
       "3421033    107.80\n",
       "3449602    107.80\n",
       "3449600    107.80\n",
       "3449601    107.80\n",
       "5496704    102.20\n",
       "6849487    101.76\n",
       "2841025    100.80\n",
       "2841024    100.80\n",
       "4751765    100.78\n",
       "3001530     98.38\n",
       "4663116     96.13\n",
       "4223591     91.86\n",
       "4949371     91.59\n",
       "4160626     91.00\n",
       "1408140     90.91\n",
       "795597      89.18\n",
       "6853379     89.09\n",
       "6612129     88.68\n",
       "6786671     88.06\n",
       "195974      86.90\n",
       "1377473     85.12\n",
       "5080928     84.30\n",
       "1851890     83.87\n",
       "7593546     83.61\n",
       "6702788     83.31\n",
       "188418      82.95\n",
       "1986918     82.65\n",
       "Name: trip_distance, dtype: float64"
      ]
     },
     "execution_count": 17,
     "metadata": {},
     "output_type": "execute_result"
    }
   ],
   "source": [
    "df['trip_distance'].sort_values(ascending=False).head(50)"
   ]
  },
  {
   "cell_type": "code",
   "execution_count": 18,
   "id": "b8b4c409",
   "metadata": {},
   "outputs": [
    {
     "data": {
      "text/plain": [
       "<AxesSubplot:ylabel='Frequency'>"
      ]
     },
     "execution_count": 18,
     "metadata": {},
     "output_type": "execute_result"
    },
    {
     "data": {
      "image/png": "[encoded data removed]",
      "text/plain": [
       "<Figure size 432x288 with 1 Axes>"
      ]
     },
     "metadata": {
      "needs_background": "light"
     },
     "output_type": "display_data"
    }
   ],
   "source": [
    "import matplotlib.pyplot as plt\n",
    "\n",
    "df['trip_distance'].plot(kind='hist')"
   ]
  },
  {
   "cell_type": "markdown",
   "id": "6cb06a57",
   "metadata": {},
   "source": [
    "### Fi temporal"
   ]
  },
  {
   "cell_type": "code",
   "execution_count": 14,
   "id": "hired-paint",
   "metadata": {
    "tags": []
   },
   "outputs": [
    {
     "ename": "SyntaxError",
     "evalue": "invalid decimal literal (Temp/ipykernel_3064/3699054930.py, line 4)",
     "output_type": "error",
     "traceback": [
      "\u001b[1;36m  File \u001b[1;32m\"C:\\Users\\ANDREU~1\\AppData\\Local\\Temp/ipykernel_3064/3699054930.py\"\u001b[1;36m, line \u001b[1;32m4\u001b[0m\n\u001b[1;33m    def clean_data(data : pd.DataFrame, year, month, sampling=0._ratio05):\u001b[0m\n\u001b[1;37m                                                               ^\u001b[0m\n\u001b[1;31mSyntaxError\u001b[0m\u001b[1;31m:\u001b[0m invalid decimal literal\n"
     ]
    }
   ],
   "source": [
    "required_data = ['tpep_pickup_datetime', 'tpep_dropoff_datetime', 'passenger_count', 'trip_distance', 'PULocationID', \\\n",
    "    'DOLocationID', 'payment_type', 'fare_amount', 'total_amount']\n",
    "\n",
    "def clean_data(data : pd.DataFrame, year, month, sampling_ratio05):\n",
    "    \"\"\"\n",
    "    Funció que neteja les dades per un mes donat.\n",
    "    \"\"\"\n",
    "\n",
    "    # We reduce the amount of data before cleaning it to reduce the amount of data to be cleaned.\n",
    "    #   - First we store the amount of rows that would stay after sampling\n",
    "    #   - Then we take a sample 5% larger than the actual sample percentage that we want to get\n",
    "    #     in order to avoid cleaning more data that the exact amount we want to sample.\n",
    "\n",
    "    sampling_rows = round(data.shape[0] * sampling_ratio)\n",
    "    preprocessing_ratio = min(1, sampling_ratio + 0.05)\n",
    "    data = data.sample(round(data.shape[0] * preprocessing_ratio))\n",
    "\n",
    "    #We will \n",
    "\n",
    "    data = data[required_data].copy()\n",
    "    \n",
    "    for col in ['tpep_pickup_datetime', 'tpep_dropoff_datetime']:\n",
    "        data[col] = pd.to_datetime(data[col])\n",
    "    \n",
    "    invalid_pickup_date = (data['tpep_pickup_datetime'].dt.year!=year) | (data['tpep_pickup_datetime'].dt.month!=month)\n",
    "    invalid_dropoff_date = (data['tpep_dropoff_datetime'].dt.year!=year) | (data['tpep_dropoff_datetime'].dt.month!=month)\n",
    "\n",
    "    null_passengers = (data['passenger_count'] == 0) | data['passenger_count'].isna()\n",
    "\n",
    "    #MAX dist: 30 miles, reasons: percentils, manhattan perimeter, nyc straight line length\n",
    "    #MIN dist: 0.3 miles, reasons: percentils, absurd distance to take a taxi (in general)\n",
    "    invalid_distance = (data['trip_distance'] < 0.3) | (data['trip_distance'] > 30)\n",
    "    invalid_pickup_dropoff_times = data['tpep_pickup_datetime'] > data['tpep_dropoff_datetime']\n",
    "\n",
    "    invalid_fare = (data['total_amount'] < 0) | (data['total_amount'] > 500)\n",
    "\n",
    "    invalid_data = invalid_pickup_date | invalid_dropoff_date | null_passengers | invalid_distance | invalid_pickup_dropoff_times | invalid_fare\n",
    "\n",
    "    data.drop(invalid_data[invalid_data==True].index, inplace=True)\n",
    "    data.dropna(inplace=True)\n",
    "\n",
    "    #return data.sample(sampling_rows)\n",
    "    ret"
   ]
  },
  {
   "cell_type": "code",
   "execution_count": 13,
   "id": "4feaa4d1",
   "metadata": {},
   "outputs": [
    {
     "ename": "NameError",
     "evalue": "name 'sampling_ratio' is not defined",
     "output_type": "error",
     "traceback": [
      "\u001b[1;31m---------------------------------------------------------------------------\u001b[0m",
      "\u001b[1;31mNameError\u001b[0m                                 Traceback (most recent call last)",
      "\u001b[1;32mC:\\Users\\ANDREU~1\\AppData\\Local\\Temp/ipykernel_3064/4025828341.py\u001b[0m in \u001b[0;36m<module>\u001b[1;34m\u001b[0m\n\u001b[1;32m----> 1\u001b[1;33m \u001b[0mclean_data\u001b[0m\u001b[1;33m(\u001b[0m\u001b[0mdf\u001b[0m\u001b[1;33m,\u001b[0m \u001b[1;36m2019\u001b[0m\u001b[1;33m,\u001b[0m \u001b[1;36m1\u001b[0m\u001b[1;33m)\u001b[0m\u001b[1;33m\u001b[0m\u001b[1;33m\u001b[0m\u001b[0m\n\u001b[0m",
      "\u001b[1;32mC:\\Users\\ANDREU~1\\AppData\\Local\\Temp/ipykernel_3064/1924407493.py\u001b[0m in \u001b[0;36mclean_data\u001b[1;34m(data, year, month, sampling)\u001b[0m\n\u001b[0;32m     12\u001b[0m     \u001b[1;31m#     in order to avoid cleaning more data that the exact amount we want to sample.\u001b[0m\u001b[1;33m\u001b[0m\u001b[1;33m\u001b[0m\u001b[0m\n\u001b[0;32m     13\u001b[0m \u001b[1;33m\u001b[0m\u001b[0m\n\u001b[1;32m---> 14\u001b[1;33m     \u001b[0msampling_rows\u001b[0m \u001b[1;33m=\u001b[0m \u001b[0mround\u001b[0m\u001b[1;33m(\u001b[0m\u001b[0mdata\u001b[0m\u001b[1;33m.\u001b[0m\u001b[0mshape\u001b[0m\u001b[1;33m[\u001b[0m\u001b[1;36m0\u001b[0m\u001b[1;33m]\u001b[0m \u001b[1;33m*\u001b[0m \u001b[0msampling_ratio\u001b[0m\u001b[1;33m)\u001b[0m\u001b[1;33m\u001b[0m\u001b[1;33m\u001b[0m\u001b[0m\n\u001b[0m\u001b[0;32m     15\u001b[0m     \u001b[0mpreprocessing_ratio\u001b[0m \u001b[1;33m=\u001b[0m \u001b[0mmin\u001b[0m\u001b[1;33m(\u001b[0m\u001b[1;36m1\u001b[0m\u001b[1;33m,\u001b[0m \u001b[0msampling_ratio\u001b[0m \u001b[1;33m+\u001b[0m \u001b[1;36m0.05\u001b[0m\u001b[1;33m)\u001b[0m\u001b[1;33m\u001b[0m\u001b[1;33m\u001b[0m\u001b[0m\n\u001b[0;32m     16\u001b[0m     \u001b[0mdata\u001b[0m \u001b[1;33m=\u001b[0m \u001b[0mdata\u001b[0m\u001b[1;33m.\u001b[0m\u001b[0msample\u001b[0m\u001b[1;33m(\u001b[0m\u001b[0mround\u001b[0m\u001b[1;33m(\u001b[0m\u001b[0mdata\u001b[0m\u001b[1;33m.\u001b[0m\u001b[0mshape\u001b[0m\u001b[1;33m[\u001b[0m\u001b[1;36m0\u001b[0m\u001b[1;33m]\u001b[0m \u001b[1;33m*\u001b[0m \u001b[0mpreprocessing_ratio\u001b[0m\u001b[1;33m)\u001b[0m\u001b[1;33m)\u001b[0m\u001b[1;33m\u001b[0m\u001b[1;33m\u001b[0m\u001b[0m\n",
      "\u001b[1;31mNameError\u001b[0m: name 'sampling_ratio' is not defined"
     ]
    }
   ],
   "source": [
    "clean_data(df, 2019, 1)"
   ]
  },
  {
   "cell_type": "markdown",
   "id": "concrete-underground",
   "metadata": {},
   "source": [
    "A la funció *post_processing* podeu afegir tota aquesta informació que necessiteu sobre les dades per tal de dur a terme l'exploració necessària."
   ]
  },
  {
   "cell_type": "code",
   "execution_count": 21,
   "id": "immediate-pakistan",
   "metadata": {
    "tags": []
   },
   "outputs": [],
   "source": [
    "def post_processing(data):\n",
    "    \"\"\"\n",
    "    Funció on implementar qualsevol tipus de postprocessament necessari.\n",
    "    \"\"\"\n",
    "    # AQUÍ EL TEU CODI\n",
    "    data['year'] = data['tpep_pickup_datetime'].dt.year\n",
    "    data['month'] = data['tpep_pickup_datetime'].dt.month\n",
    "\n",
    "    return data"
   ]
  },
  {
   "cell_type": "markdown",
   "id": "systematic-slovakia",
   "metadata": {},
   "source": [
    "Crea un nou dataset que contingui tota la informació dels anys: 2019, 2020, 2021.\n",
    "\n",
    "Recordeu que per tal de reduir la memòria necessària, podeu agafar un subsample de dades."
   ]
  },
  {
   "cell_type": "code",
   "execution_count": 48,
   "id": "suspended-suicide",
   "metadata": {
    "tags": []
   },
   "outputs": [
    {
     "data": {
      "application/vnd.jupyter.widget-view+json": {
       "model_id": "5397f2a1e0f24d5d8af14ce30e474382",
       "version_major": 2,
       "version_minor": 0
      },
      "text/plain": [
       "  0%|          | 0/3 [00:00<?, ?it/s]"
      ]
     },
     "metadata": {},
     "output_type": "display_data"
    },
    {
     "data": {
      "application/vnd.jupyter.widget-view+json": {
       "model_id": "f3ba27225fb64a78914e8a5356ba2be0",
       "version_major": 2,
       "version_minor": 0
      },
      "text/plain": [
       "  0%|          | 0/12 [00:00<?, ?it/s]"
      ]
     },
     "metadata": {},
     "output_type": "display_data"
    },
    {
     "data": {
      "application/vnd.jupyter.widget-view+json": {
       "model_id": "17dcd5d162f54a749f26169ed1661d1f",
       "version_major": 2,
       "version_minor": 0
      },
      "text/plain": [
       "  0%|          | 0/12 [00:00<?, ?it/s]"
      ]
     },
     "metadata": {},
     "output_type": "display_data"
    },
    {
     "data": {
      "application/vnd.jupyter.widget-view+json": {
       "model_id": "271c32e7f085479caf0608110b09697c",
       "version_major": 2,
       "version_minor": 0
      },
      "text/plain": [
       "  0%|          | 0/12 [00:00<?, ?it/s]"
      ]
     },
     "metadata": {},
     "output_type": "display_data"
    }
   ],
   "source": [
    "sampling_ratio = 0.05\n",
    "df = pd.concat([clean_data(load_table(year, month), year, month) for year in tqdm(YEARS) for month in tqdm(range(1, 13), leave = False)])"
   ]
  },
  {
   "cell_type": "code",
   "execution_count": 49,
   "id": "6f540cef",
   "metadata": {},
   "outputs": [
    {
     "name": "stdout",
     "output_type": "stream",
     "text": [
      "<class 'pandas.core.frame.DataFrame'>\n",
      "Int64Index: 131616634 entries, 0 to 3111996\n",
      "Data columns (total 9 columns):\n",
      " #   Column                 Dtype         \n",
      "---  ------                 -----         \n",
      " 0   tpep_pickup_datetime   datetime64[ns]\n",
      " 1   tpep_dropoff_datetime  datetime64[ns]\n",
      " 2   passenger_count        float64       \n",
      " 3   trip_distance          float64       \n",
      " 4   PULocationID           int64         \n",
      " 5   DOLocationID           int64         \n",
      " 6   payment_type           int64         \n",
      " 7   fare_amount            float64       \n",
      " 8   total_amount           float64       \n",
      "dtypes: datetime64[ns](2), float64(4), int64(3)\n",
      "memory usage: 9.8 GB\n"
     ]
    }
   ],
   "source": [
    "df.info()"
   ]
  },
  {
   "cell_type": "code",
   "execution_count": 53,
   "id": "indonesian-indication",
   "metadata": {},
   "outputs": [
    {
     "data": {
      "text/plain": [
       "(131616634, 11)"
      ]
     },
     "execution_count": 53,
     "metadata": {},
     "output_type": "execute_result"
    }
   ],
   "source": [
    "df = post_processing(df)\n",
    "df.shape"
   ]
  },
  {
   "cell_type": "markdown",
   "id": "loving-karen",
   "metadata": {},
   "source": [
    "## 02. Visualitzacions per anys"
   ]
  },
  {
   "cell_type": "markdown",
   "id": "liquid-plasma",
   "metadata": {},
   "source": [
    "### Número total sobre quantitat de viatges\n",
    "\n",
    "Podem respondre directament la pregunta: **¿Ha incrementat / disminuït la covid la quantitat de viatges fets amb taxis?**\n",
    "\n",
    "Per respondre aquesta pregunta creu una figura de barres on es visualitzin la quantitat de viatges per any."
   ]
  },
  {
   "cell_type": "code",
   "execution_count": 54,
   "id": "corrected-washer",
   "metadata": {},
   "outputs": [],
   "source": [
    "def bar_plot(df, column, xlabel, ylabel, title, sampling_ratio):\n",
    "    \"\"\"\n",
    "    Funció que crea una figura de barres a partir del dataframe i la columna que conté la informació\n",
    "    \"\"\"\n",
    "    \n",
    "    '''\n",
    "    We group the dataframe by the desired column and then get the size to \n",
    "    obtain the number of data that have each value of said column\n",
    "    Notice that we divided by the sampling ratio to recover the original value\n",
    "    Note that this original value carries both the invalid data and rounding, making\n",
    "    it slightly imprecise, but it still serves the purpose of comparing the amount\n",
    "    of trips done each year. \n",
    "    '''\n",
    "    data = df.groupby(column).size() / sampling_ratio\n",
    "\n",
    "    \n",
    "    # We will use seaborn's bar plot since it is the easiest to implement\n",
    "    # while being visually pleasant\n",
    "    sns.barplot(x=data.index, y=data)\n",
    "    \n",
    "    # We add the titles and labels to the plot\n",
    "    plt.title(title)\n",
    "    plt.xlabel(xlabel)\n",
    "    plt.ylabel(ylabel)\n"
   ]
  },
  {
   "cell_type": "code",
   "execution_count": 55,
   "id": "expressed-campbell",
   "metadata": {
    "tags": []
   },
   "outputs": [
    {
     "data": {
      "image/png": "[encoded data removed]",
      "text/plain": [
       "<Figure size 432x288 with 1 Axes>"
      ]
     },
     "metadata": {
      "needs_background": "light"
     },
     "output_type": "display_data"
    }
   ],
   "source": [
    "bar_plot(df, 'year', 'Any', 'Quanitat de viatges', 'Quanitat de viatges per any')"
   ]
  },
  {
   "cell_type": "markdown",
   "id": "polish-davis",
   "metadata": {},
   "source": [
    "**Pregunta: És el comportament que esperàveu? Per què?**"
   ]
  },
  {
   "cell_type": "markdown",
   "id": "upper-mainstream",
   "metadata": {},
   "source": [
    "Sí, donat que el març de 2020 hi va haver un confinament global i en conseqüència el nombre de viatges en taxi a NY es va veure afectat, cosa que queda plasmada en la gràfica. En el 2021 veiem una lleugera recuperació, ja que s'han anat relaxant les mesures del covid."
   ]
  },
  {
   "cell_type": "markdown",
   "id": "artistic-decrease",
   "metadata": {},
   "source": [
    "Ara, visualitzarem **quants passatgers hi ha per taxi i per any**.\n",
    "\n",
    "Crea una figura amb tres subfigures (una per any) on es pugui veure el recompte de passatgers per any.\n",
    "\n",
    "Després repetiu el mateix gràfic visualitzant el % (utilitzeu el paràmetre *norm*)."
   ]
  },
  {
   "cell_type": "code",
   "execution_count": 56,
   "id": "executed-chaos",
   "metadata": {},
   "outputs": [],
   "source": [
    "def passengers_taxi_year(df, ylim, xlabel, ylabel, title, norm = False):\n",
    "    \"\"\"\n",
    "    Funció que visualitza quants passatgers hi ha per taxi i per any\n",
    "    \"\"\"\n",
    "\n",
    "    fig, axs = plt.subplots(ncols=3, figsize=(21, 8))\n",
    "\n",
    "    for i, year in enumerate(YEARS):\n",
    "    \n",
    "        data = df[df['year']==year].groupby('month')['passenger_count'].sum()\n",
    "\n",
    "        if norm:\n",
    "            data = 100 * data / data.shape[0]\n",
    "        \n",
    "        # We will use seaborn's bar plot since it is the easiest to implement\n",
    "        # while being visually pleasant\n",
    "        sns.barplot(x=data.index, y=data, ax=axs[i], color='blue')\n",
    "        axs[i].set(ylim=ylim)\n",
    "        \n",
    "        # We add the titles and labels to the plot\n",
    "        axs[i].title.set_text(title)\n",
    "        plt.xlabel(xlabel)\n",
    "        plt.ylabel(ylabel)\n",
    "    "
   ]
  },
  {
   "cell_type": "code",
   "execution_count": 57,
   "id": "mighty-population",
   "metadata": {
    "tags": []
   },
   "outputs": [
    {
     "data": {
      "image/png": "[encoded data removed]",
      "text/plain": [
       "<Figure size 1512x576 with 3 Axes>"
      ]
     },
     "metadata": {
      "needs_background": "light"
     },
     "output_type": "display_data"
    }
   ],
   "source": [
    "max_passenger_per_month = df.groupby(['year', 'month'])['passenger_count'].sum().max()\n",
    "passengers_taxi_year(df, (0, max_passenger_per_month), 'Nombre de passatgers', 'Recompte de passatgers', 'Recompte de passatgers per any')"
   ]
  },
  {
   "cell_type": "code",
   "execution_count": 43,
   "id": "clear-charles",
   "metadata": {
    "tags": []
   },
   "outputs": [
    {
     "data": {
      "image/png": "[encoded data removed]",
      "text/plain": [
       "<Figure size 1512x576 with 3 Axes>"
      ]
     },
     "metadata": {
      "needs_background": "light"
     },
     "output_type": "display_data"
    }
   ],
   "source": [
    "passengers_taxi_year(df, (0, 80), 'Nombre de passatgers', '%', \\% de passatgers per any', norm = True)"
   ]
  },
  {
   "cell_type": "markdown",
   "id": "suspended-regular",
   "metadata": {},
   "source": [
    "A la figura anterior hem visualitzat cada any per separat. Per tal que la visualització sigui més ràpida i simple d'interpretar, uniu tota la informació en un gràfic.\n",
    "\n",
    "Després repetiu el mateix gràfic visualitzant el % (utilitzeu el paràmetre *norm*)."
   ]
  },
  {
   "cell_type": "code",
   "execution_count": null,
   "id": "retained-rotation",
   "metadata": {},
   "outputs": [],
   "source": [
    "def passengers_taxi(df, xlabel, ylabel, norm = False):\n",
    "    \"\"\"\n",
    "    Funció que visualitza quants passatgers hi ha per taxi\n",
    "    \"\"\"\n",
    "        \n",
    "    # AQUÍ EL TEU CODI\n",
    "    df.groupby(['year', 'month'])['passenger_count'].sum()"
   ]
  },
  {
   "cell_type": "code",
   "execution_count": null,
   "id": "tired-surrey",
   "metadata": {
    "tags": []
   },
   "outputs": [],
   "source": [
    "passengers_taxi(df, 'Passenger Count', 'Amount')"
   ]
  },
  {
   "cell_type": "code",
   "execution_count": null,
   "id": "reflected-system",
   "metadata": {
    "tags": []
   },
   "outputs": [],
   "source": [
    "passengers_taxi(df, 'Passenger Count', 'Amount', norm = True)"
   ]
  },
  {
   "cell_type": "markdown",
   "id": "rolled-graphic",
   "metadata": {},
   "source": [
    "**Pregunta: Quin impacte heu vist sobre les dades? Creieu que la covid va tenir molt impacte?**"
   ]
  },
  {
   "cell_type": "markdown",
   "id": "popular-prince",
   "metadata": {},
   "source": [
    "> ANSWER"
   ]
  },
  {
   "cell_type": "code",
   "execution_count": null,
   "id": "pregnant-value",
   "metadata": {},
   "outputs": [],
   "source": []
  },
  {
   "cell_type": "markdown",
   "id": "desirable-activation",
   "metadata": {},
   "source": [
    "## 03. Quantitat de viatges\n",
    "\n",
    "Fins ara hem vist la quantitat de viatges que hi ha hagut en els anys estudiats.\n",
    "\n",
    "Anem a estudiar quins canvis es poden veure si agreguem les dades per hores, dies de la setmana, setmana de l'any i mes.\n",
    "\n",
    "Aquests gràfics han de ser de línies discontínues i marcar amb una rodona o creu allà on està el valor"
   ]
  },
  {
   "cell_type": "code",
   "execution_count": null,
   "id": "veterinary-window",
   "metadata": {},
   "outputs": [],
   "source": [
    "def visualize_trips(columns, title, xlabel, ylabel):\n",
    "    \"\"\"\n",
    "    Funció que visualitza els viatges per diferents agregacions de dades\n",
    "    \"\"\"\n",
    "    \n",
    "    # AQUÍ EL TEU CODI\n",
    "    raise NotImplementedError"
   ]
  },
  {
   "cell_type": "code",
   "execution_count": null,
   "id": "military-chester",
   "metadata": {
    "tags": []
   },
   "outputs": [],
   "source": [
    "visualize_trips(['pickup_hour', 'dropoff_hour'], title = 'Quantitat de viatges per hora', xlabel = 'Hora del dia', ylabel = 'Quanitat')"
   ]
  },
  {
   "cell_type": "code",
   "execution_count": null,
   "id": "communist-region",
   "metadata": {
    "tags": []
   },
   "outputs": [],
   "source": [
    "visualize_trips(['pickup_day', 'dropoff_day'], title = 'Quantitat de viatges per dia de la setmana', xlabel = 'Dia de la setmana', ylabel = 'Quanitat')"
   ]
  },
  {
   "cell_type": "code",
   "execution_count": null,
   "id": "amazing-battlefield",
   "metadata": {
    "tags": []
   },
   "outputs": [],
   "source": [
    "visualize_trips(['pickup_week', 'dropoff_week'], title = 'Quantitat de viatges per setmana de l\\'any', xlabel = 'Setmana de l\\'any', ylabel = 'Quanitat')"
   ]
  },
  {
   "cell_type": "code",
   "execution_count": null,
   "id": "digital-primary",
   "metadata": {
    "tags": []
   },
   "outputs": [],
   "source": [
    "visualize_trips(['pickup_month', 'dropoff_month'], title = 'Quantitat de viatges per mes', xlabel = 'Mes de l\\'any', ylabel = 'Quanitat')"
   ]
  },
  {
   "cell_type": "markdown",
   "id": "sapphire-cement",
   "metadata": {},
   "source": [
    "**Pregunta: Quins comportaments veieu en cada cas? Quin creieu que és el motiu?**"
   ]
  },
  {
   "cell_type": "markdown",
   "id": "insured-holmes",
   "metadata": {},
   "source": [
    "> ANSWER"
   ]
  },
  {
   "cell_type": "code",
   "execution_count": null,
   "id": "accessory-hampshire",
   "metadata": {},
   "outputs": [],
   "source": []
  },
  {
   "cell_type": "markdown",
   "id": "separated-strip",
   "metadata": {},
   "source": [
    "## 04. Relació distancia - temps i velocitat\n",
    "\n",
    "A les dades tenim la distància que ha recorregut el taxi en cada viatge i de la informació temporal podem extreure també la duració d'aquest.\n",
    "\n",
    "\n",
    "Intentarem esbrinar com la covid va afectar les distàncies i les durades dels viatges juntament amb la velocitat dels taxis.\n",
    "\n",
    "Creieu que la densitat de trànsit va variar?"
   ]
  },
  {
   "cell_type": "markdown",
   "id": "academic-riding",
   "metadata": {},
   "source": [
    "### Histogrames\n",
    "\n",
    "Per començar visualitza els **histogrames** de distància i durada per any.\n",
    "\n",
    "Pots fer servir la funció *plt.hist()* o *plt.bar()*."
   ]
  },
  {
   "cell_type": "code",
   "execution_count": null,
   "id": "killing-premises",
   "metadata": {},
   "outputs": [],
   "source": [
    "def visualize_histograms(df, column, title, xlabel, ylabel, xlim):\n",
    "    \"\"\"\n",
    "    Funció que crea un histograma a partir de la informació que conté la columna del dataframe\n",
    "    \"\"\"\n",
    "    \n",
    "    # AQUÍ EL TEU CODI\n",
    "    raise NotImplementedError"
   ]
  },
  {
   "cell_type": "code",
   "execution_count": null,
   "id": "emerging-bookmark",
   "metadata": {
    "tags": []
   },
   "outputs": [],
   "source": [
    "visualize_histograms(df, 'trip_distance', title = 'Distancia dels viatge per any', \n",
    "                     xlabel = 'Distancia (km)', ylabel = 'Quanitat', xlim = (-5, 80))\n",
    "\n",
    "visualize_histograms(df, 'trip_duration', title = 'Durada dels viatge per any', \n",
    "                     xlabel = 'Duració (h)', ylabel = 'Quanitat', xlim = (-1, 25) )"
   ]
  },
  {
   "cell_type": "markdown",
   "id": "explicit-hydrogen",
   "metadata": {},
   "source": [
    "**PREGUNTES:** \n",
    "\n",
    "* Com creieu que la covid va afectar les distàncies i durades dels viatges?\n",
    "\n",
    "* I a la velocitat dels taxis?"
   ]
  },
  {
   "cell_type": "markdown",
   "id": "operating-tract",
   "metadata": {},
   "source": [
    "> ANSWER"
   ]
  },
  {
   "cell_type": "code",
   "execution_count": null,
   "id": "organic-synthetic",
   "metadata": {},
   "outputs": [],
   "source": []
  },
  {
   "cell_type": "markdown",
   "id": "animated-mexican",
   "metadata": {
    "tags": []
   },
   "source": [
    "### Gràfic de dispersió i correlació\n",
    "\n",
    "Crea gràfics de dispersió per il·lustrar la relació entre la durada i la distància dels viatges.\n",
    "\n",
    "Es possible que les dades continguin mostres fora la distribució (outliers). En aquest cas, omet aquestes dades i torna a visualitzar el grafic.\n",
    "\n",
    "Per veure si existeix alguna correlació, es interesant que utilitzeu la funció *sns.regplot()*."
   ]
  },
  {
   "cell_type": "code",
   "execution_count": null,
   "id": "stretch-sally",
   "metadata": {},
   "outputs": [],
   "source": [
    "def scatter_plot(df, x_value, y_value, xlabel, ylabel, remove_outliers = False):\n",
    "    \"\"\"\n",
    "    Funció que mostra un scatter plot donades dues dades\n",
    "    \"\"\"\n",
    "    # AQUÍ EL TEU CODI\n",
    "    raise NotImplementedError"
   ]
  },
  {
   "cell_type": "code",
   "execution_count": null,
   "id": "divided-commissioner",
   "metadata": {
    "tags": []
   },
   "outputs": [],
   "source": [
    "scatter_plot(df, 'trip_distance', 'trip_duration', 'Distancia (km)', 'Temps (h)')"
   ]
  },
  {
   "cell_type": "code",
   "execution_count": null,
   "id": "first-olympus",
   "metadata": {
    "tags": []
   },
   "outputs": [],
   "source": [
    "scatter_plot(df, 'trip_distance', 'trip_duration', 'Distancia (km)', 'Temps (h)', True)"
   ]
  },
  {
   "cell_type": "markdown",
   "id": "catholic-quest",
   "metadata": {},
   "source": [
    "**Pregunta: Pots veure alguna relació? Pots calcular la correlació entre les dades per treure més informació?**"
   ]
  },
  {
   "cell_type": "markdown",
   "id": "french-holder",
   "metadata": {},
   "source": [
    "> ANSWER"
   ]
  },
  {
   "cell_type": "code",
   "execution_count": null,
   "id": "stone-neighborhood",
   "metadata": {},
   "outputs": [],
   "source": []
  },
  {
   "cell_type": "markdown",
   "id": "palestinian-buffalo",
   "metadata": {},
   "source": [
    "Tal com fèiem a l'apartat 3, visualitzeu les dades temporals i de distància a partir de les setmanes, i mesos de l'any."
   ]
  },
  {
   "cell_type": "code",
   "execution_count": null,
   "id": "german-graham",
   "metadata": {},
   "outputs": [],
   "source": [
    "def visualize_per_period(df, column_data, columns, xlabel, ylabel, title):\n",
    "    \"\"\"\n",
    "    Funció que visualitza la distància / duració dels trajectes en un temps a determinar\n",
    "    \"\"\"\n",
    "    # AQUÍ EL TEU CODI\n",
    "    raise NotImplementedError"
   ]
  },
  {
   "cell_type": "code",
   "execution_count": null,
   "id": "judicial-breast",
   "metadata": {
    "tags": []
   },
   "outputs": [],
   "source": [
    "visualize_per_period(df, 'trip_distance', columns = ['pickup_week', 'dropoff_week'],\n",
    "                    xlabel = 'Setmana de l\\'any', ylabel = 'Distancia mitjana (km)', title = 'Distancia dels viatges per setmanes')"
   ]
  },
  {
   "cell_type": "code",
   "execution_count": null,
   "id": "banned-panama",
   "metadata": {
    "tags": []
   },
   "outputs": [],
   "source": [
    "visualize_per_period(df, 'trip_distance', columns = ['pickup_month', 'dropoff_month'],\n",
    "                     xlabel = 'Mes de l\\'any', ylabel = 'Distancia mitjana (km)', title = 'Distancia dels viatges per mesos')"
   ]
  },
  {
   "cell_type": "code",
   "execution_count": null,
   "id": "central-ratio",
   "metadata": {
    "tags": []
   },
   "outputs": [],
   "source": [
    "visualize_per_period(df, 'trip_duration', columns = ['pickup_week', 'dropoff_week'],\n",
    "                     xlabel = 'Setmana de l\\'any', ylabel = 'Durada mitjana (h)', title = 'Durada dels viatges per setmanes')"
   ]
  },
  {
   "cell_type": "code",
   "execution_count": null,
   "id": "thousand-madison",
   "metadata": {
    "tags": []
   },
   "outputs": [],
   "source": [
    "visualize_per_period(df, 'trip_duration', columns = ['pickup_month', 'dropoff_month'],\n",
    "                     xlabel = 'Mes de l\\'any', ylabel = 'Durada mitjana (h)', title = 'Durada dels viatges per mesos')"
   ]
  },
  {
   "cell_type": "markdown",
   "id": "grateful-captain",
   "metadata": {},
   "source": [
    "**Pregunta: Hi ha algun comportament estrany a part de la covid? Per què pot ser causat?**\n",
    "    \n",
    "> ANSWER"
   ]
  },
  {
   "cell_type": "code",
   "execution_count": null,
   "id": "hungry-portsmouth",
   "metadata": {},
   "outputs": [],
   "source": []
  },
  {
   "cell_type": "markdown",
   "id": "strange-forum",
   "metadata": {},
   "source": [
    "Fins ara hem mostrat les dades de manera agregada.\n",
    "\n",
    "Per tal de visualitzar-ho de manera global, utilitzarem la funció *plt.imshow()* que visualitza imatges i, per tant, matrius."
   ]
  },
  {
   "cell_type": "markdown",
   "id": "humanitarian-tiffany",
   "metadata": {},
   "source": [
    "Implementa una funció que visualitzi per any:\n",
    "\n",
    "- un mapa de calor que indiqui a quina hora del dia hi ha viatges més llargs durant l'any.\n",
    "- un mapa de calor que indiqui a quina hora del dia hi ha viatges més llargs durant la setmana."
   ]
  },
  {
   "cell_type": "code",
   "execution_count": null,
   "id": "psychological-burden",
   "metadata": {},
   "outputs": [],
   "source": [
    "def heatmap(df, group, column_data, xlabel, ylabel, columns = None):\n",
    "    \"\"\"\n",
    "    Funció que agrega les dades de manera adient per visualitzar un mapa de calor\n",
    "    \"\"\"\n",
    "    \n",
    "    # AQUÍ EL TEU CODI\n",
    "    raise NotImplementedError"
   ]
  },
  {
   "cell_type": "code",
   "execution_count": null,
   "id": "binding-tobacco",
   "metadata": {
    "tags": []
   },
   "outputs": [],
   "source": [
    "heatmap(df, ['pickup_hour', 'pickup_dayofyear'], 'trip_duration', 'Dies de l\\'any', 'Hores del dia')"
   ]
  },
  {
   "cell_type": "code",
   "execution_count": null,
   "id": "experimental-sample",
   "metadata": {
    "tags": []
   },
   "outputs": [],
   "source": [
    "heatmap(df, ['pickup_hour', 'pickup_day'], 'trip_duration', 'Hores del dia', 'Dies de la setmana', ['Monday', 'Tuesday', 'Wednesday', 'Thursday', 'Friday', 'Saturday', 'Sunday'])"
   ]
  },
  {
   "cell_type": "code",
   "execution_count": null,
   "id": "another-recommendation",
   "metadata": {},
   "outputs": [],
   "source": []
  },
  {
   "cell_type": "markdown",
   "id": "regulated-supervision",
   "metadata": {
    "tags": []
   },
   "source": [
    "Repeteix els gràfics anteriors visualitzant la distancia."
   ]
  },
  {
   "cell_type": "code",
   "execution_count": null,
   "id": "curious-remark",
   "metadata": {},
   "outputs": [],
   "source": [
    "heatmap(df, ['pickup_hour', 'pickup_dayofyear'], 'trip_distance', 'Dies de l\\'any', 'Hores del dia')"
   ]
  },
  {
   "cell_type": "code",
   "execution_count": null,
   "id": "judicial-vancouver",
   "metadata": {
    "tags": []
   },
   "outputs": [],
   "source": [
    "heatmap(df, ['pickup_hour', 'pickup_day'], 'trip_distance', 'Hores del dia', 'Dies de la setmana', ['Monday', 'Tuesday', 'Wednesday', 'Thursday', 'Friday', 'Saturday', 'Sunday'])"
   ]
  },
  {
   "cell_type": "code",
   "execution_count": null,
   "id": "fossil-brazilian",
   "metadata": {},
   "outputs": [],
   "source": []
  },
  {
   "cell_type": "markdown",
   "id": "reflected-split",
   "metadata": {},
   "source": [
    "Per últim, visualitza la velocitat mitjana a les diferents hores del dia durant la setmana."
   ]
  },
  {
   "cell_type": "code",
   "execution_count": null,
   "id": "animal-causing",
   "metadata": {
    "tags": []
   },
   "outputs": [],
   "source": [
    "def speed_heatmap(df, group, xlabel, ylabel, columns = None):\n",
    "    \"\"\"\n",
    "    Funció que agrega les dades de manera adient per visualitzar la velocitat un mapa de calor\n",
    "    \"\"\"\n",
    "    # AQUÍ EL TEU CODI\n",
    "    raise NotImplementedError"
   ]
  },
  {
   "cell_type": "code",
   "execution_count": null,
   "id": "becoming-restaurant",
   "metadata": {
    "tags": []
   },
   "outputs": [],
   "source": [
    "speed_heatmap(df, ['pickup_hour', 'pickup_day'], 'Hores del dia', 'Dies de la setmana', ['Monday', 'Tuesday', 'Wednesday', 'Thursday', 'Friday', 'Saturday', 'Sunday'])"
   ]
  },
  {
   "cell_type": "markdown",
   "id": "intermediate-paint",
   "metadata": {},
   "source": [
    "**Pregunta: Quines conclusions treieu dels mapes de calor?**\n",
    "    \n",
    "> ANSWER"
   ]
  },
  {
   "cell_type": "code",
   "execution_count": null,
   "id": "republican-scratch",
   "metadata": {},
   "outputs": [],
   "source": []
  },
  {
   "cell_type": "markdown",
   "id": "exterior-seventh",
   "metadata": {},
   "source": [
    "## 05. Visualitzem les localitzacions dels viatges"
   ]
  },
  {
   "cell_type": "code",
   "execution_count": null,
   "id": "empirical-blogger",
   "metadata": {},
   "outputs": [],
   "source": [
    "df.head()"
   ]
  },
  {
   "cell_type": "markdown",
   "id": "institutional-border",
   "metadata": {},
   "source": [
    "Només tenim la ID d'una localització, per tant, necessitem aconseguir la latitud i la longitud.\n",
    "\n",
    "La mateixa pàgina dels taxis ens dóna el fitxer *taxi_zones.zip*, però primer cal que convertim les dades de coordenades amb format WGS84.\n",
    "\n",
    "Podem utilitzar aquesta web: https://mygeodata.cloud/"
   ]
  },
  {
   "cell_type": "code",
   "execution_count": null,
   "id": "sweet-institute",
   "metadata": {},
   "outputs": [],
   "source": [
    "from utils import get_lat_lon, draw_region_map, draw_zone_map"
   ]
  },
  {
   "cell_type": "code",
   "execution_count": null,
   "id": "comprehensive-tactics",
   "metadata": {
    "tags": []
   },
   "outputs": [],
   "source": [
    "sf = shapefile.Reader('data/geodata/taxi_zones.shp')\n",
    "\n",
    "fields_name = [field[0] for field in sf.fields[1:]]\n",
    "shp_dic = dict(zip(fields_name, list(range(len(fields_name)))))\n",
    "attributes = sf.records()\n",
    "shp_attr = [dict(zip(fields_name, attr)) for attr in attributes]"
   ]
  },
  {
   "cell_type": "code",
   "execution_count": null,
   "id": "missing-nursery",
   "metadata": {},
   "outputs": [],
   "source": [
    "df_loc = pd.DataFrame(shp_attr).join(get_lat_lon(sf, shp_dic).set_index(\"LocationID\"), on=\"LocationID\")\n",
    "df_loc.head()"
   ]
  },
  {
   "cell_type": "code",
   "execution_count": null,
   "id": "thorough-better",
   "metadata": {
    "tags": []
   },
   "outputs": [],
   "source": [
    "fig, ax = plt.subplots(nrows=1, ncols=2, figsize=(15,8))\n",
    "ax = plt.subplot(1, 2, 1)\n",
    "ax.set_title(\"Boroughs in NYC\")\n",
    "draw_region_map(ax, sf, shp_dic)\n",
    "ax = plt.subplot(1, 2, 2)\n",
    "ax.set_title(\"Zones in NYC\")\n",
    "draw_zone_map(ax, sf, shp_dic)"
   ]
  },
  {
   "cell_type": "markdown",
   "id": "pending-plasma",
   "metadata": {},
   "source": [
    "Ara teniu dos dataframe que necessitem unir. Utilitza la funció *merge* per afegir la longitud i latitud al dataframe *df*:"
   ]
  },
  {
   "cell_type": "code",
   "execution_count": null,
   "id": "heard-majority",
   "metadata": {},
   "outputs": [],
   "source": [
    "# AQUÍ EL TEU CODI\n",
    "\n",
    "merge = ..."
   ]
  },
  {
   "cell_type": "code",
   "execution_count": null,
   "id": "imported-performance",
   "metadata": {},
   "outputs": [],
   "source": [
    "merge.shape"
   ]
  },
  {
   "cell_type": "code",
   "execution_count": null,
   "id": "right-victoria",
   "metadata": {},
   "outputs": [],
   "source": []
  },
  {
   "cell_type": "markdown",
   "id": "wrong-consolidation",
   "metadata": {},
   "source": [
    "## 06. ¿Quines zones tenen més recollides i quines zones tenen més entregues?\n",
    "\n",
    "En aquest apartat volem conèixer i visualitzar les zones on els taxis són més utilitzats.\n",
    "\n",
    "El primer pas és ordenar i guardar en una variable els llocs més comuns en la recollida i el destí.\n",
    "\n",
    "Printa els 5 llocs més freqüents per any en cada cas."
   ]
  },
  {
   "cell_type": "code",
   "execution_count": null,
   "id": "medical-command",
   "metadata": {},
   "outputs": [],
   "source": [
    "# Recollida\n",
    "# AQUÍ EL TEU CODI\n",
    "top_pu = ...\n",
    "\n",
    "# Destí\n",
    "# AQUÍ EL TEU CODI\n",
    "top_do = ..."
   ]
  },
  {
   "cell_type": "code",
   "execution_count": null,
   "id": "virtual-range",
   "metadata": {},
   "outputs": [],
   "source": [
    "n_top = 5\n",
    "def show_top_n(df, column, df_loc, n_top = n_top):\n",
    "    \"\"\"\n",
    "    Funció que mostra els llocs més usuals per any\n",
    "    \"\"\"\n",
    "    # AQUÍ EL TEU CODI\n",
    "    raise NotImplementedError"
   ]
  },
  {
   "cell_type": "code",
   "execution_count": null,
   "id": "smoking-passion",
   "metadata": {},
   "outputs": [],
   "source": [
    "show_top_n(top_pu, 'PULocationID', df_loc)"
   ]
  },
  {
   "cell_type": "code",
   "execution_count": null,
   "id": "detailed-burning",
   "metadata": {},
   "outputs": [],
   "source": [
    "show_top_n(top_do, 'DOLocationID', df_loc)"
   ]
  },
  {
   "cell_type": "code",
   "execution_count": null,
   "id": "destroyed-kinase",
   "metadata": {},
   "outputs": [],
   "source": []
  },
  {
   "cell_type": "markdown",
   "id": "natural-release",
   "metadata": {},
   "source": [
    "**Visualitzem amb un mapa de calor quines són les zones més recurrents**"
   ]
  },
  {
   "cell_type": "code",
   "execution_count": null,
   "id": "compliant-morning",
   "metadata": {},
   "outputs": [],
   "source": [
    "for year in YEARS:\n",
    "    PUcount = {k:v for k, v in top_do[top_do.year == year][['DOLocationID', 'trip_distance']].values}\n",
    "\n",
    "    fig, ax = plt.subplots(nrows=1, ncols=2, figsize=(12,5))\n",
    "    ax = plt.subplot(1, 2, 1)\n",
    "    ax.set_title(f\"Zones with most pickups - {year}\")\n",
    "    draw_zone_map(ax, sf, shp_dic, heat=PUcount, text=list(PUcount.keys())[:3])\n",
    "    ax = plt.subplot(1, 2, 2)\n",
    "    ax.set_title(f\"Zones with most drop-offs - {year}\")\n",
    "    draw_zone_map(ax, sf, shp_dic, heat=PUcount, text=list(PUcount.keys())[:3])"
   ]
  },
  {
   "cell_type": "markdown",
   "id": "centered-velvet",
   "metadata": {},
   "source": [
    "**Pregunta: Per què creieu que la zona de Manhattan té més quantitat de viatges?**\n",
    "> ANSWER"
   ]
  },
  {
   "cell_type": "code",
   "execution_count": null,
   "id": "married-asthma",
   "metadata": {},
   "outputs": [],
   "source": []
  },
  {
   "cell_type": "markdown",
   "id": "variable-vertex",
   "metadata": {},
   "source": [
    "## 07. Hospitals\n",
    "\n",
    "Com ha canviat la destinació dels viatges? Hi ha més gent que va als hospitals?\n",
    "\n",
    "A la següent cel·la us donem la creació manual d'un DataFrame amb la localització més important dels hospitals de Nova York."
   ]
  },
  {
   "cell_type": "code",
   "execution_count": null,
   "id": "biological-stack",
   "metadata": {},
   "outputs": [],
   "source": [
    "hospitals = [('New York’s Presbyterian Lower Manhattan Hospital, NYC, NY, USA', '40.710255', '-74.005058'),\n",
    "('Manhattan Gastroenterology, NYC, NY, USA', '40.778259', '-73.958092'),\n",
    "('Stem Cell Therapy Hospital, NYC, NY, USA', '40.601517', '-73.961067'),\n",
    "('Park Avenue Smiles, Yonkers, NYC, NY, USA', '40.945873', '-73.890671'),\n",
    "('Cosmetic Dentistry Center, NYC, NY, USA', '40.629234', '-74.026077'),\n",
    "('Envy Smile Dental Spa, Brooklyn, NYC, NY, USA', '40.607059', '-73.960144'),\n",
    "('VIVA EVE, Forest Hills, NYC, NY, USA', '40.734291', '-73.849434'),\n",
    "('Forest Hills Medical Services, Queens, NYC, NY, USA', '40.734310', '-73.849510'),\n",
    "('Professional Gynecological Services, Brooklyn, NY, NY, USA', '40.689747', '-73.982346'),\n",
    "('Manhattan Womens Health & Wellness, New York, NY, USA', '40.741997', '-73.986107'),\n",
    "('Brooklyn Abortion Clinic, Brooklyn, NY, New York, USA', '40.689743', '-73.982368'),\n",
    "('Brooklyn GYN Place, Brooklyn, NY, USA', '40.692696', '-73.993584'),\n",
    "('Americas Holistic Doctor, NYC, NY, USA', '40.742531', '-73.985489'),\n",
    "('NJS Physical Medicine & Rehabilitation, Brooklyn, NY, USA', '40.641621', '-73.956734'),\n",
    "('DHD Medical, Brooklyn New York, USA', '40.625568', '-73.918320'),\n",
    "('Workers Compensation Doctor, New York, NY, USA', '40.652225', '-74.006104'),]\n",
    "\n",
    "hospitals = pd.DataFrame(hospitals, columns = ['Place Name', 'Latitude', 'Longitude'])\n",
    "hospitals['Latitude'] = hospitals['Latitude'].astype(float)\n",
    "hospitals['Longitude'] = hospitals['Longitude'].astype(float)\n",
    "hospitals.head()"
   ]
  },
  {
   "cell_type": "code",
   "execution_count": null,
   "id": "cathedral-secretariat",
   "metadata": {},
   "outputs": [],
   "source": []
  },
  {
   "cell_type": "markdown",
   "id": "guilty-syria",
   "metadata": {},
   "source": [
    "Utilitza la latitud i longitud de cada hospital i la de les zones del dataframe *merge* per veure la distribució dels hospitals.\n",
    "\n",
    "Per fer-ho utilitza els gràfics de dispersió. Recorda que s'entendrà millor si els punts són transparents (paràmetre *alpha*).\n",
    "\n",
    "Després repeteix el mateix gràfic però separat per any. "
   ]
  },
  {
   "cell_type": "code",
   "execution_count": null,
   "id": "naughty-ferry",
   "metadata": {},
   "outputs": [],
   "source": [
    "def scatter_locations(merge, hospitals):\n",
    "    \"\"\"Funció que mostra la distribució dels hospitals i les destinacions dels taxis\"\"\"\n",
    "    # AQUÍ EL TEU CODI\n",
    "    raise NotImplementedError"
   ]
  },
  {
   "cell_type": "code",
   "execution_count": null,
   "id": "played-rachel",
   "metadata": {},
   "outputs": [],
   "source": [
    "scatter_locations(merge, hospitals)"
   ]
  },
  {
   "cell_type": "code",
   "execution_count": null,
   "id": "chinese-georgia",
   "metadata": {},
   "outputs": [],
   "source": [
    "def scatter_locations_per_year(merge, hospitals):\n",
    "    \"\"\"Funció que mostra la distribució dels hospitals i les destinacions dels taxis\"\"\"\n",
    "    # AQUÍ EL TEU CODI\n",
    "    raise NotImplementedError"
   ]
  },
  {
   "cell_type": "code",
   "execution_count": null,
   "id": "sublime-equality",
   "metadata": {},
   "outputs": [],
   "source": [
    "scatter_locations_per_year(merge, hospitals)"
   ]
  },
  {
   "cell_type": "markdown",
   "id": "respected-corruption",
   "metadata": {},
   "source": [
    "**Pregunta: Veus algun comportament?**\n",
    ">ANSWER"
   ]
  },
  {
   "cell_type": "code",
   "execution_count": null,
   "id": "ancient-myanmar",
   "metadata": {},
   "outputs": [],
   "source": []
  },
  {
   "cell_type": "markdown",
   "id": "suspected-citation",
   "metadata": {},
   "source": [
    "Per poder conèixer com ha variat els trajectes als hospitals, primer cal detectar a quina localització del mapa pertany cada hospital.\n",
    "\n",
    "Per fer això cal calcular les distàncies. No calculeu la distància punt a punt, sinó matricialment."
   ]
  },
  {
   "cell_type": "code",
   "execution_count": null,
   "id": "expired-avatar",
   "metadata": {},
   "outputs": [],
   "source": [
    "from scipy.spatial import distance_matrix"
   ]
  },
  {
   "cell_type": "code",
   "execution_count": null,
   "id": "lined-moisture",
   "metadata": {},
   "outputs": [],
   "source": [
    "hospitals_loc = hospitals[['Longitude', 'Latitude']].values\n",
    "loc = df_loc[['longitude', 'latitude']].values\n",
    "\n",
    "\n",
    "# AQUÍ EL TEU CODI    \n",
    "dist = ..."
   ]
  },
  {
   "cell_type": "code",
   "execution_count": null,
   "id": "dirty-surfing",
   "metadata": {},
   "outputs": [],
   "source": [
    "plt.figure(figsize=(20, 5))\n",
    "plt.imshow(dist)"
   ]
  },
  {
   "cell_type": "code",
   "execution_count": null,
   "id": "laughing-funeral",
   "metadata": {},
   "outputs": [],
   "source": []
  },
  {
   "cell_type": "markdown",
   "id": "asian-bicycle",
   "metadata": {},
   "source": [
    "Trobeu la manera de localitzar el sector més proper a partir de les distàncies."
   ]
  },
  {
   "cell_type": "code",
   "execution_count": null,
   "id": "requested-taste",
   "metadata": {},
   "outputs": [],
   "source": [
    "# AQUÍ EL TEU CODI\n",
    "hospitals_locations = ...\n",
    "hospitals['LocationID'] = hospitals_locations"
   ]
  },
  {
   "cell_type": "code",
   "execution_count": null,
   "id": "adolescent-performance",
   "metadata": {},
   "outputs": [],
   "source": [
    "hospitals.head()"
   ]
  },
  {
   "cell_type": "code",
   "execution_count": null,
   "id": "happy-function",
   "metadata": {},
   "outputs": [],
   "source": []
  },
  {
   "cell_type": "markdown",
   "id": "innovative-nevada",
   "metadata": {},
   "source": [
    "Ara que ja tenim en quin sector es troben els hospitals, visualitzeu quants trajectes hi ha relacionats amb ells.\n",
    "\n",
    "Suposarem que tots els trajectes al sector van a l'hospital.\n",
    "\n",
    "Feu una única figura amb dos gràfics de barres on es mostrin la quantitat de viatges per cada any i el % del total dels viatges."
   ]
  },
  {
   "cell_type": "code",
   "execution_count": null,
   "id": "based-conviction",
   "metadata": {},
   "outputs": [],
   "source": [
    "def trips_hospitals(df, hospitals_locations):\n",
    "    \"\"\"\n",
    "    Funció que mostra una única figura amb dos gràfics de barres on es mostrin la quantitat de viatges per cada any i el % del total dels viatges.\n",
    "    \"\"\"\n",
    "    # AQUÍ EL TEU CODI\n",
    "    raise NotImplementedError"
   ]
  },
  {
   "cell_type": "code",
   "execution_count": null,
   "id": "general-council",
   "metadata": {},
   "outputs": [],
   "source": [
    "trips_hospitals(df, hospitals_locations)"
   ]
  },
  {
   "cell_type": "code",
   "execution_count": null,
   "id": "disabled-response",
   "metadata": {},
   "outputs": [],
   "source": []
  },
  {
   "cell_type": "markdown",
   "id": "immediate-scope",
   "metadata": {},
   "source": [
    "## 08. Qui escolta pels forats, sent els seus pecats\n",
    "\n",
    "A la **primera part** heu de visualitzar i comentar els exemples que hem eliminat, com distancies molt llargues, molt curtes...\n",
    "\n",
    "A la **segona part** teniu llibertat per escollir i fer visualitzacions que us aportin informació extra que no s'hagi vist anteriorment."
   ]
  },
  {
   "cell_type": "code",
   "execution_count": null,
   "id": "amazing-wilson",
   "metadata": {},
   "outputs": [],
   "source": []
  },
  {
   "cell_type": "markdown",
   "id": "operating-notebook",
   "metadata": {},
   "source": [
    "## 09. Informe\n",
    "\n",
    "A partir de l'exploració de les dades que heu fet al llarg d'aquest notebook, feu un petit informe resumint i justificant tots els canvis que han sorgit a causa de la covid."
   ]
  },
  {
   "cell_type": "code",
   "execution_count": null,
   "id": "paperback-chess",
   "metadata": {},
   "outputs": [],
   "source": []
  }
 ],
 "metadata": {
  "kernelspec": {
   "display_name": "Python 3.10.5 64-bit",
   "language": "python",
   "name": "python3"
  },
  "language_info": {
   "codemirror_mode": {
    "name": "ipython",
    "version": 3
   },
   "file_extension": ".py",
   "mimetype": "text/x-python",
   "name": "python",
   "nbconvert_exporter": "python",
   "pygments_lexer": "ipython3",
   "version": "3.10.5"
  },
  "vscode": {
   "interpreter": {
    "hash": "ad2117d8da04c720903da65ba8862d63b2fb82849cd17efbeca69c80f28b43db"
   }
  }
 },
 "nbformat": 4,
 "nbformat_minor": 5
}
