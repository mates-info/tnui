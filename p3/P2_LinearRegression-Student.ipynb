{
 "cells": [
  {
   "cell_type": "markdown",
   "metadata": {},
   "source": [
    "# Optimització - Linear regression"
   ]
  },
  {
   "cell_type": "markdown",
   "metadata": {},
   "source": [
    "En estadística, la **regressió lineal** és un enfocament lineal per modelar la relació entre una resposta escalar (o variable dependent) i una o més variables explicatives (o variables independents).\n",
    "\n",
    "En regressió lineal, les relacions es modelen mitjançant funcions lineals on els paràmetres del model s’estimen a partir de les dades. \n",
    "Aquests models s'anomenen models lineals. "
   ]
  },
  {
   "cell_type": "markdown",
   "metadata": {},
   "source": [
    "Suposem que treballem amb un conjunt de dades $ \\{y_{i}, x_{i_1}, \\ldots, x_{i_m} \\}_{i = 1}^{n}$ de $n$ unitats. \n",
    "\n",
    "Un **model de regressió lineal** assumeix que la relació entre la variable dependent $y$ i el vector $p$ dels regressors $x$ és lineal. \n",
    "Així, el model pren la forma:\n",
    "$${\\displaystyle y_{i}=\\beta _{0}+\\beta _{1}x_{i_1}+\\cdots +\\beta _{p}x_{i_p},\\qquad i=1,\\ldots ,n,}$$"
   ]
  },
  {
   "cell_type": "code",
   "execution_count": 1,
   "metadata": {},
   "outputs": [],
   "source": [
    "from plot_utils import *\n",
    "\n",
    "import autograd.numpy as np\n",
    "from autograd import elementwise_grad as grad, value_and_grad\n",
    "import matplotlib.pyplot as plt\n",
    "from tqdm.notebook import tqdm\n",
    "import pandas as pd\n",
    "import random\n",
    "\n",
    "from IPython.display import display\n",
    "\n",
    "%matplotlib inline"
   ]
  },
  {
   "cell_type": "markdown",
   "metadata": {},
   "source": [
    "No es permet l'ús de cap llibreria o funció que no estigui ja importat, sigui aquí o més abaix en el notebook."
   ]
  },
  {
   "cell_type": "markdown",
   "metadata": {},
   "source": [
    "## AutoGrad\n",
    "\n",
    "En la part anterior, donada una funció havíem de definir també la funció que retorna el seu gradient.\n",
    "\n",
    "En aquesta pràctica, però, veurem que mitjançant l'ús de la llibreria **AutoGrad**, això no és necessari.\n",
    "\n",
    "Consideren les següents funcions:"
   ]
  },
  {
   "cell_type": "code",
   "execution_count": 2,
   "metadata": {},
   "outputs": [],
   "source": [
    "def f1(x):\n",
    "    return x**2\n",
    "\n",
    "def f2(x):\n",
    "    x, y = x[0], x[1]\n",
    "    return x**2 + y**2\n",
    "\n",
    "def f3(x):\n",
    "    x, y, z = x[0], x[1], x[2]\n",
    "    return (100 * (y - x**2)**2 + (1 - x)**2) + (100 * (z - y**2)**2 + (1 - y)**2)"
   ]
  },
  {
   "cell_type": "markdown",
   "metadata": {},
   "source": [
    "Donada la funció `f1`, podem fàcilment derivar el seu gradient, que és $2x$.\n",
    "\n",
    "Definim-lo manualment:"
   ]
  },
  {
   "cell_type": "code",
   "execution_count": 3,
   "metadata": {},
   "outputs": [],
   "source": [
    "def grad_f1_manual(x):\n",
    "    return 2*x"
   ]
  },
  {
   "cell_type": "markdown",
   "metadata": {},
   "source": [
    "Ara, obtinguem la funció gradient a partir d'autograd:"
   ]
  },
  {
   "cell_type": "code",
   "execution_count": 4,
   "metadata": {},
   "outputs": [],
   "source": [
    "grad_f1 = grad(f1)"
   ]
  },
  {
   "cell_type": "markdown",
   "metadata": {},
   "source": [
    "Podem comprovar que **les dues donen el mateix valor de gradient evaluat en un punt $x$**."
   ]
  },
  {
   "cell_type": "code",
   "execution_count": 5,
   "metadata": {},
   "outputs": [
    {
     "name": "stdout",
     "output_type": "stream",
     "text": [
      "Calcul manual gradient: df1'(x0) = 2046.0\n",
      "Autograd: df1'(x0) = 2046.0\n"
     ]
    }
   ],
   "source": [
    "x0 = np.asarray([1023.0])\n",
    "print('Calcul manual gradient: df1\\'(x0) = {}'.format(grad_f1_manual(x0)[0]))\n",
    "print('Autograd: df1\\'(x0) = {}'.format(grad_f1(x0)[0]))\n",
    "\n",
    "assert np.allclose(grad_f1_manual(x0), grad_f1(x0)) "
   ]
  },
  {
   "cell_type": "markdown",
   "metadata": {},
   "source": [
    "També podem utilitzar `value_and_grad` per obtenir directament amb la **imatge de la funció i el seu gradient en un punt $x$**:"
   ]
  },
  {
   "cell_type": "code",
   "execution_count": 6,
   "metadata": {},
   "outputs": [
    {
     "name": "stdout",
     "output_type": "stream",
     "text": [
      "(array([1046529.]), array([2046.]))\n"
     ]
    }
   ],
   "source": [
    "val_grad_f1 = value_and_grad(f1)\n",
    "print(val_grad_f1(x0))\n",
    "\n",
    "value, gradient = val_grad_f1(x0)\n",
    "assert np.allclose(value, f1(x0))\n",
    "assert np.allclose(gradient, grad_f1(x0))"
   ]
  },
  {
   "cell_type": "markdown",
   "metadata": {},
   "source": [
    "Inclús podem aplicar `grad` sobre un altre `grad` per obtenir la 2a derivada (o Hessià en multiples dimensions)."
   ]
  },
  {
   "cell_type": "code",
   "execution_count": 12,
   "metadata": {},
   "outputs": [],
   "source": [
    "grad_f1 = grad(f1) # df(x) = 2 * x\n",
    "grad2_f1 = grad(grad_f1) # d2f(x) = 2"
   ]
  },
  {
   "cell_type": "code",
   "execution_count": 13,
   "metadata": {},
   "outputs": [
    {
     "data": {
      "image/png": "[encoded data removed]",
      "text/plain": [
       "<Figure size 432x288 with 1 Axes>"
      ]
     },
     "metadata": {
      "needs_background": "light"
     },
     "output_type": "display_data"
    }
   ],
   "source": [
    "x = np.linspace(-5, 5, 100)\n",
    "plt.plot(x, f1(x), label = 'f(x)')\n",
    "plt.plot(x, grad_f1(x), color='green', label='df(x)')\n",
    "plt.plot(x, grad2_f1(x), color='orange', label='d2f(x)')\n",
    "plt.legend()\n",
    "plt.show()"
   ]
  },
  {
   "cell_type": "code",
   "execution_count": 13,
   "metadata": {},
   "outputs": [],
   "source": []
  },
  {
   "cell_type": "markdown",
   "metadata": {},
   "source": [
    "## Descens del gradient"
   ]
  },
  {
   "cell_type": "markdown",
   "metadata": {},
   "source": [
    "**El primer pas serà implementar la mateixa funció `gradient_descend` que havieu fet en la part anterior, però ara mitjançant l'ús de la llibreria `autograd` i fent-la multidimensional.**\n",
    "\n",
    "Aquesta funció hauria d'executar sense problemes, i donar el mínim, per les tres funcions `f1`, `f2` i `f3` definides més adalt, de 1, 2 i 3 dimensions respectivament. Però, també haurà de funcionar per les següents parts de la pràctica, amb 100 o més dimensions."
   ]
  },
  {
   "cell_type": "code",
   "execution_count": 14,
   "metadata": {},
   "outputs": [],
   "source": [
    "def gradient_descend(f, x0, alpha, eps=1e-6, max_iter=1000, print_iters=1000):\n",
    "    \"\"\"\n",
    "    Aquesta funció implementa l'algorisme de descens pel gradient, és a dir,\n",
    "    donat un punt inicial, la funció de la que calculem el gradient i el pas, \n",
    "    intenta trobar el mínim de la funció seguint el gradient en direcció oposada.\n",
    "    \n",
    "    Pel criteri d'aturada, considerarem si ||x^{k+1} - x^k|| < eps, és a dir\n",
    "    si la norma de la diferència és més petita que eps.\n",
    "    \n",
    "    Cada print_iters cal mostrar el resultat actual en la següent forma:\n",
    "        \"{}/{:.2f}\".format(human_format(itr), float(valor_de_f_en_x))\n",
    "    \n",
    "    :param f: Funció a minimitzar\n",
    "    :param x0: Punt inicial\n",
    "    :param alpha: Pas de cada iteració\n",
    "    :param eps: Moviment mínim realitzat abans de parar\n",
    "    :param max_epochs: Iteracions màximes a realitzar\n",
    "    :param print_iters: Numero d'iteracions per printar resultats\n",
    "    :return: La funció retornarà el punt on es troba el mínim\n",
    "    \"\"\"\n",
    "\n",
    "    '''\n",
    "    Novament copiem el codi que teniem en l'apartat anterior,\n",
    "    però ara apliquem la funció grad per calcular el gradient\n",
    "    en cada pas (havent fet grad(f) abans del bucle). També cada\n",
    "    print_iters iteracions fem un print amb el format indicat per\n",
    "    veure el progrés del valor que estem minimitzant (utilitzem\n",
    "    l'operador mòdul com a condició).\n",
    "\n",
    "    També hem aplicat una versió del canvi d'alpha que vam fer\n",
    "    en l'últim exercici del primer notebook. La diferència és que\n",
    "    no descartem les iteracions i sempre augmentem una mica la alpha\n",
    "    en cada iteració.\n",
    "    '''\n",
    "\n",
    "    x = x0\n",
    "    grad_f1 = grad(f)\n",
    "    for itr in range(max_iter):\n",
    "        new_x = x - alpha * grad_f1(x)\n",
    "        if f(new_x) > f(x):\n",
    "            alpha /= 2\n",
    "        alpha *= 1.1\n",
    "        if np.linalg.norm(new_x - x) < eps:\n",
    "            break\n",
    "        x = new_x\n",
    "        if (itr+1) % print_iters == 0:\n",
    "            print(\"{}/{:.2f}\".format(itr+1, f(x)))\n",
    "    return x"
   ]
  },
  {
   "cell_type": "markdown",
   "metadata": {},
   "source": [
    "Busquem el mínim de cadascuna de les funcions:"
   ]
  },
  {
   "cell_type": "code",
   "execution_count": 15,
   "metadata": {},
   "outputs": [
    {
     "name": "stdout",
     "output_type": "stream",
     "text": [
      "f1([6.24484288e-09]) = [3.89980625e-17]\n"
     ]
    }
   ],
   "source": [
    "x0 = np.array([4.0])\n",
    "xm = gradient_descend(f1, x0, 0.01, 1e-6, 10000) # ~ @1s\n",
    "print(f'f1({xm}) = {f1(xm)}')"
   ]
  },
  {
   "cell_type": "code",
   "execution_count": 16,
   "metadata": {},
   "outputs": [
    {
     "name": "stdout",
     "output_type": "stream",
     "text": [
      "f2([6.24484288e-09 7.96217467e-09]) = 1.02394287962717e-16\n"
     ]
    }
   ],
   "source": [
    "x0 = np.array([4.0, 5.1])\n",
    "xm = gradient_descend(f2, x0, 0.01, 1e-6, 10000) # ~ @2s\n",
    "print(f'f2({xm}) = {f2(xm)}')"
   ]
  },
  {
   "cell_type": "code",
   "execution_count": 17,
   "metadata": {},
   "outputs": [
    {
     "name": "stdout",
     "output_type": "stream",
     "text": [
      "1000/1.27\n",
      "2000/1.08\n",
      "3000/0.90\n",
      "4000/0.73\n",
      "5000/0.56\n",
      "6000/0.41\n",
      "7000/0.27\n",
      "8000/0.16\n",
      "9000/0.08\n",
      "10000/0.04\n",
      "11000/0.01\n",
      "12000/0.00\n",
      "13000/0.00\n",
      "14000/0.00\n",
      "15000/0.00\n",
      "16000/0.00\n",
      "17000/0.00\n",
      "f3([1.00043421 1.00086991 1.00174508]) = 9.47479824914283e-07\n"
     ]
    }
   ],
   "source": [
    "x0 = np.array([4.0, 5.1, 4.4])\n",
    "xm = gradient_descend(f3, x0, 0.0001, 1e-6, 50000) # ~ @35s\n",
    "print(f'f3({xm}) = {f3(xm)}')"
   ]
  },
  {
   "cell_type": "markdown",
   "metadata": {},
   "source": [
    "## Linear regression\n",
    "\n",
    "Cas simple: **Donat un conjunt de punts (X, Y) 2D, podem trobar la recta que minimitza la distància entre aquesta i tots els punts?**\n",
    "\n",
    "Recordatori: \n",
    "\n",
    "Per tal de definir una recta necesitem dos punts $(x_0, y_0)$ i $(x_1, y_1)$. A partir d'aquests dos punts podem definir la recta com:\n",
    "\n",
    "$$y={\\frac {y_{1}-y_{0}}{x_{1}-x_{0}}} (x-x_{0}) +y_{0} = m \\cdot x + n$$"
   ]
  },
  {
   "cell_type": "code",
   "execution_count": 18,
   "metadata": {},
   "outputs": [
    {
     "data": {
      "text/html": [
       "<div>\n",
       "<style scoped>\n",
       "    .dataframe tbody tr th:only-of-type {\n",
       "        vertical-align: middle;\n",
       "    }\n",
       "\n",
       "    .dataframe tbody tr th {\n",
       "        vertical-align: top;\n",
       "    }\n",
       "\n",
       "    .dataframe thead th {\n",
       "        text-align: right;\n",
       "    }\n",
       "</style>\n",
       "<table border=\"1\" class=\"dataframe\">\n",
       "  <thead>\n",
       "    <tr style=\"text-align: right;\">\n",
       "      <th></th>\n",
       "      <th>X</th>\n",
       "      <th>Y</th>\n",
       "    </tr>\n",
       "  </thead>\n",
       "  <tbody>\n",
       "    <tr>\n",
       "      <th>0</th>\n",
       "      <td>6.2</td>\n",
       "      <td>29</td>\n",
       "    </tr>\n",
       "    <tr>\n",
       "      <th>1</th>\n",
       "      <td>9.5</td>\n",
       "      <td>44</td>\n",
       "    </tr>\n",
       "    <tr>\n",
       "      <th>2</th>\n",
       "      <td>10.5</td>\n",
       "      <td>36</td>\n",
       "    </tr>\n",
       "    <tr>\n",
       "      <th>3</th>\n",
       "      <td>7.7</td>\n",
       "      <td>37</td>\n",
       "    </tr>\n",
       "    <tr>\n",
       "      <th>4</th>\n",
       "      <td>8.6</td>\n",
       "      <td>53</td>\n",
       "    </tr>\n",
       "  </tbody>\n",
       "</table>\n",
       "</div>"
      ],
      "text/plain": [
       "      X   Y\n",
       "0   6.2  29\n",
       "1   9.5  44\n",
       "2  10.5  36\n",
       "3   7.7  37\n",
       "4   8.6  53"
      ]
     },
     "metadata": {},
     "output_type": "display_data"
    },
    {
     "data": {
      "image/png": "[encoded data removed]",
      "text/plain": [
       "<Figure size 720x720 with 1 Axes>"
      ]
     },
     "metadata": {
      "needs_background": "light"
     },
     "output_type": "display_data"
    }
   ],
   "source": [
    "# Lectura de les dades\n",
    "df = pd.read_csv('data/slr05.csv', index_col=0)\n",
    "display(df.head())\n",
    "\n",
    "# Visualització de les dades\n",
    "plt.figure(figsize = (10, 10))\n",
    "plt.scatter(df['X'], df['Y'])\n",
    "plt.xlabel('Fires per 1000 housing units')\n",
    "plt.ylabel('Thefts per 1000 population')\n",
    "plt.title('Fire and Theft in Chicago')\n",
    "\n",
    "# Possibles linies\n",
    "# Parametres plt.plot: (x0, x1), (y0, y1)\n",
    "plt.plot((0, 40), (0, 140), color='#ff0000')\n",
    "plt.plot((0, 40), (0, 120), color='#ff0000')\n",
    "plt.plot((0, 40), (10, 110), color='#ff0000')\n",
    "plt.plot((0, 40), (20, 70), color='#ff0000')\n",
    "\n",
    "plt.show()"
   ]
  },
  {
   "cell_type": "markdown",
   "metadata": {},
   "source": [
    "Per ara, donat que estem a 2D, podem visualitzar l'error, és a dir la distància respecte aquesta línia. Però tot i així és impossible que poguem visualitzar, d'entre les infinites línies possibles, la que s'ajusta millor a les dades.\n",
    "\n",
    "**Necessitem un algorisme que la trobi automàticament,** però primer visualitzem l'error de cadascuna de les anteriors rectes:"
   ]
  },
  {
   "cell_type": "code",
   "execution_count": 19,
   "metadata": {},
   "outputs": [
    {
     "data": {
      "image/png": "[encoded data removed]",
      "text/plain": [
       "<Figure size 432x288 with 1 Axes>"
      ]
     },
     "metadata": {
      "needs_background": "light"
     },
     "output_type": "display_data"
    },
    {
     "data": {
      "image/png": "[encoded data removed]",
      "text/plain": [
       "<Figure size 432x288 with 1 Axes>"
      ]
     },
     "metadata": {
      "needs_background": "light"
     },
     "output_type": "display_data"
    },
    {
     "data": {
      "image/png": "[encoded data removed]",
      "text/plain": [
       "<Figure size 432x288 with 1 Axes>"
      ]
     },
     "metadata": {
      "needs_background": "light"
     },
     "output_type": "display_data"
    },
    {
     "data": {
      "image/png": "[encoded data removed]",
      "text/plain": [
       "<Figure size 432x288 with 1 Axes>"
      ]
     },
     "metadata": {
      "needs_background": "light"
     },
     "output_type": "display_data"
    }
   ],
   "source": [
    "for x1, y1, y0 in ((40, 140, 0), (40, 120, 0), (40, 110, 10), (40, 70, 20)):\n",
    "    \n",
    "    plt.figure()\n",
    "    # Visualització de les dades\n",
    "    plt.scatter(df['X'], df['Y'])\n",
    "    plt.xlabel('Fires per 1000 housing units')\n",
    "    plt.ylabel('Thefts per 1000 population')\n",
    "    plt.title(f'Fire and Theft in Chicago, y = {y0} + x * {(y1 - y0) / x1:.2f}')\n",
    "\n",
    "    # Visualització de la recta\n",
    "    plt.plot((0, x1), (y0, y1), color='#ff0000')\n",
    "\n",
    "    # Definció de la recta\n",
    "    f = lambda x: (y1 - y0) / x1 * x + y0\n",
    "\n",
    "    # Visualització de l'error per cada punt\n",
    "    for _, (x, y) in df.iterrows():\n",
    "        y_pred = f(x)\n",
    "        plt.plot((x, x), (y, y_pred), color='b', alpha=0.2)"
   ]
  },
  {
   "cell_type": "code",
   "execution_count": 19,
   "metadata": {},
   "outputs": [],
   "source": []
  },
  {
   "cell_type": "markdown",
   "metadata": {},
   "source": [
    "**Com definim un model que automàticament trobi aquesta línia?**\n",
    "\n",
    "Primer de tot, assumim que nosaltres tenim unes dades de les quals dispossem els valors de $x$ i els corresponents valors de $y$. Per exemple, les dades anteriors.\n",
    "\n",
    "1. Necessitem definir matemàticament una recta\n",
    "$$ r: \\hat{y} = m \\cdot x + n $$\n",
    "On $x$ és un punt que volem evaluar, $\\hat{y}$ és la imatge obtinguda en el punt $x$, i $m$, $n$ són els paràmetres que defineixen la recta. Idealment, voldríem trobar aquelles $m$, $n$ que, per tot punt $x$ tinguéssim una $\\hat{y}$ tal que $\\hat{y}=y$.\n",
    "\n",
    "2. Hem de mesurar l'error que estem cometent cada cop que provem una $m$, $n$ diferents (al que anomenarem *loss* del model). Per exemple, podríem definir l'error com a la distància entre el punt $y$ que hauria de ser i el $\\hat{y}$ que ens dona el model:\n",
    "$$\\mathbb{L} = \\sqrt{(y - \\hat{y})^2}$$\n",
    "\n",
    "3. Ara el que volem fer és trobar els valors de $m$, $n$ tal que $\\mathbb{L}=0$. Si parem atenció a la funció definida per $\\mathbb{L}$, veurem que efectivament $0$ és el mínim d'aquesta. Per tant, tot el que hem de fer és minimitzar la funció definida per\n",
    "$$\\mathbb{L} = \\sqrt{(y - (m \\cdot x + n))^2}$$\n",
    "\n",
    "Per simplificar una mica el problema, unirem les variables que volem optimitzar $m,n$ en una de sola: $w$. Per fer-ho, expandirem la fòrmula anterior a:\n",
    "$$\\tilde{x} = (1, x), w = (n, m)$$\n",
    "\n",
    "$$\\mathbb{L} = \\sqrt{(y - \\tilde{x} \\cdot w)^2}$$\n",
    "\n",
    "On $\\tilde{x}$ és un vector format per un $1$ i a continuació el valor de $x$ original. De forma que $\\tilde{x} \\cdot w = (1, x) \\cdot (n, m) = n + x\\cdot m = m\\cdot x + n$ (producte escalar)."
   ]
  },
  {
   "cell_type": "code",
   "execution_count": 20,
   "metadata": {},
   "outputs": [],
   "source": [
    "def add_bias(X):\n",
    "    '''\n",
    "    Funció que donada el vector x crea el vector x', afegint una columna d'1's al davant.\n",
    "    Per exemple, si X és\n",
    "        [\n",
    "            [1, 2, 5, 1, 5, 7],\n",
    "            [9, 4, 2, 4, 6, 1],\n",
    "            ...\n",
    "            [5, 3, 1, 4, 5, 7]\n",
    "        ]\n",
    "    El retorn de la funció serà la matriu\n",
    "        [\n",
    "            [1, 1, 2, 5, 1, 5, 7],\n",
    "            [1, 9, 4, 2, 4, 6, 1],\n",
    "            ...\n",
    "            [1, 5, 3, 1, 4, 5, 7]\n",
    "        ]\n",
    "    *Sense bucles*\n",
    "    \n",
    "    :param X: Matriu on cada fila és una dada i cada columna una característica\n",
    "    :return: Mateixa matriu amb una columna de 1s davant\n",
    "    '''\n",
    "    return np.insert(X, 0, 1, axis=1)\n",
    "\n",
    "\n",
    "def linear_regression(x, w):\n",
    "    '''\n",
    "    Donat un punt i els parameters del model prediu el valor, implementant el càlcul de la regressió linial:\n",
    "            y' = w0 * x0 + w1 * x1 + ... + xp * wp\n",
    "            \n",
    "    *Sense bucles*\n",
    "    \n",
    "    :param x: Matriu de dades i features, on la primera columna son 1s, té per shape [NDades, NFeatures]\n",
    "    :param w: Matriu de paràmetres, té per shape [1, NFeatures]\n",
    "    :return: Vector de tamany [NDades] amb la predicció y' per a cada punt\n",
    "    '''\n",
    "    return (x @ w.T).T\n",
    "\n",
    "\n",
    "def loss(y_true, y_pred):\n",
    "    \"\"\"\n",
    "    Funció que calcula la diferència entre la solució real i la predita mitjançant\n",
    "    distància euclidea\n",
    "        ||y_true - y_pred||\n",
    "        \n",
    "    :param y_true: Valor real de la Y\n",
    "    :param y_pred: Valor predit y' per a cada corresponent y\n",
    "    :return: Error de la predicció\n",
    "    \"\"\"\n",
    "    return np.linalg.norm(y_true - y_pred)\n",
    "\n",
    "\n",
    "def model(w, x, y):\n",
    "    \"\"\"\n",
    "    Funció que genera el model que volem optimizar, calculant l'error d'una\n",
    "    predicció amb els pàrametres i valors passats\n",
    "    \n",
    "    :param w: Paràmetres del model\n",
    "    :param x: Dades del model\n",
    "    :param y: Valors a predir\n",
    "    :return: Error (loss) de les preddiccions\n",
    "    \"\"\"\n",
    "    return loss(y, linear_regression(x, w))"
   ]
  },
  {
   "cell_type": "markdown",
   "metadata": {},
   "source": [
    "Generem les dades que utilitzarem per entrenar el model (*X_fire*) i les seves etiquetes (*Y_fire*)."
   ]
  },
  {
   "cell_type": "code",
   "execution_count": 38,
   "metadata": {},
   "outputs": [],
   "source": [
    "X_fire = df['X'].values[:, np.newaxis]\n",
    "X_fire = add_bias(X_fire)\n",
    "\n",
    "Y_fire = df['Y'].values"
   ]
  },
  {
   "cell_type": "markdown",
   "metadata": {},
   "source": [
    "Per optimizar el model, necesitem initcialitzar els seus pesos amb valors random."
   ]
  },
  {
   "cell_type": "code",
   "execution_count": 39,
   "metadata": {},
   "outputs": [
    {
     "name": "stdout",
     "output_type": "stream",
     "text": [
      "1000/123.13\n",
      "2000/123.10\n",
      "3000/123.10\n",
      "[[16.9947311   1.31347773]]\n"
     ]
    }
   ],
   "source": [
    "# Parametres per defecte del model\n",
    "w0 = np.random.normal(size=(1, X_fire.shape[1]))\n",
    "\n",
    "# Optimització del model\n",
    "wf_fire = gradient_descend(lambda w: model(w, X_fire, Y_fire), \n",
    "                           w0, 0.001, \n",
    "                           max_iter=20000, print_iters=1000) # ~ @5s\n",
    "print(wf_fire)"
   ]
  },
  {
   "cell_type": "code",
   "execution_count": 40,
   "metadata": {},
   "outputs": [
    {
     "data": {
      "text/plain": [
       "array([[16.9947311 ,  1.31347773]])"
      ]
     },
     "execution_count": 40,
     "metadata": {},
     "output_type": "execute_result"
    }
   ],
   "source": [
    "wf_fire"
   ]
  },
  {
   "cell_type": "code",
   "execution_count": 23,
   "metadata": {},
   "outputs": [],
   "source": []
  },
  {
   "cell_type": "markdown",
   "metadata": {},
   "source": [
    "Visualització de la recta obtinguda amb el model i els errors de les seves prediccions."
   ]
  },
  {
   "cell_type": "code",
   "execution_count": 24,
   "metadata": {
    "tags": []
   },
   "outputs": [
    {
     "name": "stdout",
     "output_type": "stream",
     "text": [
      "Mean error: 12.95\n"
     ]
    },
    {
     "name": "stderr",
     "output_type": "stream",
     "text": [
      "E:\\Programas\\anaconda3\\lib\\site-packages\\numpy\\core\\shape_base.py:65: VisibleDeprecationWarning: Creating an ndarray from ragged nested sequences (which is a list-or-tuple of lists-or-tuples-or ndarrays with different lengths or shapes) is deprecated. If you meant to do this, you must specify 'dtype=object' when creating the ndarray.\n",
      "  ary = asanyarray(ary)\n"
     ]
    },
    {
     "data": {
      "image/png": "[encoded data removed]",
      "text/plain": [
       "<Figure size 432x288 with 1 Axes>"
      ]
     },
     "metadata": {
      "needs_background": "light"
     },
     "output_type": "display_data"
    }
   ],
   "source": [
    "plt.figure()\n",
    "# Visualització de les dades\n",
    "plt.scatter(df['X'], df['Y'])\n",
    "plt.xlabel('fires per 1000 housing units')\n",
    "plt.ylabel('thefts per 1000 population')\n",
    "plt.title('Fire and Theft in Chicago')\n",
    "\n",
    "# Visualització de la recta\n",
    "# Parametres plt.plot: (x0, x1), (y0, y1)\n",
    "plt.plot((0, 40), (wf_fire[0][0], linear_regression((1, 40), wf_fire)), color='#ff0000')\n",
    "\n",
    "# Visualització de l'error a cada punt\n",
    "for _, (x, y) in df.iterrows():\n",
    "    y_pred = linear_regression((1, x), wf_fire)\n",
    "    plt.plot((x, x), (y, y_pred), color='b', alpha=0.2)\n",
    "\n",
    "y_fire_pred = linear_regression(X_fire, wf_fire)\n",
    "print('Mean error: {:.2f}'.format(np.mean(np.abs(Y_fire - y_fire_pred))))"
   ]
  },
  {
   "cell_type": "code",
   "execution_count": 24,
   "metadata": {},
   "outputs": [],
   "source": []
  },
  {
   "cell_type": "markdown",
   "metadata": {},
   "source": [
    "## Linear regression amb polinomis\n",
    "\n",
    "Imagineu que la nostra variable $x$ ara l'elevèssim a més potències:\n",
    "$x, x^2, x^3, ...$\n",
    "\n",
    "La fòrmula de linear regression quedaria:\n",
    "\n",
    "$$ r: \\hat{y} = m_1 \\cdot x + m_2 \\cdot x^2 + m_3 \\cdot x^3 + ... + n $$\n",
    "\n",
    "Fixeu-vos que llavors estem aprenent un polinomi per modelar la \"recta\" de predicció.\n",
    "\n",
    "Com un polinomi de grau $k$ inclou tots els possibles polinomis de grau $k-1$, els resultats només poden millorar. Provem-ho:"
   ]
  },
  {
   "cell_type": "code",
   "execution_count": 25,
   "metadata": {},
   "outputs": [],
   "source": [
    "# Definim una funció per normalitzar per columnes (Obtenim una distribució Normal)\n",
    "normalize = lambda x: (x - np.mean(x)) / np.std(x)"
   ]
  },
  {
   "cell_type": "code",
   "execution_count": 59,
   "metadata": {},
   "outputs": [
    {
     "name": "stdout",
     "output_type": "stream",
     "text": [
      "(42, 2)\n",
      "[[33.66666686 12.54599808]]\n",
      "Mean error 1: 12.95\n",
      "\n",
      "(42, 3)\n",
      "1000/118.51\n",
      "2000/118.46\n",
      "3000/118.42\n",
      "4000/118.38\n",
      "5000/118.35\n",
      "6000/118.32\n",
      "7000/118.30\n",
      "8000/118.28\n",
      "9000/118.26\n",
      "10000/118.24\n",
      "11000/118.23\n",
      "12000/118.22\n",
      "13000/118.21\n",
      "14000/118.20\n",
      "15000/118.20\n",
      "16000/118.19\n",
      "17000/118.19\n",
      "18000/118.18\n",
      "19000/118.18\n",
      "20000/118.18\n",
      "[[ -30.58657029 -139.39607189   14.01995491]]\n",
      "Mean error 2: 13.38\n",
      "\n",
      "(42, 4)\n",
      "1000/112.57\n",
      "2000/112.26\n",
      "3000/111.98\n",
      "4000/111.73\n",
      "5000/111.49\n",
      "6000/111.28\n",
      "7000/111.08\n",
      "8000/110.91\n",
      "9000/110.74\n",
      "10000/110.59\n",
      "11000/110.45\n",
      "12000/110.33\n",
      "13000/110.22\n",
      "14000/110.11\n",
      "15000/110.02\n",
      "16000/109.93\n",
      "17000/109.85\n",
      "18000/109.78\n",
      "19000/109.72\n",
      "20000/109.66\n",
      "[[ -53.4689888    15.49789226 -337.93475221   18.12331859]]\n",
      "Mean error 3: 12.76\n",
      "\n",
      "(42, 5)\n",
      "1000/107.07\n",
      "2000/106.73\n",
      "3000/106.42\n",
      "4000/106.11\n",
      "5000/105.81\n",
      "6000/105.53\n",
      "7000/105.26\n",
      "8000/105.01\n",
      "9000/104.77\n",
      "10000/104.54\n",
      "11000/104.32\n",
      "12000/104.11\n",
      "13000/103.91\n",
      "14000/103.72\n",
      "15000/103.54\n",
      "16000/103.36\n",
      "17000/103.19\n",
      "18000/103.03\n",
      "19000/102.88\n",
      "20000/102.74\n",
      "[[ -36.64537304    6.17483037   -8.38231907 -353.8297866    17.69357645]]\n",
      "Mean error 4: 11.97\n",
      "\n",
      "(42, 6)\n",
      "1000/102.52\n",
      "2000/102.29\n",
      "3000/102.07\n",
      "4000/101.86\n",
      "5000/101.65\n",
      "6000/101.45\n",
      "7000/101.25\n",
      "8000/101.05\n",
      "9000/100.87\n",
      "10000/100.69\n",
      "11000/100.51\n",
      "12000/100.34\n",
      "13000/100.17\n",
      "14000/100.01\n",
      "15000/99.85\n",
      "16000/99.69\n",
      "17000/99.54\n",
      "18000/99.39\n",
      "19000/99.25\n",
      "20000/99.11\n",
      "[[ -12.88321596    1.86046442    2.04904175  -13.05163597 -278.92614959\n",
      "    15.00766367]]\n",
      "Mean error 5: 11.58\n",
      "\n"
     ]
    }
   ],
   "source": [
    "for i in range(1, 5 + 1):\n",
    "    def preprocess(x):\n",
    "        # Calcularem totes les potències fins a i, i les ajuntarem totes en la dimensió 1\n",
    "        x = np.concatenate([\n",
    "            x ** j\n",
    "            for j in range(1, i + 1)\n",
    "        ], axis = 1)\n",
    "        \n",
    "        # Normalitzeu les dades! Sense no entrenarem bé (proveu-ho).\n",
    "        x = normalize(x)\n",
    "        \n",
    "        return x\n",
    "    \n",
    "    X_fire = df['X'].values[:, np.newaxis]\n",
    "    X_fire = preprocess(X_fire)\n",
    "    X_fire = add_bias(X_fire)\n",
    "    Y_fire = df['Y'].values\n",
    "    \n",
    "    print(X_fire.shape)\n",
    "    \n",
    "    # Parametres per defecte del model\n",
    "    w0 = np.random.normal(size=(1, X_fire.shape[1]))\n",
    "\n",
    "    # Optimització del model\n",
    "    wf_fire = gradient_descend(lambda w: model(w, X_fire, Y_fire), \n",
    "                               w0, 0.001, \n",
    "                               max_iter=20000, print_iters=1000) # ~ @5s\n",
    "    print(wf_fire)\n",
    "    \n",
    "    y_fire_pred = linear_regression(X_fire, wf_fire)\n",
    "    error = np.mean(np.abs(Y_fire - y_fire_pred))\n",
    "    print(f'Mean error {i}: {error:.2f}\\n')"
   ]
  },
  {
   "cell_type": "markdown",
   "metadata": {},
   "source": [
    "Hem transformat un mètode simplement lineal en un polinomi, només afegint noves columnes amb transformacions de les dades.\n",
    "\n",
    "D'això se'n diu fer **feature engineering**: fem modificacions \"intel·ligents\" sobre les columnes del dataset per permetre'ns obtenir models més potents. \n",
    "\n",
    "Aquí ens hem limitat a fer potències de x, però podriem fer exponencials, logaritmes, talls binaris (x > 25 -> 1, x <= 25 -> 0), etc.\n",
    "\n",
    "Ara, torneu a implementar el mètode preprocess, fent que la matriu resultant tingui:\n",
    "\n",
    "* x (sense cap modificació)\n",
    "* $e^x$\n",
    "* $\\log x$ (això ho podem fer perquè en aquest dataset, x > 0 sempre)\n",
    "* $x > \\overline{x}$, on $\\overline{x}$ és la mitja de x.\n",
    "\n",
    "*No us oblideu de normalitzar!*\n",
    "\n",
    "\n",
    "**Justifica el resultat obtingut en aquest cas.**\n",
    "\n",
    "<hr />\n",
    "\n",
    "* RECORDA JUSTIFICAR LA RESPOSTA\n",
    "\n",
    "<hr />"
   ]
  },
  {
   "cell_type": "code",
   "execution_count": 44,
   "metadata": {},
   "outputs": [
    {
     "name": "stdout",
     "output_type": "stream",
     "text": [
      "[ 29  44  36  37  53  68  75  18  31  25  34  14  11  11  22  16  27   9\n",
      "  29  30  40  32  41 147  22  29  46  23   4  31  39  15  32  27  32  34\n",
      "  17  46  42  43  34  19]\n",
      "(42, 5)\n",
      "[[30.748608   -1.63550693  8.96678265 -4.40864645 -3.53688101]]\n",
      "Mean error 5: 10.44\n"
     ]
    }
   ],
   "source": [
    "'''\n",
    "El resultat obtingut en aquest cas ha sigut\n",
    "millor que en el feature engineering usant\n",
    "polinomis de grau 5. El punt obtingut aplicant\n",
    "el descens del gradient és diferent i menor en\n",
    "aquest cas, per tant resulta que per aquestes\n",
    "dades aquest feature engineering és millor.\n",
    "'''\n",
    "\n",
    "def preprocess(x):\n",
    "    x = np.concatenate([x, np.exp(x), np.log(x), x > np.mean(x)], axis=1)\n",
    "    x = normalize(x)\n",
    "    return x\n",
    "\n",
    "X_fire = df['X'].values[:, np.newaxis]\n",
    "X_fire = preprocess(X_fire)\n",
    "X_fire = add_bias(X_fire)\n",
    "Y_fire = df['Y'].values\n",
    "\n",
    "print(X_fire.shape)\n",
    "\n",
    "# Parametres per defecte del model\n",
    "w0 = np.random.normal(size=(1, X_fire.shape[1]))\n",
    "\n",
    "# Optimització del model\n",
    "wf_fire = gradient_descend(lambda w: model(w, X_fire, Y_fire), \n",
    "                           w0, 0.001, \n",
    "                           max_iter=20000, print_iters=1000) # ~ @5s\n",
    "print(wf_fire)\n",
    "\n",
    "y_fire_pred = linear_regression(X_fire, wf_fire)\n",
    "error = np.mean(np.abs(Y_fire - y_fire_pred))\n",
    "print(f'Mean error {i}: {error:.2f}')"
   ]
  },
  {
   "cell_type": "markdown",
   "metadata": {},
   "source": [
    "## Dades multidimensionals sobre les dades\n",
    "\n",
    "En l'apartat anterior tenim un sol valor de $x$ pel qual volíem obtenir un valor de $y$, però en la gran majoria de casos no serà així.\n",
    "\n",
    "En aquest apartat volem trobar una regressió lineal tal que $dim(X) = 6$, i per tant necessitem un total de 7 paràmetres ($dim(w) = 7$)"
   ]
  },
  {
   "cell_type": "code",
   "execution_count": 53,
   "metadata": {},
   "outputs": [
    {
     "data": {
      "text/html": [
       "<div>\n",
       "<style scoped>\n",
       "    .dataframe tbody tr th:only-of-type {\n",
       "        vertical-align: middle;\n",
       "    }\n",
       "\n",
       "    .dataframe tbody tr th {\n",
       "        vertical-align: top;\n",
       "    }\n",
       "\n",
       "    .dataframe thead th {\n",
       "        text-align: right;\n",
       "    }\n",
       "</style>\n",
       "<table border=\"1\" class=\"dataframe\">\n",
       "  <thead>\n",
       "    <tr style=\"text-align: right;\">\n",
       "      <th></th>\n",
       "      <th>Total population (in thousands)</th>\n",
       "      <th>% Change in population</th>\n",
       "      <th>% Change in children</th>\n",
       "      <th>% Free school lunch</th>\n",
       "      <th>% change in household income</th>\n",
       "      <th>Crime rate</th>\n",
       "      <th>% change in crime rate</th>\n",
       "    </tr>\n",
       "  </thead>\n",
       "  <tbody>\n",
       "    <tr>\n",
       "      <th>0</th>\n",
       "      <td>6.9</td>\n",
       "      <td>1.8</td>\n",
       "      <td>30.2</td>\n",
       "      <td>58.3</td>\n",
       "      <td>27.3</td>\n",
       "      <td>84.9</td>\n",
       "      <td>-14.2</td>\n",
       "    </tr>\n",
       "    <tr>\n",
       "      <th>1</th>\n",
       "      <td>8.4</td>\n",
       "      <td>28.5</td>\n",
       "      <td>38.8</td>\n",
       "      <td>87.5</td>\n",
       "      <td>39.8</td>\n",
       "      <td>172.6</td>\n",
       "      <td>-34.1</td>\n",
       "    </tr>\n",
       "    <tr>\n",
       "      <th>2</th>\n",
       "      <td>5.7</td>\n",
       "      <td>7.8</td>\n",
       "      <td>31.7</td>\n",
       "      <td>83.5</td>\n",
       "      <td>26.0</td>\n",
       "      <td>154.2</td>\n",
       "      <td>-15.8</td>\n",
       "    </tr>\n",
       "    <tr>\n",
       "      <th>3</th>\n",
       "      <td>7.4</td>\n",
       "      <td>2.3</td>\n",
       "      <td>24.2</td>\n",
       "      <td>14.2</td>\n",
       "      <td>29.4</td>\n",
       "      <td>35.2</td>\n",
       "      <td>-13.9</td>\n",
       "    </tr>\n",
       "    <tr>\n",
       "      <th>4</th>\n",
       "      <td>8.5</td>\n",
       "      <td>-0.7</td>\n",
       "      <td>28.1</td>\n",
       "      <td>46.7</td>\n",
       "      <td>26.6</td>\n",
       "      <td>69.2</td>\n",
       "      <td>-13.9</td>\n",
       "    </tr>\n",
       "    <tr>\n",
       "      <th>5</th>\n",
       "      <td>13.8</td>\n",
       "      <td>7.2</td>\n",
       "      <td>10.4</td>\n",
       "      <td>57.9</td>\n",
       "      <td>26.2</td>\n",
       "      <td>111.0</td>\n",
       "      <td>-22.6</td>\n",
       "    </tr>\n",
       "    <tr>\n",
       "      <th>6</th>\n",
       "      <td>1.7</td>\n",
       "      <td>32.2</td>\n",
       "      <td>7.5</td>\n",
       "      <td>73.8</td>\n",
       "      <td>50.5</td>\n",
       "      <td>704.1</td>\n",
       "      <td>-40.9</td>\n",
       "    </tr>\n",
       "    <tr>\n",
       "      <th>7</th>\n",
       "      <td>3.6</td>\n",
       "      <td>7.4</td>\n",
       "      <td>30.0</td>\n",
       "      <td>61.3</td>\n",
       "      <td>26.4</td>\n",
       "      <td>69.9</td>\n",
       "      <td>4.0</td>\n",
       "    </tr>\n",
       "    <tr>\n",
       "      <th>8</th>\n",
       "      <td>8.2</td>\n",
       "      <td>10.2</td>\n",
       "      <td>12.1</td>\n",
       "      <td>41.0</td>\n",
       "      <td>11.7</td>\n",
       "      <td>65.4</td>\n",
       "      <td>-32.5</td>\n",
       "    </tr>\n",
       "    <tr>\n",
       "      <th>9</th>\n",
       "      <td>5.0</td>\n",
       "      <td>10.5</td>\n",
       "      <td>13.6</td>\n",
       "      <td>17.4</td>\n",
       "      <td>14.7</td>\n",
       "      <td>132.1</td>\n",
       "      <td>-8.1</td>\n",
       "    </tr>\n",
       "    <tr>\n",
       "      <th>10</th>\n",
       "      <td>2.1</td>\n",
       "      <td>0.3</td>\n",
       "      <td>18.3</td>\n",
       "      <td>34.4</td>\n",
       "      <td>24.2</td>\n",
       "      <td>179.9</td>\n",
       "      <td>12.3</td>\n",
       "    </tr>\n",
       "    <tr>\n",
       "      <th>11</th>\n",
       "      <td>4.2</td>\n",
       "      <td>8.1</td>\n",
       "      <td>21.3</td>\n",
       "      <td>64.9</td>\n",
       "      <td>21.7</td>\n",
       "      <td>139.9</td>\n",
       "      <td>-35.0</td>\n",
       "    </tr>\n",
       "    <tr>\n",
       "      <th>12</th>\n",
       "      <td>3.9</td>\n",
       "      <td>2.0</td>\n",
       "      <td>33.1</td>\n",
       "      <td>82.0</td>\n",
       "      <td>26.3</td>\n",
       "      <td>108.7</td>\n",
       "      <td>-2.0</td>\n",
       "    </tr>\n",
       "    <tr>\n",
       "      <th>13</th>\n",
       "      <td>4.1</td>\n",
       "      <td>10.8</td>\n",
       "      <td>38.3</td>\n",
       "      <td>83.3</td>\n",
       "      <td>32.6</td>\n",
       "      <td>123.2</td>\n",
       "      <td>-2.2</td>\n",
       "    </tr>\n",
       "    <tr>\n",
       "      <th>14</th>\n",
       "      <td>4.2</td>\n",
       "      <td>1.9</td>\n",
       "      <td>36.9</td>\n",
       "      <td>61.8</td>\n",
       "      <td>21.6</td>\n",
       "      <td>104.7</td>\n",
       "      <td>-14.2</td>\n",
       "    </tr>\n",
       "    <tr>\n",
       "      <th>15</th>\n",
       "      <td>9.4</td>\n",
       "      <td>-1.5</td>\n",
       "      <td>22.4</td>\n",
       "      <td>22.2</td>\n",
       "      <td>33.5</td>\n",
       "      <td>61.5</td>\n",
       "      <td>-32.7</td>\n",
       "    </tr>\n",
       "    <tr>\n",
       "      <th>16</th>\n",
       "      <td>3.6</td>\n",
       "      <td>-0.3</td>\n",
       "      <td>19.6</td>\n",
       "      <td>8.6</td>\n",
       "      <td>27.0</td>\n",
       "      <td>68.2</td>\n",
       "      <td>-13.4</td>\n",
       "    </tr>\n",
       "    <tr>\n",
       "      <th>17</th>\n",
       "      <td>7.6</td>\n",
       "      <td>5.5</td>\n",
       "      <td>29.1</td>\n",
       "      <td>62.8</td>\n",
       "      <td>32.2</td>\n",
       "      <td>96.9</td>\n",
       "      <td>-8.7</td>\n",
       "    </tr>\n",
       "    <tr>\n",
       "      <th>18</th>\n",
       "      <td>8.5</td>\n",
       "      <td>4.8</td>\n",
       "      <td>32.8</td>\n",
       "      <td>86.2</td>\n",
       "      <td>16.0</td>\n",
       "      <td>258.0</td>\n",
       "      <td>0.5</td>\n",
       "    </tr>\n",
       "    <tr>\n",
       "      <th>19</th>\n",
       "      <td>7.5</td>\n",
       "      <td>2.3</td>\n",
       "      <td>26.5</td>\n",
       "      <td>18.7</td>\n",
       "      <td>23.7</td>\n",
       "      <td>32.0</td>\n",
       "      <td>-0.6</td>\n",
       "    </tr>\n",
       "    <tr>\n",
       "      <th>20</th>\n",
       "      <td>4.1</td>\n",
       "      <td>17.3</td>\n",
       "      <td>41.5</td>\n",
       "      <td>78.6</td>\n",
       "      <td>23.5</td>\n",
       "      <td>127.0</td>\n",
       "      <td>-12.5</td>\n",
       "    </tr>\n",
       "    <tr>\n",
       "      <th>21</th>\n",
       "      <td>4.6</td>\n",
       "      <td>68.6</td>\n",
       "      <td>39.0</td>\n",
       "      <td>14.6</td>\n",
       "      <td>38.2</td>\n",
       "      <td>27.1</td>\n",
       "      <td>45.4</td>\n",
       "    </tr>\n",
       "    <tr>\n",
       "      <th>22</th>\n",
       "      <td>7.2</td>\n",
       "      <td>3.0</td>\n",
       "      <td>20.2</td>\n",
       "      <td>41.4</td>\n",
       "      <td>27.6</td>\n",
       "      <td>70.7</td>\n",
       "      <td>-38.2</td>\n",
       "    </tr>\n",
       "    <tr>\n",
       "      <th>23</th>\n",
       "      <td>13.4</td>\n",
       "      <td>7.1</td>\n",
       "      <td>20.4</td>\n",
       "      <td>13.9</td>\n",
       "      <td>22.5</td>\n",
       "      <td>38.3</td>\n",
       "      <td>-33.6</td>\n",
       "    </tr>\n",
       "    <tr>\n",
       "      <th>24</th>\n",
       "      <td>10.3</td>\n",
       "      <td>1.4</td>\n",
       "      <td>29.8</td>\n",
       "      <td>43.7</td>\n",
       "      <td>29.4</td>\n",
       "      <td>54.0</td>\n",
       "      <td>-10.0</td>\n",
       "    </tr>\n",
       "    <tr>\n",
       "      <th>25</th>\n",
       "      <td>9.4</td>\n",
       "      <td>4.6</td>\n",
       "      <td>36.0</td>\n",
       "      <td>78.2</td>\n",
       "      <td>29.9</td>\n",
       "      <td>101.5</td>\n",
       "      <td>-14.6</td>\n",
       "    </tr>\n",
       "    <tr>\n",
       "      <th>26</th>\n",
       "      <td>2.5</td>\n",
       "      <td>-3.3</td>\n",
       "      <td>37.6</td>\n",
       "      <td>88.5</td>\n",
       "      <td>27.5</td>\n",
       "      <td>185.9</td>\n",
       "      <td>-7.6</td>\n",
       "    </tr>\n",
       "    <tr>\n",
       "      <th>27</th>\n",
       "      <td>10.3</td>\n",
       "      <td>-0.5</td>\n",
       "      <td>31.8</td>\n",
       "      <td>57.2</td>\n",
       "      <td>27.2</td>\n",
       "      <td>61.2</td>\n",
       "      <td>-17.6</td>\n",
       "    </tr>\n",
       "    <tr>\n",
       "      <th>28</th>\n",
       "      <td>7.5</td>\n",
       "      <td>22.3</td>\n",
       "      <td>28.6</td>\n",
       "      <td>5.7</td>\n",
       "      <td>31.3</td>\n",
       "      <td>38.6</td>\n",
       "      <td>27.2</td>\n",
       "    </tr>\n",
       "    <tr>\n",
       "      <th>29</th>\n",
       "      <td>18.7</td>\n",
       "      <td>6.2</td>\n",
       "      <td>39.7</td>\n",
       "      <td>55.8</td>\n",
       "      <td>28.7</td>\n",
       "      <td>52.6</td>\n",
       "      <td>-2.9</td>\n",
       "    </tr>\n",
       "    <tr>\n",
       "      <th>30</th>\n",
       "      <td>5.1</td>\n",
       "      <td>-2.0</td>\n",
       "      <td>23.8</td>\n",
       "      <td>29.0</td>\n",
       "      <td>29.3</td>\n",
       "      <td>62.6</td>\n",
       "      <td>-10.3</td>\n",
       "    </tr>\n",
       "    <tr>\n",
       "      <th>31</th>\n",
       "      <td>3.7</td>\n",
       "      <td>19.6</td>\n",
       "      <td>12.3</td>\n",
       "      <td>77.3</td>\n",
       "      <td>32.0</td>\n",
       "      <td>207.7</td>\n",
       "      <td>-45.6</td>\n",
       "    </tr>\n",
       "    <tr>\n",
       "      <th>32</th>\n",
       "      <td>10.3</td>\n",
       "      <td>3.0</td>\n",
       "      <td>31.1</td>\n",
       "      <td>51.7</td>\n",
       "      <td>26.2</td>\n",
       "      <td>42.4</td>\n",
       "      <td>-31.9</td>\n",
       "    </tr>\n",
       "    <tr>\n",
       "      <th>33</th>\n",
       "      <td>7.3</td>\n",
       "      <td>19.2</td>\n",
       "      <td>32.9</td>\n",
       "      <td>68.1</td>\n",
       "      <td>25.2</td>\n",
       "      <td>105.2</td>\n",
       "      <td>-35.7</td>\n",
       "    </tr>\n",
       "    <tr>\n",
       "      <th>34</th>\n",
       "      <td>4.2</td>\n",
       "      <td>7.0</td>\n",
       "      <td>22.1</td>\n",
       "      <td>41.2</td>\n",
       "      <td>21.4</td>\n",
       "      <td>68.6</td>\n",
       "      <td>-8.8</td>\n",
       "    </tr>\n",
       "    <tr>\n",
       "      <th>35</th>\n",
       "      <td>2.1</td>\n",
       "      <td>5.4</td>\n",
       "      <td>27.1</td>\n",
       "      <td>60.0</td>\n",
       "      <td>23.5</td>\n",
       "      <td>157.3</td>\n",
       "      <td>6.2</td>\n",
       "    </tr>\n",
       "    <tr>\n",
       "      <th>36</th>\n",
       "      <td>2.5</td>\n",
       "      <td>2.8</td>\n",
       "      <td>20.3</td>\n",
       "      <td>29.8</td>\n",
       "      <td>24.1</td>\n",
       "      <td>58.5</td>\n",
       "      <td>-27.5</td>\n",
       "    </tr>\n",
       "    <tr>\n",
       "      <th>37</th>\n",
       "      <td>8.1</td>\n",
       "      <td>8.5</td>\n",
       "      <td>30.0</td>\n",
       "      <td>66.4</td>\n",
       "      <td>26.0</td>\n",
       "      <td>63.1</td>\n",
       "      <td>-37.4</td>\n",
       "    </tr>\n",
       "    <tr>\n",
       "      <th>38</th>\n",
       "      <td>10.3</td>\n",
       "      <td>-1.9</td>\n",
       "      <td>15.9</td>\n",
       "      <td>39.9</td>\n",
       "      <td>38.5</td>\n",
       "      <td>86.4</td>\n",
       "      <td>-13.5</td>\n",
       "    </tr>\n",
       "    <tr>\n",
       "      <th>39</th>\n",
       "      <td>10.5</td>\n",
       "      <td>2.8</td>\n",
       "      <td>36.4</td>\n",
       "      <td>72.3</td>\n",
       "      <td>26.0</td>\n",
       "      <td>77.5</td>\n",
       "      <td>-21.6</td>\n",
       "    </tr>\n",
       "    <tr>\n",
       "      <th>40</th>\n",
       "      <td>5.8</td>\n",
       "      <td>2.0</td>\n",
       "      <td>24.2</td>\n",
       "      <td>19.5</td>\n",
       "      <td>28.3</td>\n",
       "      <td>63.5</td>\n",
       "      <td>2.2</td>\n",
       "    </tr>\n",
       "    <tr>\n",
       "      <th>41</th>\n",
       "      <td>6.9</td>\n",
       "      <td>2.9</td>\n",
       "      <td>20.7</td>\n",
       "      <td>6.6</td>\n",
       "      <td>25.8</td>\n",
       "      <td>68.9</td>\n",
       "      <td>-2.4</td>\n",
       "    </tr>\n",
       "    <tr>\n",
       "      <th>42</th>\n",
       "      <td>9.3</td>\n",
       "      <td>4.9</td>\n",
       "      <td>34.9</td>\n",
       "      <td>82.4</td>\n",
       "      <td>18.4</td>\n",
       "      <td>102.8</td>\n",
       "      <td>-12.0</td>\n",
       "    </tr>\n",
       "    <tr>\n",
       "      <th>43</th>\n",
       "      <td>11.4</td>\n",
       "      <td>2.6</td>\n",
       "      <td>38.7</td>\n",
       "      <td>78.2</td>\n",
       "      <td>18.4</td>\n",
       "      <td>86.6</td>\n",
       "      <td>-12.8</td>\n",
       "    </tr>\n",
       "  </tbody>\n",
       "</table>\n",
       "</div>"
      ],
      "text/plain": [
       "    Total population (in thousands)  % Change in population  \\\n",
       "0                               6.9                     1.8   \n",
       "1                               8.4                    28.5   \n",
       "2                               5.7                     7.8   \n",
       "3                               7.4                     2.3   \n",
       "4                               8.5                    -0.7   \n",
       "5                              13.8                     7.2   \n",
       "6                               1.7                    32.2   \n",
       "7                               3.6                     7.4   \n",
       "8                               8.2                    10.2   \n",
       "9                               5.0                    10.5   \n",
       "10                              2.1                     0.3   \n",
       "11                              4.2                     8.1   \n",
       "12                              3.9                     2.0   \n",
       "13                              4.1                    10.8   \n",
       "14                              4.2                     1.9   \n",
       "15                              9.4                    -1.5   \n",
       "16                              3.6                    -0.3   \n",
       "17                              7.6                     5.5   \n",
       "18                              8.5                     4.8   \n",
       "19                              7.5                     2.3   \n",
       "20                              4.1                    17.3   \n",
       "21                              4.6                    68.6   \n",
       "22                              7.2                     3.0   \n",
       "23                             13.4                     7.1   \n",
       "24                             10.3                     1.4   \n",
       "25                              9.4                     4.6   \n",
       "26                              2.5                    -3.3   \n",
       "27                             10.3                    -0.5   \n",
       "28                              7.5                    22.3   \n",
       "29                             18.7                     6.2   \n",
       "30                              5.1                    -2.0   \n",
       "31                              3.7                    19.6   \n",
       "32                             10.3                     3.0   \n",
       "33                              7.3                    19.2   \n",
       "34                              4.2                     7.0   \n",
       "35                              2.1                     5.4   \n",
       "36                              2.5                     2.8   \n",
       "37                              8.1                     8.5   \n",
       "38                             10.3                    -1.9   \n",
       "39                             10.5                     2.8   \n",
       "40                              5.8                     2.0   \n",
       "41                              6.9                     2.9   \n",
       "42                              9.3                     4.9   \n",
       "43                             11.4                     2.6   \n",
       "\n",
       "    % Change in children  % Free school lunch  % change in household income  \\\n",
       "0                   30.2                 58.3                          27.3   \n",
       "1                   38.8                 87.5                          39.8   \n",
       "2                   31.7                 83.5                          26.0   \n",
       "3                   24.2                 14.2                          29.4   \n",
       "4                   28.1                 46.7                          26.6   \n",
       "5                   10.4                 57.9                          26.2   \n",
       "6                    7.5                 73.8                          50.5   \n",
       "7                   30.0                 61.3                          26.4   \n",
       "8                   12.1                 41.0                          11.7   \n",
       "9                   13.6                 17.4                          14.7   \n",
       "10                  18.3                 34.4                          24.2   \n",
       "11                  21.3                 64.9                          21.7   \n",
       "12                  33.1                 82.0                          26.3   \n",
       "13                  38.3                 83.3                          32.6   \n",
       "14                  36.9                 61.8                          21.6   \n",
       "15                  22.4                 22.2                          33.5   \n",
       "16                  19.6                  8.6                          27.0   \n",
       "17                  29.1                 62.8                          32.2   \n",
       "18                  32.8                 86.2                          16.0   \n",
       "19                  26.5                 18.7                          23.7   \n",
       "20                  41.5                 78.6                          23.5   \n",
       "21                  39.0                 14.6                          38.2   \n",
       "22                  20.2                 41.4                          27.6   \n",
       "23                  20.4                 13.9                          22.5   \n",
       "24                  29.8                 43.7                          29.4   \n",
       "25                  36.0                 78.2                          29.9   \n",
       "26                  37.6                 88.5                          27.5   \n",
       "27                  31.8                 57.2                          27.2   \n",
       "28                  28.6                  5.7                          31.3   \n",
       "29                  39.7                 55.8                          28.7   \n",
       "30                  23.8                 29.0                          29.3   \n",
       "31                  12.3                 77.3                          32.0   \n",
       "32                  31.1                 51.7                          26.2   \n",
       "33                  32.9                 68.1                          25.2   \n",
       "34                  22.1                 41.2                          21.4   \n",
       "35                  27.1                 60.0                          23.5   \n",
       "36                  20.3                 29.8                          24.1   \n",
       "37                  30.0                 66.4                          26.0   \n",
       "38                  15.9                 39.9                          38.5   \n",
       "39                  36.4                 72.3                          26.0   \n",
       "40                  24.2                 19.5                          28.3   \n",
       "41                  20.7                  6.6                          25.8   \n",
       "42                  34.9                 82.4                          18.4   \n",
       "43                  38.7                 78.2                          18.4   \n",
       "\n",
       "    Crime rate  % change in crime rate  \n",
       "0         84.9                   -14.2  \n",
       "1        172.6                   -34.1  \n",
       "2        154.2                   -15.8  \n",
       "3         35.2                   -13.9  \n",
       "4         69.2                   -13.9  \n",
       "5        111.0                   -22.6  \n",
       "6        704.1                   -40.9  \n",
       "7         69.9                     4.0  \n",
       "8         65.4                   -32.5  \n",
       "9        132.1                    -8.1  \n",
       "10       179.9                    12.3  \n",
       "11       139.9                   -35.0  \n",
       "12       108.7                    -2.0  \n",
       "13       123.2                    -2.2  \n",
       "14       104.7                   -14.2  \n",
       "15        61.5                   -32.7  \n",
       "16        68.2                   -13.4  \n",
       "17        96.9                    -8.7  \n",
       "18       258.0                     0.5  \n",
       "19        32.0                    -0.6  \n",
       "20       127.0                   -12.5  \n",
       "21        27.1                    45.4  \n",
       "22        70.7                   -38.2  \n",
       "23        38.3                   -33.6  \n",
       "24        54.0                   -10.0  \n",
       "25       101.5                   -14.6  \n",
       "26       185.9                    -7.6  \n",
       "27        61.2                   -17.6  \n",
       "28        38.6                    27.2  \n",
       "29        52.6                    -2.9  \n",
       "30        62.6                   -10.3  \n",
       "31       207.7                   -45.6  \n",
       "32        42.4                   -31.9  \n",
       "33       105.2                   -35.7  \n",
       "34        68.6                    -8.8  \n",
       "35       157.3                     6.2  \n",
       "36        58.5                   -27.5  \n",
       "37        63.1                   -37.4  \n",
       "38        86.4                   -13.5  \n",
       "39        77.5                   -21.6  \n",
       "40        63.5                     2.2  \n",
       "41        68.9                    -2.4  \n",
       "42       102.8                   -12.0  \n",
       "43        86.6                   -12.8  "
      ]
     },
     "metadata": {},
     "output_type": "display_data"
    }
   ],
   "source": [
    "# Lectura de les dades\n",
    "dg = pd.read_csv('data/mlr10.csv', index_col=0)\n",
    "Y_pop = dg.values[:, 0]\n",
    "X_pop = dg.values[:, 1:]\n",
    "X_pop = add_bias(X_pop)\n",
    "display(dg.head())"
   ]
  },
  {
   "cell_type": "code",
   "execution_count": 46,
   "metadata": {},
   "outputs": [
    {
     "name": "stdout",
     "output_type": "stream",
     "text": [
      "1000/22.86\n",
      "2000/21.08\n",
      "3000/21.02\n",
      "4000/21.02\n",
      "5000/21.02\n",
      "6000/21.01\n",
      "7000/21.01\n",
      "8000/21.01\n",
      "9000/21.01\n",
      "10000/21.00\n",
      "11000/21.00\n",
      "12000/21.00\n",
      "13000/21.00\n",
      "14000/20.99\n",
      "15000/20.99\n",
      "16000/20.99\n",
      "17000/20.99\n",
      "18000/20.99\n",
      "19000/20.98\n",
      "20000/20.98\n",
      "21000/20.98\n",
      "22000/20.98\n",
      "23000/20.97\n",
      "24000/20.97\n",
      "25000/20.97\n",
      "26000/20.97\n",
      "27000/20.97\n",
      "28000/20.96\n",
      "29000/20.96\n",
      "30000/20.96\n",
      "31000/20.96\n",
      "32000/20.95\n",
      "33000/20.95\n",
      "34000/20.95\n",
      "35000/20.95\n",
      "36000/20.95\n",
      "37000/20.94\n",
      "38000/20.94\n",
      "39000/20.94\n",
      "40000/20.94\n",
      "41000/20.94\n",
      "42000/20.93\n",
      "43000/20.93\n",
      "44000/20.93\n",
      "45000/20.93\n",
      "46000/20.92\n",
      "47000/20.92\n",
      "48000/20.92\n",
      "49000/20.92\n",
      "50000/20.92\n",
      "51000/20.91\n",
      "52000/20.91\n",
      "53000/20.91\n",
      "54000/20.91\n",
      "55000/20.91\n",
      "56000/20.91\n",
      "57000/20.90\n",
      "58000/20.90\n",
      "59000/20.90\n",
      "60000/20.90\n",
      "61000/20.90\n",
      "62000/20.89\n",
      "63000/20.89\n",
      "64000/20.89\n",
      "65000/20.89\n",
      "66000/20.89\n",
      "67000/20.88\n",
      "68000/20.88\n",
      "69000/20.88\n",
      "70000/20.88\n",
      "71000/20.88\n",
      "72000/20.88\n",
      "73000/20.87\n",
      "74000/20.87\n",
      "75000/20.87\n",
      "76000/20.87\n",
      "77000/20.87\n",
      "78000/20.87\n",
      "79000/20.86\n",
      "80000/20.86\n",
      "81000/20.86\n",
      "82000/20.86\n",
      "83000/20.86\n",
      "84000/20.86\n",
      "85000/20.85\n",
      "86000/20.85\n",
      "87000/20.85\n",
      "88000/20.85\n",
      "89000/20.85\n",
      "90000/20.85\n",
      "91000/20.84\n",
      "92000/20.84\n",
      "93000/20.84\n",
      "94000/20.84\n",
      "95000/20.84\n",
      "96000/20.84\n",
      "97000/20.83\n",
      "98000/20.83\n",
      "99000/20.83\n",
      "100000/20.83\n",
      "[[ 1.41733512 -0.02798506  0.12622563 -0.00942219  0.11739988 -0.01259049\n",
      "  -0.07270951]]\n"
     ]
    }
   ],
   "source": [
    "# Parametres per defecte del model\n",
    "w0 = np.random.normal(size=(1, X_pop.shape[1]))\n",
    "\n",
    "# Optimització del model\n",
    "wf_population = gradient_descend(lambda w: model(w, X_pop, Y_pop), w0, 0.001, max_iter=100000, print_iters=1000) # ~ @20s\n",
    "print(wf_population)"
   ]
  },
  {
   "cell_type": "code",
   "execution_count": 47,
   "metadata": {},
   "outputs": [],
   "source": [
    "# Utilitzant els paràmetres apresos, obtenim la predicció per a cada punt\n",
    "y_pop_pred = linear_regression(X_pop, wf_population)"
   ]
  },
  {
   "cell_type": "code",
   "execution_count": 48,
   "metadata": {},
   "outputs": [
    {
     "name": "stdout",
     "output_type": "stream",
     "text": [
      "Mean error: 2.40\n"
     ]
    },
    {
     "data": {
      "image/png": "[encoded data removed]",
      "text/plain": [
       "<Figure size 1440x216 with 1 Axes>"
      ]
     },
     "metadata": {
      "needs_background": "light"
     },
     "output_type": "display_data"
    }
   ],
   "source": [
    "# Visualització de les dades originals i les prediccions\n",
    "plt.figure(figsize=(20, 3))\n",
    "plt.scatter(range(Y_pop.shape[0]), Y_pop, color='green', label = 'y')\n",
    "plt.scatter(range(Y_pop.shape[0]), y_pop_pred, color='red', label = 'y_pred')\n",
    "plt.xlabel('Samples')\n",
    "plt.ylabel('Total population')\n",
    "plt.legend()\n",
    "\n",
    "for x in range(X_pop.shape[0]):\n",
    "    plt.plot((x, x), (0, 20), '-.', color='gray', alpha=0.2)\n",
    "\n",
    "print('Mean error: {:.2f}'.format(np.mean(np.abs(Y_pop - y_pop_pred))))"
   ]
  },
  {
   "cell_type": "markdown",
   "metadata": {},
   "source": [
    "**Feu feature engineering** vosaltres mateixos i intenteu aconseguir que la vostra loss sigui **inferior a 0.5**.\n",
    "\n",
    "Podeu canviar els valors d'entrenament (canviar el nombre d'epochs, o el learning rate lr), <br />\n",
    "tot i que els valors establerts (```n_epochs=10000, lr=1e-3```) ja us poden donar el resultat esperat.\n",
    "\n",
    "Idees:\n",
    "\n",
    "* Feu servir les potències de cada columna de x.\n",
    "* Penseu si ajuda o no normalitzar abans de fer cap modificació.\n",
    "* Proveu a afegir algunes funcions diferents (log, exp, binarització...).\n",
    "* Combinacions.\n",
    "\n",
    "\n",
    "**Combinacions**:\n",
    "\n",
    "Tenim 6 columnes d'input. Les tres primeres millores utilitzen transformacions que només aprofiten cada columna per separat ($X_1^3$, $X_2^3$, etc.)\n",
    "\n",
    "Però què passa si \"barregem\" columnes, fent que el model pugui aprofitar les interaccions entre elles?\n",
    "\n",
    "Per exemple, podriem afegir les columnes $X_1 \\cdot X_2, X_1 \\cdot X_3, ..., X_5 \\cdot X_6$.\n",
    "\n",
    "Això serien les combinacions de 2 elements. I de 6 elements?\n",
    "\n",
    "$X_1 \\cdot X_2 \\cdot X_3 \\cdot X_4 \\cdot X_5 \\cdot X_6$.\n",
    "\n",
    "**Veieu si ajuda, i com, aquest afegit. Comenteu els resultats obtinguts.**\n",
    "\n",
    "<hr />\n",
    "\n",
    "* RECORDA JUSTIFICAR LA RESPOSTA\n",
    "\n",
    "<hr />\n"
   ]
  },
  {
   "cell_type": "code",
   "execution_count": 101,
   "metadata": {},
   "outputs": [],
   "source": [
    "from itertools import combinations"
   ]
  },
  {
   "cell_type": "code",
   "execution_count": 90,
   "metadata": {},
   "outputs": [
    {
     "ename": "ValueError",
     "evalue": "all the input arrays must have same number of dimensions, but the array at index 0 has 2 dimension(s) and the array at index 5 has 1 dimension(s)",
     "output_type": "error",
     "traceback": [
      "\u001b[1;31m---------------------------------------------------------------------------\u001b[0m",
      "\u001b[1;31mValueError\u001b[0m                                Traceback (most recent call last)",
      "Input \u001b[1;32mIn [90]\u001b[0m, in \u001b[0;36m<cell line: 9>\u001b[1;34m()\u001b[0m\n\u001b[0;32m      5\u001b[0m     \u001b[38;5;28;01mreturn\u001b[39;00m x\n\u001b[0;32m      8\u001b[0m X_pop \u001b[38;5;241m=\u001b[39m dg\u001b[38;5;241m.\u001b[39mvalues[:, \u001b[38;5;241m1\u001b[39m:]\n\u001b[1;32m----> 9\u001b[0m X_pop \u001b[38;5;241m=\u001b[39m \u001b[43mpreprocess\u001b[49m\u001b[43m(\u001b[49m\u001b[43mX_pop\u001b[49m\u001b[43m)\u001b[49m\n\u001b[0;32m     10\u001b[0m X_pop \u001b[38;5;241m=\u001b[39m add_bias(X_pop)\n\u001b[0;32m     11\u001b[0m Y_pop \u001b[38;5;241m=\u001b[39m dg\u001b[38;5;241m.\u001b[39mvalues[:, \u001b[38;5;241m0\u001b[39m]\n",
      "Input \u001b[1;32mIn [90]\u001b[0m, in \u001b[0;36mpreprocess\u001b[1;34m(x)\u001b[0m\n\u001b[0;32m      1\u001b[0m \u001b[38;5;28;01mdef\u001b[39;00m \u001b[38;5;21mpreprocess\u001b[39m(x):\n\u001b[0;32m      2\u001b[0m     x \u001b[38;5;241m=\u001b[39m normalize(x)\n\u001b[1;32m----> 3\u001b[0m     x \u001b[38;5;241m=\u001b[39m \u001b[43mnp\u001b[49m\u001b[38;5;241;43m.\u001b[39;49m\u001b[43mconcatenate\u001b[49m\u001b[43m(\u001b[49m\u001b[43m[\u001b[49m\u001b[43mx\u001b[49m\u001b[43m,\u001b[49m\u001b[43m \u001b[49m\u001b[43mx\u001b[49m\u001b[38;5;241;43m*\u001b[39;49m\u001b[38;5;241;43m*\u001b[39;49m\u001b[38;5;241;43m2\u001b[39;49m\u001b[43m,\u001b[49m\u001b[43m \u001b[49m\u001b[43mx\u001b[49m\u001b[43m \u001b[49m\u001b[38;5;241;43m>\u001b[39;49m\u001b[43m \u001b[49m\u001b[43mnp\u001b[49m\u001b[38;5;241;43m.\u001b[39;49m\u001b[43mmean\u001b[49m\u001b[43m(\u001b[49m\u001b[43mx\u001b[49m\u001b[43m)\u001b[49m\u001b[43m,\u001b[49m\u001b[43m \u001b[49m\u001b[43mnp\u001b[49m\u001b[38;5;241;43m.\u001b[39;49m\u001b[43mlog\u001b[49m\u001b[43m(\u001b[49m\u001b[43mnp\u001b[49m\u001b[38;5;241;43m.\u001b[39;49m\u001b[43mabs\u001b[49m\u001b[43m(\u001b[49m\u001b[43mx\u001b[49m\u001b[43m)\u001b[49m\u001b[43m)\u001b[49m\u001b[43m,\u001b[49m\u001b[43m \u001b[49m\u001b[43mnp\u001b[49m\u001b[38;5;241;43m.\u001b[39;49m\u001b[43mlog\u001b[49m\u001b[43m(\u001b[49m\u001b[43mnp\u001b[49m\u001b[38;5;241;43m.\u001b[39;49m\u001b[43mabs\u001b[49m\u001b[43m(\u001b[49m\u001b[43mx\u001b[49m\u001b[43m)\u001b[49m\u001b[43m)\u001b[49m\u001b[43m \u001b[49m\u001b[38;5;241;43m>\u001b[39;49m\u001b[43m \u001b[49m\u001b[38;5;241;43m0\u001b[39;49m\u001b[43m,\u001b[49m\u001b[43m \u001b[49m\u001b[43mx\u001b[49m\u001b[43m[\u001b[49m\u001b[43m:\u001b[49m\u001b[43m,\u001b[49m\u001b[43m \u001b[49m\u001b[38;5;241;43m1\u001b[39;49m\u001b[43m]\u001b[49m\u001b[43m \u001b[49m\u001b[38;5;241;43m*\u001b[39;49m\u001b[43m \u001b[49m\u001b[43mx\u001b[49m\u001b[43m[\u001b[49m\u001b[43m:\u001b[49m\u001b[43m,\u001b[49m\u001b[43m \u001b[49m\u001b[38;5;241;43m2\u001b[39;49m\u001b[43m]\u001b[49m\u001b[43m]\u001b[49m\u001b[43m,\u001b[49m\u001b[43m \u001b[49m\u001b[43maxis\u001b[49m\u001b[38;5;241;43m=\u001b[39;49m\u001b[38;5;241;43m1\u001b[39;49m\u001b[43m)\u001b[49m\n\u001b[0;32m      4\u001b[0m     x \u001b[38;5;241m=\u001b[39m normalize(x)\n\u001b[0;32m      5\u001b[0m     \u001b[38;5;28;01mreturn\u001b[39;00m x\n",
      "File \u001b[1;32mE:\\Programas\\anaconda3\\lib\\site-packages\\autograd\\numpy\\numpy_wrapper.py:38\u001b[0m, in \u001b[0;36m<lambda>\u001b[1;34m(arr_list, axis)\u001b[0m\n\u001b[0;32m     35\u001b[0m \u001b[38;5;129m@primitive\u001b[39m\n\u001b[0;32m     36\u001b[0m \u001b[38;5;28;01mdef\u001b[39;00m \u001b[38;5;21mconcatenate_args\u001b[39m(axis, \u001b[38;5;241m*\u001b[39margs):\n\u001b[0;32m     37\u001b[0m     \u001b[38;5;28;01mreturn\u001b[39;00m _np\u001b[38;5;241m.\u001b[39mconcatenate(args, axis)\u001b[38;5;241m.\u001b[39mview(ndarray)\n\u001b[1;32m---> 38\u001b[0m concatenate \u001b[38;5;241m=\u001b[39m \u001b[38;5;28;01mlambda\u001b[39;00m arr_list, axis\u001b[38;5;241m=\u001b[39m\u001b[38;5;241m0\u001b[39m : \u001b[43mconcatenate_args\u001b[49m\u001b[43m(\u001b[49m\u001b[43maxis\u001b[49m\u001b[43m,\u001b[49m\u001b[43m \u001b[49m\u001b[38;5;241;43m*\u001b[39;49m\u001b[43marr_list\u001b[49m\u001b[43m)\u001b[49m\n\u001b[0;32m     39\u001b[0m vstack \u001b[38;5;241m=\u001b[39m row_stack \u001b[38;5;241m=\u001b[39m \u001b[38;5;28;01mlambda\u001b[39;00m tup: concatenate([atleast_2d(_m) \u001b[38;5;28;01mfor\u001b[39;00m _m \u001b[38;5;129;01min\u001b[39;00m tup], axis\u001b[38;5;241m=\u001b[39m\u001b[38;5;241m0\u001b[39m)\n\u001b[0;32m     40\u001b[0m \u001b[38;5;28;01mdef\u001b[39;00m \u001b[38;5;21mhstack\u001b[39m(tup):\n",
      "File \u001b[1;32mE:\\Programas\\anaconda3\\lib\\site-packages\\autograd\\tracer.py:48\u001b[0m, in \u001b[0;36mprimitive.<locals>.f_wrapped\u001b[1;34m(*args, **kwargs)\u001b[0m\n\u001b[0;32m     46\u001b[0m     \u001b[38;5;28;01mreturn\u001b[39;00m new_box(ans, trace, node)\n\u001b[0;32m     47\u001b[0m \u001b[38;5;28;01melse\u001b[39;00m:\n\u001b[1;32m---> 48\u001b[0m     \u001b[38;5;28;01mreturn\u001b[39;00m f_raw(\u001b[38;5;241m*\u001b[39margs, \u001b[38;5;241m*\u001b[39m\u001b[38;5;241m*\u001b[39mkwargs)\n",
      "File \u001b[1;32mE:\\Programas\\anaconda3\\lib\\site-packages\\autograd\\numpy\\numpy_wrapper.py:37\u001b[0m, in \u001b[0;36mconcatenate_args\u001b[1;34m(axis, *args)\u001b[0m\n\u001b[0;32m     35\u001b[0m \u001b[38;5;129m@primitive\u001b[39m\n\u001b[0;32m     36\u001b[0m \u001b[38;5;28;01mdef\u001b[39;00m \u001b[38;5;21mconcatenate_args\u001b[39m(axis, \u001b[38;5;241m*\u001b[39margs):\n\u001b[1;32m---> 37\u001b[0m     \u001b[38;5;28;01mreturn\u001b[39;00m \u001b[43m_np\u001b[49m\u001b[38;5;241;43m.\u001b[39;49m\u001b[43mconcatenate\u001b[49m\u001b[43m(\u001b[49m\u001b[43margs\u001b[49m\u001b[43m,\u001b[49m\u001b[43m \u001b[49m\u001b[43maxis\u001b[49m\u001b[43m)\u001b[49m\u001b[38;5;241m.\u001b[39mview(ndarray)\n",
      "File \u001b[1;32m<__array_function__ internals>:5\u001b[0m, in \u001b[0;36mconcatenate\u001b[1;34m(*args, **kwargs)\u001b[0m\n",
      "\u001b[1;31mValueError\u001b[0m: all the input arrays must have same number of dimensions, but the array at index 0 has 2 dimension(s) and the array at index 5 has 1 dimension(s)"
     ]
    }
   ],
   "source": [
    "def preprocess(x):\n",
    "    x = normalize(x)\n",
    "    x = np.concatenate([x, x**2, x > np.mean(x), np.log(np.abs(x)), np.log(np.abs(x)) > 0, x[:, 1] * x[:, 2]], axis=1)\n",
    "    x = normalize(x)\n",
    "    return x\n",
    "\n",
    "\n",
    "X_pop = dg.values[:, 1:]\n",
    "X_pop = preprocess(X_pop)\n",
    "X_pop = add_bias(X_pop)\n",
    "Y_pop = dg.values[:, 0]\n",
    "\n",
    "print(X_pop.shape)\n",
    "\n",
    "# Parametres per defecte del model\n",
    "w0 = np.random.normal(size=(1, X_pop.shape[1]))\n",
    "\n",
    "# Optimització del model\n",
    "wf_pop = gradient_descend(lambda w: model(w, X_pop, Y_pop), \n",
    "                           w0, 0.001, \n",
    "                           max_iter=20000, print_iters=1000) # ~ @5s\n",
    "print(wf_pop.shape)\n",
    "\n",
    "y_pop_pred = linear_regression(X_pop, wf_pop)\n",
    "error = np.mean(np.abs(Y_pop - y_pop_pred))\n",
    "print(f'Mean error: {error:.2f}')"
   ]
  },
  {
   "cell_type": "code",
   "execution_count": 102,
   "metadata": {
    "collapsed": false
   },
   "outputs": [
    {
     "ename": "TypeError",
     "evalue": "only integer scalar arrays can be converted to a scalar index",
     "output_type": "error",
     "traceback": [
      "\u001b[1;31m---------------------------------------------------------------------------\u001b[0m",
      "\u001b[1;31mTypeError\u001b[0m                                 Traceback (most recent call last)",
      "Input \u001b[1;32mIn [102]\u001b[0m, in \u001b[0;36m<cell line: 1>\u001b[1;34m()\u001b[0m\n\u001b[1;32m----> 1\u001b[0m \u001b[38;5;28mprint\u001b[39m(\u001b[38;5;28mlist\u001b[39m(\u001b[43mcombinations\u001b[49m\u001b[43m(\u001b[49m\u001b[43mX_pop\u001b[49m\u001b[43m[\u001b[49m\u001b[43m:\u001b[49m\u001b[43m,\u001b[49m\u001b[43m \u001b[49m\u001b[38;5;241;43m1\u001b[39;49m\u001b[43m]\u001b[49m\u001b[43m,\u001b[49m\u001b[43m \u001b[49m\u001b[43mX_pop\u001b[49m\u001b[43m[\u001b[49m\u001b[43m:\u001b[49m\u001b[43m,\u001b[49m\u001b[43m \u001b[49m\u001b[38;5;241;43m2\u001b[39;49m\u001b[43m]\u001b[49m\u001b[43m)\u001b[49m))\n",
      "\u001b[1;31mTypeError\u001b[0m: only integer scalar arrays can be converted to a scalar index"
     ]
    }
   ],
   "source": [
    "print(list(combinations(X_pop[:, 1], X_pop[:, 2])))"
   ]
  },
  {
   "cell_type": "markdown",
   "metadata": {},
   "source": [
    "## Airbnb: dades reals (a baixa escala)\n",
    "\n",
    "**Airbnb Dataset**\n",
    "\n",
    "Les dades amb les que treballarem en aquesta pràctica són dades reals recopilades per *Airbnb*. \n",
    "Aquestes analitzen la informació disponible sobre els llistats d’Airbnb d’una ciutat, proporcionant filtres i mètriques clau perquè pugueu veure com Airbnb s’utilitza per competir amb el mercat d’habitatges residencials.\n",
    "\n",
    "Amb aquestes dades podrieu fer preguntes fonamentals sobre Airbnb a qualsevol barri o a tota la ciutat. Preguntes com:\n",
    "\n",
    "- \"Quants fitxes hi ha al meu barri i on són?\"\n",
    "- \"Quantes cases i apartaments es lloguen amb freqüència a turistes i no a residents a llarg termini?\"\n",
    "- \"Quant costen els hostes des del lloguer als turistes (compareu-ho amb els lloguers a llarg termini)?\"\n",
    "- \"Quins amfitrions tenen una empresa amb diversos llistats i on?\"\n",
    "\n",
    "Les dades inclou dades com:\n",
    "- Quantitat de nits que es lloga una vivenda a l'any.\n",
    "- Estades mínimes.\n",
    "- Quantes habitacions es lloguen en un edifici.\n",
    "- Nombre d’ocupats permesos en un lloguer.\n",
    "\n",
    "En el nostre cas, **volem predir el preu de la vivenda utilitzant les dades numèriques.**"
   ]
  },
  {
   "cell_type": "code",
   "execution_count": null,
   "metadata": {},
   "outputs": [],
   "source": [
    "df_airbnb = pd.read_csv('data/clean_scraping.csv', index_col = 'Unnamed: 0')"
   ]
  },
  {
   "cell_type": "code",
   "execution_count": null,
   "metadata": {},
   "outputs": [],
   "source": [
    "display(df_airbnb.head())"
   ]
  },
  {
   "cell_type": "code",
   "execution_count": null,
   "metadata": {},
   "outputs": [],
   "source": [
    "df_airbnb.shape"
   ]
  },
  {
   "cell_type": "code",
   "execution_count": null,
   "metadata": {},
   "outputs": [],
   "source": [
    "df_airbnb.columns"
   ]
  },
  {
   "cell_type": "markdown",
   "metadata": {},
   "source": [
    "A la variable *y_true* guardarem la variable que volem predir amb el nostre model lineal."
   ]
  },
  {
   "cell_type": "code",
   "execution_count": null,
   "metadata": {},
   "outputs": [],
   "source": [
    "y_true = df_airbnb.price"
   ]
  },
  {
   "cell_type": "markdown",
   "metadata": {},
   "source": [
    "Definim ara quina és la informació que utilitzarem per fer la predicció.\n",
    "\n",
    "Com hem vist abans, algunes variables no són numèriques, per tant cal fer una conversió de la informació."
   ]
  },
  {
   "cell_type": "code",
   "execution_count": null,
   "metadata": {},
   "outputs": [],
   "source": [
    "X = df_airbnb[['neighbourhood_group', 'neighbourhood', 'latitude', 'longitude', 'room_type', 'minimum_nights', 'number_of_reviews',\n",
    "       'reviews_per_month', 'calculated_host_listings_count', 'availability_365']]"
   ]
  },
  {
   "cell_type": "code",
   "execution_count": null,
   "metadata": {},
   "outputs": [],
   "source": [
    "cleanup_columns = { 'neighbourhood_group': { name: idx for idx, name in enumerate(X.neighbourhood_group.unique())},\n",
    "                    'neighbourhood': { name: idx for idx, name in enumerate(X.neighbourhood.unique())},\n",
    "                    'room_type': { name: idx for idx, name in enumerate(X.room_type.unique())},\n",
    "                  }"
   ]
  },
  {
   "cell_type": "code",
   "execution_count": null,
   "metadata": {},
   "outputs": [],
   "source": [
    "X = X.replace(cleanup_columns).values"
   ]
  },
  {
   "cell_type": "code",
   "execution_count": null,
   "metadata": {},
   "outputs": [],
   "source": []
  },
  {
   "cell_type": "markdown",
   "metadata": {},
   "source": [
    "No ens oblidem de normalitzar les dades abans de passar-les a LinearRegression!"
   ]
  },
  {
   "cell_type": "code",
   "execution_count": null,
   "metadata": {},
   "outputs": [],
   "source": [
    "X = (X - X.mean(0)) / X.std(0)"
   ]
  },
  {
   "cell_type": "markdown",
   "metadata": {},
   "source": [
    "Un cop netejades les dades, separarem un conjunt de les dades. "
   ]
  },
  {
   "cell_type": "markdown",
   "metadata": {},
   "source": [
    "### Partició de dades\n",
    "\n",
    "En l'aprenentatge automàtic, una tasca habitual és l'estudi i la construcció d'algorismes que poden aprendre i fer prediccions sobre dades. Aquests algoritmes funcionen fent prediccions o decisions basades en dades, mitjançant la creació d'un model matemàtic a partir de dades d'entrada.\n",
    "\n",
    "Les dades que s’utilitzen per construir el model final normalment provenen de múltiples conjunts de dades. En particular, dos conjunts de dades s’utilitzen habitualment en diferents etapes de la creació del model: dades d'entrenament (train) i de prova (test).\n",
    "\n",
    "El model s’adapta inicialment a un conjunt de dades d’entrenament, que és un conjunt d’exemples que s’utilitzen per ajustar els paràmetres (per exemple, pesos del model de regressió linal) del model. \n",
    "El model es forma en el **conjunt de dades d’entrenament** que sovint consisteix en parells d’un vector d’entrada (o escalar) i el vector de sortida corresponent (o escalar), que es denomina habitualment com a objectiu (o etiqueta). El model actual s'executa amb el conjunt de dades d'entrenament i produeix un resultat, que es compara després amb l'objectiu, per a cada vector d'entrada del conjunt de dades d'entrenament. A partir del resultat de la comparació i de l'algorisme d'aprenentatge específic que s'utilitza, s'ajusten els paràmetres del model. L'adaptació del model pot incloure selecció de variables i estimació de paràmetres.\n",
    "\n",
    "El **conjunt de dades de prova** és un conjunt de dades utilitzat per proporcionar una avaluació imparcial d’un model. Si les dades de prova no s’han utilitzat mai durant l'entrenament, el resultats representa el comportament esperat del model.\n",
    "\n",
    "A continuació heu d'implementar la funció *split* que crea aquesta partició de dades."
   ]
  },
  {
   "cell_type": "code",
   "execution_count": null,
   "metadata": {},
   "outputs": [],
   "source": [
    "def split(X, Y, train_percent, random_seed=None):\n",
    "    \"\"\"\n",
    "    Divideix el conjunt de dades en dos subconjunts aleatoris diferents, sense\n",
    "    intersecció.\n",
    "    La divisió es fa conjuntament en X i Y, és a dir, donat una dada x de X,\n",
    "    la seva corresponent y en Y es troba en el mateix conjunt\n",
    "    X = [[1, 2, 3], [2, 3, 1], ..., [1, 4, 5]]\n",
    "    Y = [1, 2, ..., 5]\n",
    "    \n",
    "    Train: X = [[1, 2, 3], [1, 4, 5]]; Y = [1, 5]\n",
    "    Test:  X = [[2, 3, 1]]; Y = [2]\n",
    "    \n",
    "    :param X: Dades del model\n",
    "    :param Y: Corresponents valors a predir\n",
    "    :param train_percent: Percentatge entre 0 i 1, indicant el nombre\n",
    "        d'elements que contindrà el conjunt de train\n",
    "    :param random_seed: En cas de que sigui necessari (no és obligatori fer-ho servir), \n",
    "        per fixar el comporament de random\n",
    "    :return: Una llista/tupla que contingui, en aquest ordre, \n",
    "        * Conjunt train X [NDadesTrain, NFeatures]\n",
    "        * Conjunt test X [NDadesTest, NFeatures]\n",
    "        * Conjunt train Y [NDadesTrain]\n",
    "        * Conjunt test Y [NDadesTest]\n",
    "    \"\"\"\n",
    "    # AQUÍ EL TEU CODI"
   ]
  },
  {
   "cell_type": "markdown",
   "metadata": {},
   "source": [
    "Abans de generar els conjunts d'entrenament i prova cal generar els vectors que representen cada entrada de les dades."
   ]
  },
  {
   "cell_type": "code",
   "execution_count": null,
   "metadata": {},
   "outputs": [],
   "source": [
    "# Valors amb els que predirem el preu de la vivenda\n",
    "X = add_bias(X)\n",
    "\n",
    "# Valors reals de la vivenda\n",
    "Y = df_airbnb['price'].values\n",
    "\n",
    "# Partim en train i test\n",
    "X_train, X_test, Y_train, Y_test = split(X, Y, train_percent=0.80)"
   ]
  },
  {
   "cell_type": "code",
   "execution_count": null,
   "metadata": {},
   "outputs": [],
   "source": [
    "# Parametres per defecte del model\n",
    "w0 = np.random.normal(size=(1, X.shape[1]))\n",
    "\n",
    "# Optimització del model sobre train\n",
    "wf = gradient_descend(lambda w: model(w, X_train, Y_train), w0, 0.01, max_iter=5000, print_iters=100) # ~ @2min\n",
    "\n",
    "# Realitzem la predicció sobre test\n",
    "y_pred = linear_regression(X_test, wf)\n",
    "y_pred = np.maximum(np.min(Y), y_pred)"
   ]
  },
  {
   "cell_type": "code",
   "execution_count": null,
   "metadata": {},
   "outputs": [],
   "source": []
  },
  {
   "cell_type": "code",
   "execution_count": null,
   "metadata": {},
   "outputs": [],
   "source": [
    "# Mostrem únicament 100 dades en el gràfic\n",
    "size = 100\n",
    "sample = np.random.choice(X_test.shape[0], size=size, replace=False)\n",
    "\n",
    "# Mínima i màxima Y a mostrar en el gràfic\n",
    "miny = np.minimum(y_pred[sample].min(), Y_test[sample].min()) - 10\n",
    "maxy = np.maximum(y_pred[sample].max(), Y_test[sample].max()) + 1e3\n",
    "\n",
    "# Visualització de les dades originals i les prediccions\n",
    "plt.figure(figsize=(20, 3))\n",
    "plt.scatter(range(size), Y_test[sample], color='green', label = 'price')\n",
    "plt.scatter(range(size), y_pred[sample], color='red', label = 'pred_price')\n",
    "plt.xlabel('100 random samples')\n",
    "plt.ylabel('Total population (log scale)')\n",
    "plt.yscale('symlog')\n",
    "plt.ylim([miny, maxy])\n",
    "plt.grid(axis='y', which='minor', alpha=0.2)\n",
    "plt.grid(axis='y', which='major', alpha=0.3)\n",
    "plt.legend()\n",
    "\n",
    "for x in range(size):\n",
    "    plt.plot((x, x), (miny, maxy), '-.', color='gray', alpha=0.2)\n",
    "\n",
    "print('Mean error: {:.2f}'.format(np.mean(np.abs(Y_test - y_pred))))"
   ]
  },
  {
   "cell_type": "code",
   "execution_count": null,
   "metadata": {},
   "outputs": [],
   "source": []
  },
  {
   "cell_type": "markdown",
   "metadata": {},
   "source": [
    "## Impacte de les dimensions del vector de característiques sobre una regressió lineal\n",
    "\n",
    "**Explorem com l'ús de més o menys informació impacta sobre el model.**\n",
    "\n",
    "**És possible obtenir un millor model amb menys dades?**\n",
    "\n",
    "<hr />\n",
    "\n",
    "* RECORDA JUSTIFICAR LA RESPOSTA\n",
    "\n",
    "<hr />"
   ]
  },
  {
   "cell_type": "code",
   "execution_count": null,
   "metadata": {},
   "outputs": [],
   "source": [
    "# AQUÍ EL TEU CODI"
   ]
  },
  {
   "cell_type": "code",
   "execution_count": null,
   "metadata": {},
   "outputs": [],
   "source": []
  }
 ],
 "metadata": {
  "kernelspec": {
   "display_name": "Python 3.9.12 ('base')",
   "language": "python",
   "name": "python3"
  },
  "language_info": {
   "codemirror_mode": {
    "name": "ipython",
    "version": 3
   },
   "file_extension": ".py",
   "mimetype": "text/x-python",
   "name": "python",
   "nbconvert_exporter": "python",
   "pygments_lexer": "ipython3",
   "version": "3.9.12"
  },
  "vscode": {
   "interpreter": {
    "hash": "acf59a710bb15caef9757e87caca88365864b9f4181993a80f2144d47d33c8a3"
   }
  }
 },
 "nbformat": 4,
 "nbformat_minor": 4
}
