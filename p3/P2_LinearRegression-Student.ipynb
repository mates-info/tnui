{
 "cells": [
  {
   "cell_type": "markdown",
   "metadata": {},
   "source": [
    "# Optimització - Linear regression"
   ]
  },
  {
   "cell_type": "markdown",
   "metadata": {},
   "source": [
    "En estadística, la **regressió lineal** és un enfocament lineal per modelar la relació entre una resposta escalar (o variable dependent) i una o més variables explicatives (o variables independents).\n",
    "\n",
    "En regressió lineal, les relacions es modelen mitjançant funcions lineals on els paràmetres del model s’estimen a partir de les dades. \n",
    "Aquests models s'anomenen models lineals. "
   ]
  },
  {
   "cell_type": "markdown",
   "metadata": {},
   "source": [
    "Suposem que treballem amb un conjunt de dades $ \\{y_{i}, x_{i_1}, \\ldots, x_{i_m} \\}_{i = 1}^{n}$ de $n$ unitats. \n",
    "\n",
    "Un **model de regressió lineal** assumeix que la relació entre la variable dependent $y$ i el vector $p$ dels regressors $x$ és lineal. \n",
    "Així, el model pren la forma:\n",
    "$${\\displaystyle y_{i}=\\beta _{0}+\\beta _{1}x_{i_1}+\\cdots +\\beta _{p}x_{i_p},\\qquad i=1,\\ldots ,n,}$$"
   ]
  },
  {
   "cell_type": "code",
   "execution_count": 1,
   "metadata": {},
   "outputs": [],
   "source": [
    "from plot_utils import *\n",
    "\n",
    "import autograd.numpy as np\n",
    "from autograd import elementwise_grad as grad, value_and_grad\n",
    "import matplotlib.pyplot as plt\n",
    "from tqdm.notebook import tqdm\n",
    "import pandas as pd\n",
    "import random\n",
    "\n",
    "from IPython.display import display\n",
    "\n",
    "%matplotlib inline"
   ]
  },
  {
   "cell_type": "markdown",
   "metadata": {},
   "source": [
    "No es permet l'ús de cap llibreria o funció que no estigui ja importat, sigui aquí o més abaix en el notebook."
   ]
  },
  {
   "cell_type": "markdown",
   "metadata": {},
   "source": [
    "## AutoGrad\n",
    "\n",
    "En la part anterior, donada una funció havíem de definir també la funció que retorna el seu gradient.\n",
    "\n",
    "En aquesta pràctica, però, veurem que mitjançant l'ús de la llibreria **AutoGrad**, això no és necessari.\n",
    "\n",
    "Consideren les següents funcions:"
   ]
  },
  {
   "cell_type": "code",
   "execution_count": 2,
   "metadata": {},
   "outputs": [],
   "source": [
    "def f1(x):\n",
    "    return x**2\n",
    "\n",
    "def f2(x):\n",
    "    x, y = x[0], x[1]\n",
    "    return x**2 + y**2\n",
    "\n",
    "def f3(x):\n",
    "    x, y, z = x[0], x[1], x[2]\n",
    "    return (100 * (y - x**2)**2 + (1 - x)**2) + (100 * (z - y**2)**2 + (1 - y)**2)"
   ]
  },
  {
   "cell_type": "markdown",
   "metadata": {},
   "source": [
    "Donada la funció `f1`, podem fàcilment derivar el seu gradient, que és $2x$.\n",
    "\n",
    "Definim-lo manualment:"
   ]
  },
  {
   "cell_type": "code",
   "execution_count": 3,
   "metadata": {},
   "outputs": [],
   "source": [
    "def grad_f1_manual(x):\n",
    "    return 2*x"
   ]
  },
  {
   "cell_type": "markdown",
   "metadata": {},
   "source": [
    "Ara, obtinguem la funció gradient a partir d'autograd:"
   ]
  },
  {
   "cell_type": "code",
   "execution_count": 4,
   "metadata": {},
   "outputs": [],
   "source": [
    "grad_f1 = grad(f1)"
   ]
  },
  {
   "cell_type": "markdown",
   "metadata": {},
   "source": [
    "Podem comprovar que **les dues donen el mateix valor de gradient evaluat en un punt $x$**."
   ]
  },
  {
   "cell_type": "code",
   "execution_count": 5,
   "metadata": {},
   "outputs": [
    {
     "name": "stdout",
     "output_type": "stream",
     "text": [
      "Calcul manual gradient: df1'(x0) = 2046.0\n",
      "Autograd: df1'(x0) = 2046.0\n"
     ]
    }
   ],
   "source": [
    "x0 = np.asarray([1023.0])\n",
    "print('Calcul manual gradient: df1\\'(x0) = {}'.format(grad_f1_manual(x0)[0]))\n",
    "print('Autograd: df1\\'(x0) = {}'.format(grad_f1(x0)[0]))\n",
    "\n",
    "assert np.allclose(grad_f1_manual(x0), grad_f1(x0)) "
   ]
  },
  {
   "cell_type": "markdown",
   "metadata": {},
   "source": [
    "També podem utilitzar `value_and_grad` per obtenir directament amb la **imatge de la funció i el seu gradient en un punt $x$**:"
   ]
  },
  {
   "cell_type": "code",
   "execution_count": 6,
   "metadata": {},
   "outputs": [
    {
     "name": "stdout",
     "output_type": "stream",
     "text": [
      "(array([1046529.]), array([2046.]))\n"
     ]
    }
   ],
   "source": [
    "val_grad_f1 = value_and_grad(f1)\n",
    "print(val_grad_f1(x0))\n",
    "\n",
    "value, gradient = val_grad_f1(x0)\n",
    "assert np.allclose(value, f1(x0))\n",
    "assert np.allclose(gradient, grad_f1(x0))"
   ]
  },
  {
   "cell_type": "markdown",
   "metadata": {},
   "source": [
    "Inclús podem aplicar `grad` sobre un altre `grad` per obtenir la 2a derivada (o Hessià en multiples dimensions)."
   ]
  },
  {
   "cell_type": "code",
   "execution_count": 7,
   "metadata": {},
   "outputs": [],
   "source": [
    "grad_f1 = grad(f1) # df(x) = 2 * x\n",
    "grad2_f1 = grad(grad_f1) # d2f(x) = 2"
   ]
  },
  {
   "cell_type": "code",
   "execution_count": 8,
   "metadata": {},
   "outputs": [
    {
     "data": {
      "image/png": "[encoded data removed]",
      "text/plain": [
       "<Figure size 432x288 with 1 Axes>"
      ]
     },
     "metadata": {
      "needs_background": "light"
     },
     "output_type": "display_data"
    }
   ],
   "source": [
    "x = np.linspace(-5, 5, 100)\n",
    "plt.plot(x, f1(x), label = 'f(x)')\n",
    "plt.plot(x, grad_f1(x), color='green', label='df(x)')\n",
    "plt.plot(x, grad2_f1(x), color='orange', label='d2f(x)')\n",
    "plt.legend()\n",
    "plt.show()"
   ]
  },
  {
   "cell_type": "code",
   "execution_count": null,
   "metadata": {},
   "outputs": [],
   "source": []
  },
  {
   "cell_type": "markdown",
   "metadata": {},
   "source": [
    "## Descens del gradient"
   ]
  },
  {
   "cell_type": "markdown",
   "metadata": {},
   "source": [
    "**El primer pas serà implementar la mateixa funció `gradient_descend` que havieu fet en la part anterior, però ara mitjançant l'ús de la llibreria `autograd` i fent-la multidimensional.**\n",
    "\n",
    "Aquesta funció hauria d'executar sense problemes, i donar el mínim, per les tres funcions `f1`, `f2` i `f3` definides més adalt, de 1, 2 i 3 dimensions respectivament. Però, també haurà de funcionar per les següents parts de la pràctica, amb 100 o més dimensions."
   ]
  },
  {
   "cell_type": "code",
   "execution_count": 17,
   "metadata": {},
   "outputs": [],
   "source": [
    "def gradient_descend(f, x0, alpha, eps=1e-6, max_iter=1000, print_iters=1000):\n",
    "    \"\"\"\n",
    "    Aquesta funció implementa l'algorisme de descens pel gradient, és a dir,\n",
    "    donat un punt inicial, la funció de la que calculem el gradient i el pas, \n",
    "    intenta trobar el mínim de la funció seguint el gradient en direcció oposada.\n",
    "    \n",
    "    Pel criteri d'aturada, considerarem si ||x^{k+1} - x^k|| < eps, és a dir\n",
    "    si la norma de la diferència és més petita que eps.\n",
    "    \n",
    "    Cada print_iters cal mostrar el resultat actual en la següent forma:\n",
    "        \"{}/{:.2f}\".format(human_format(itr), float(valor_de_f_en_x))\n",
    "    \n",
    "    :param f: Funció a minimitzar\n",
    "    :param x0: Punt inicial\n",
    "    :param alpha: Pas de cada iteració\n",
    "    :param eps: Moviment mínim realitzat abans de parar\n",
    "    :param max_epochs: Iteracions màximes a realitzar\n",
    "    :param print_iters: Numero d'iteracions per printar resultats\n",
    "    :return: La funció retornarà el punt on es troba el mínim\n",
    "    \"\"\"\n",
    "    x = x0\n",
    "    grad_f1 = grad(f)\n",
    "    for itr in range(max_iter):\n",
    "        new_x = x - alpha * grad_f1(x)\n",
    "        if np.linalg.norm(new_x - x) < eps:\n",
    "            break\n",
    "        x = new_x\n",
    "        if (itr+1) % print_iters == 0:\n",
    "            print(\"{}/{:.2f}\".format(itr+1, f(x)))\n",
    "    return x"
   ]
  },
  {
   "cell_type": "markdown",
   "metadata": {},
   "source": [
    "Busquem el mínim de cadascuna de les funcions:"
   ]
  },
  {
   "cell_type": "code",
   "execution_count": 18,
   "metadata": {},
   "outputs": [
    {
     "name": "stdout",
     "output_type": "stream",
     "text": [
      "f1([4.98237376e-05]) = [2.48240483e-09]\n"
     ]
    }
   ],
   "source": [
    "x0 = np.array([4.0])\n",
    "xm = gradient_descend(f1, x0, 0.01, 1e-6, 10000) # ~ @1s\n",
    "print(f'f1({xm}) = {f1(xm)}')"
   ]
  },
  {
   "cell_type": "code",
   "execution_count": 19,
   "metadata": {},
   "outputs": [
    {
     "name": "stdout",
     "output_type": "stream",
     "text": [
      "f2([3.06804779e-05 3.91176093e-05]) = 2.4714790816465446e-09\n"
     ]
    }
   ],
   "source": [
    "x0 = np.array([4.0, 5.1])\n",
    "xm = gradient_descend(f2, x0, 0.01, 1e-6, 10000) # ~ @2s\n",
    "print(f'f2({xm}) = {f2(xm)}')"
   ]
  },
  {
   "cell_type": "code",
   "execution_count": 20,
   "metadata": {},
   "outputs": [
    {
     "name": "stdout",
     "output_type": "stream",
     "text": [
      "1000/1.41\n",
      "2000/1.38\n",
      "3000/1.35\n",
      "4000/1.31\n",
      "5000/1.28\n",
      "6000/1.25\n",
      "7000/1.22\n",
      "8000/1.19\n",
      "9000/1.16\n",
      "10000/1.13\n",
      "11000/1.10\n",
      "12000/1.07\n",
      "13000/1.04\n",
      "14000/1.01\n",
      "15000/0.98\n",
      "16000/0.95\n",
      "17000/0.93\n",
      "18000/0.90\n",
      "19000/0.87\n",
      "20000/0.85\n",
      "21000/0.82\n",
      "22000/0.80\n",
      "23000/0.77\n",
      "24000/0.75\n",
      "25000/0.72\n",
      "26000/0.70\n",
      "27000/0.68\n",
      "28000/0.65\n",
      "29000/0.63\n",
      "30000/0.61\n",
      "31000/0.59\n",
      "32000/0.57\n",
      "33000/0.55\n",
      "34000/0.53\n",
      "35000/0.51\n",
      "36000/0.49\n",
      "37000/0.47\n",
      "38000/0.45\n",
      "39000/0.43\n",
      "40000/0.42\n",
      "41000/0.40\n",
      "42000/0.38\n",
      "43000/0.37\n",
      "44000/0.35\n",
      "45000/0.34\n",
      "46000/0.32\n",
      "47000/0.31\n",
      "48000/0.29\n",
      "49000/0.28\n",
      "50000/0.27\n",
      "f3([1.21262636 1.47124292 2.1662293 ]) = 0.26762081745762245\n"
     ]
    }
   ],
   "source": [
    "x0 = np.array([4.0, 5.1, 4.4])\n",
    "xm = gradient_descend(f3, x0, 0.0001, 1e-6, 50000) # ~ @35s\n",
    "print(f'f3({xm}) = {f3(xm)}')"
   ]
  },
  {
   "cell_type": "markdown",
   "metadata": {},
   "source": [
    "## Linear regression\n",
    "\n",
    "Cas simple: **Donat un conjunt de punts (X, Y) 2D, podem trobar la recta que minimitza la distància entre aquesta i tots els punts?**\n",
    "\n",
    "Recordatori: \n",
    "\n",
    "Per tal de definir una recta necesitem dos punts $(x_0, y_0)$ i $(x_1, y_1)$. A partir d'aquests dos punts podem definir la recta com:\n",
    "\n",
    "$$y={\\frac {y_{1}-y_{0}}{x_{1}-x_{0}}} (x-x_{0}) +y_{0} = m \\cdot x + n$$"
   ]
  },
  {
   "cell_type": "code",
   "execution_count": 21,
   "metadata": {},
   "outputs": [
    {
     "data": {
      "text/html": [
       "<div>\n",
       "<style scoped>\n",
       "    .dataframe tbody tr th:only-of-type {\n",
       "        vertical-align: middle;\n",
       "    }\n",
       "\n",
       "    .dataframe tbody tr th {\n",
       "        vertical-align: top;\n",
       "    }\n",
       "\n",
       "    .dataframe thead th {\n",
       "        text-align: right;\n",
       "    }\n",
       "</style>\n",
       "<table border=\"1\" class=\"dataframe\">\n",
       "  <thead>\n",
       "    <tr style=\"text-align: right;\">\n",
       "      <th></th>\n",
       "      <th>X</th>\n",
       "      <th>Y</th>\n",
       "    </tr>\n",
       "  </thead>\n",
       "  <tbody>\n",
       "    <tr>\n",
       "      <th>0</th>\n",
       "      <td>6.2</td>\n",
       "      <td>29</td>\n",
       "    </tr>\n",
       "    <tr>\n",
       "      <th>1</th>\n",
       "      <td>9.5</td>\n",
       "      <td>44</td>\n",
       "    </tr>\n",
       "    <tr>\n",
       "      <th>2</th>\n",
       "      <td>10.5</td>\n",
       "      <td>36</td>\n",
       "    </tr>\n",
       "    <tr>\n",
       "      <th>3</th>\n",
       "      <td>7.7</td>\n",
       "      <td>37</td>\n",
       "    </tr>\n",
       "    <tr>\n",
       "      <th>4</th>\n",
       "      <td>8.6</td>\n",
       "      <td>53</td>\n",
       "    </tr>\n",
       "  </tbody>\n",
       "</table>\n",
       "</div>"
      ],
      "text/plain": [
       "      X   Y\n",
       "0   6.2  29\n",
       "1   9.5  44\n",
       "2  10.5  36\n",
       "3   7.7  37\n",
       "4   8.6  53"
      ]
     },
     "metadata": {},
     "output_type": "display_data"
    },
    {
     "data": {
      "image/png": "[encoded data removed]",
      "text/plain": [
       "<Figure size 720x720 with 1 Axes>"
      ]
     },
     "metadata": {
      "needs_background": "light"
     },
     "output_type": "display_data"
    }
   ],
   "source": [
    "# Lectura de les dades\n",
    "df = pd.read_csv('data/slr05.csv', index_col=0)\n",
    "display(df.head())\n",
    "\n",
    "# Visualització de les dades\n",
    "plt.figure(figsize = (10, 10))\n",
    "plt.scatter(df['X'], df['Y'])\n",
    "plt.xlabel('Fires per 1000 housing units')\n",
    "plt.ylabel('Thefts per 1000 population')\n",
    "plt.title('Fire and Theft in Chicago')\n",
    "\n",
    "# Possibles linies\n",
    "# Parametres plt.plot: (x0, x1), (y0, y1)\n",
    "plt.plot((0, 40), (0, 140), color='#ff0000')\n",
    "plt.plot((0, 40), (0, 120), color='#ff0000')\n",
    "plt.plot((0, 40), (10, 110), color='#ff0000')\n",
    "plt.plot((0, 40), (20, 70), color='#ff0000')\n",
    "\n",
    "plt.show()"
   ]
  },
  {
   "cell_type": "markdown",
   "metadata": {},
   "source": [
    "Per ara, donat que estem a 2D, podem visualitzar l'error, és a dir la distància respecte aquesta línia. Però tot i així és impossible que poguem visualitzar, d'entre les infinites línies possibles, la que s'ajusta millor a les dades.\n",
    "\n",
    "**Necessitem un algorisme que la trobi automàticament,** però primer visualitzem l'error de cadascuna de les anteriors rectes:"
   ]
  },
  {
   "cell_type": "code",
   "execution_count": 22,
   "metadata": {},
   "outputs": [
    {
     "data": {
      "image/png": "[encoded data removed]",
      "text/plain": [
       "<Figure size 432x288 with 1 Axes>"
      ]
     },
     "metadata": {
      "needs_background": "light"
     },
     "output_type": "display_data"
    },
    {
     "data": {
      "image/png": "[encoded data removed]",
      "text/plain": [
       "<Figure size 432x288 with 1 Axes>"
      ]
     },
     "metadata": {
      "needs_background": "light"
     },
     "output_type": "display_data"
    },
    {
     "data": {
      "image/png": "[encoded data removed]",
      "text/plain": [
       "<Figure size 432x288 with 1 Axes>"
      ]
     },
     "metadata": {
      "needs_background": "light"
     },
     "output_type": "display_data"
    },
    {
     "data": {
      "image/png": "[encoded data removed]",
      "text/plain": [
       "<Figure size 432x288 with 1 Axes>"
      ]
     },
     "metadata": {
      "needs_background": "light"
     },
     "output_type": "display_data"
    }
   ],
   "source": [
    "for x1, y1, y0 in ((40, 140, 0), (40, 120, 0), (40, 110, 10), (40, 70, 20)):\n",
    "    \n",
    "    plt.figure()\n",
    "    # Visualització de les dades\n",
    "    plt.scatter(df['X'], df['Y'])\n",
    "    plt.xlabel('Fires per 1000 housing units')\n",
    "    plt.ylabel('Thefts per 1000 population')\n",
    "    plt.title(f'Fire and Theft in Chicago, y = {y0} + x * {(y1 - y0) / x1:.2f}')\n",
    "\n",
    "    # Visualització de la recta\n",
    "    plt.plot((0, x1), (y0, y1), color='#ff0000')\n",
    "\n",
    "    # Definció de la recta\n",
    "    f = lambda x: (y1 - y0) / x1 * x + y0\n",
    "\n",
    "    # Visualització de l'error per cada punt\n",
    "    for _, (x, y) in df.iterrows():\n",
    "        y_pred = f(x)\n",
    "        plt.plot((x, x), (y, y_pred), color='b', alpha=0.2)"
   ]
  },
  {
   "cell_type": "code",
   "execution_count": null,
   "metadata": {},
   "outputs": [],
   "source": []
  },
  {
   "cell_type": "markdown",
   "metadata": {},
   "source": [
    "**Com definim un model que automàticament trobi aquesta línia?**\n",
    "\n",
    "Primer de tot, assumim que nosaltres tenim unes dades de les quals dispossem els valors de $x$ i els corresponents valors de $y$. Per exemple, les dades anteriors.\n",
    "\n",
    "1. Necessitem definir matemàticament una recta\n",
    "$$ r: \\hat{y} = m \\cdot x + n $$\n",
    "On $x$ és un punt que volem evaluar, $\\hat{y}$ és la imatge obtinguda en el punt $x$, i $m$, $n$ són els paràmetres que defineixen la recta. Idealment, voldríem trobar aquelles $m$, $n$ que, per tot punt $x$ tinguéssim una $\\hat{y}$ tal que $\\hat{y}=y$.\n",
    "\n",
    "2. Hem de mesurar l'error que estem cometent cada cop que provem una $m$, $n$ diferents (al que anomenarem *loss* del model). Per exemple, podríem definir l'error com a la distància entre el punt $y$ que hauria de ser i el $\\hat{y}$ que ens dona el model:\n",
    "$$\\mathbb{L} = \\sqrt{(y - \\hat{y})^2}$$\n",
    "\n",
    "3. Ara el que volem fer és trobar els valors de $m$, $n$ tal que $\\mathbb{L}=0$. Si parem atenció a la funció definida per $\\mathbb{L}$, veurem que efectivament $0$ és el mínim d'aquesta. Per tant, tot el que hem de fer és minimitzar la funció definida per\n",
    "$$\\mathbb{L} = \\sqrt{(y - (m \\cdot x + n))^2}$$\n",
    "\n",
    "Per simplificar una mica el problema, unirem les variables que volem optimitzar $m,n$ en una de sola: $w$. Per fer-ho, expandirem la fòrmula anterior a:\n",
    "$$\\tilde{x} = (1, x), w = (n, m)$$\n",
    "\n",
    "$$\\mathbb{L} = \\sqrt{(y - \\tilde{x} \\cdot w)^2}$$\n",
    "\n",
    "On $\\tilde{x}$ és un vector format per un $1$ i a continuació el valor de $x$ original. De forma que $\\tilde{x} \\cdot w = (1, x) \\cdot (n, m) = n + x\\cdot m = m\\cdot x + n$ (producte escalar)."
   ]
  },
  {
   "cell_type": "code",
   "execution_count": 47,
   "metadata": {},
   "outputs": [],
   "source": [
    "def add_bias(X):\n",
    "    '''\n",
    "    Funció que donada el vector x crea el vector x', afegint una columna d'1's al davant.\n",
    "    Per exemple, si X és\n",
    "        [\n",
    "            [1, 2, 5, 1, 5, 7],\n",
    "            [9, 4, 2, 4, 6, 1],\n",
    "            ...\n",
    "            [5, 3, 1, 4, 5, 7]\n",
    "        ]\n",
    "    El retorn de la funció serà la matriu\n",
    "        [\n",
    "            [1, 1, 2, 5, 1, 5, 7],\n",
    "            [1, 9, 4, 2, 4, 6, 1],\n",
    "            ...\n",
    "            [1, 5, 3, 1, 4, 5, 7]\n",
    "        ]\n",
    "    *Sense bucles*\n",
    "    \n",
    "    :param X: Matriu on cada fila és una dada i cada columna una característica\n",
    "    :return: Mateixa matriu amb una columna de 1s davant\n",
    "    '''\n",
    "    return np.insert(X, 0, 1, axis=1)\n",
    "\n",
    "\n",
    "def linear_regression(x, w):\n",
    "    '''\n",
    "    Donat un punt i els parameters del model prediu el valor, implementant el càlcul de la regressió linial:\n",
    "            y' = w0 * x0 + w1 * x1 + ... + xp * wp\n",
    "            \n",
    "    *Sense bucles*\n",
    "    \n",
    "    :param x: Matriu de dades i features, on la primera columna son 1s, té per shape [NDades, NFeatures]\n",
    "    :param w: Matriu de paràmetres, té per shape [1, NFeatures]\n",
    "    :return: Vector de tamany [NDades] amb la predicció y' per a cada punt\n",
    "    '''\n",
    "    return np.dot(x, w.T)\n",
    "\n",
    "\n",
    "def loss(y_true, y_pred):\n",
    "    \"\"\"\n",
    "    Funció que calcula la diferència entre la solució real i la predita mitjançant\n",
    "    distància euclidea\n",
    "        ||y_true - y_pred||\n",
    "        \n",
    "    :param y_true: Valor real de la Y\n",
    "    :param y_pred: Valor predit y' per a cada corresponent y\n",
    "    :return: Error de la predicció\n",
    "    \"\"\"\n",
    "    return np.linalg.norm(y_true - y_pred)\n",
    "\n",
    "\n",
    "def model(w, x, y):\n",
    "    \"\"\"\n",
    "    Funció que genera el model que volem optimizar, calculant l'error d'una\n",
    "    predicció amb els pàrametres i valors passats\n",
    "    \n",
    "    :param w: Paràmetres del model\n",
    "    :param x: Dades del model\n",
    "    :param y: Valors a predir\n",
    "    :return: Error (loss) de les preddiccions\n",
    "    \"\"\"\n",
    "    return loss(y, linear_regression(x, w))"
   ]
  },
  {
   "cell_type": "markdown",
   "metadata": {},
   "source": [
    "Generem les dades que utilitzarem per entrenar el model (*X_fire*) i les seves etiquetes (*Y_fire*)."
   ]
  },
  {
   "cell_type": "code",
   "execution_count": 36,
   "metadata": {},
   "outputs": [],
   "source": [
    "X_fire = df['X'].values[:, np.newaxis]\n",
    "X_fire = add_bias(X_fire)\n",
    "\n",
    "Y_fire = df['Y'].values"
   ]
  },
  {
   "cell_type": "code",
   "execution_count": 29,
   "metadata": {},
   "outputs": [
    {
     "data": {
      "text/plain": [
       "(42,)"
      ]
     },
     "execution_count": 29,
     "metadata": {},
     "output_type": "execute_result"
    }
   ],
   "source": [
    "df['X'].shape"
   ]
  },
  {
   "cell_type": "markdown",
   "metadata": {},
   "source": [
    "Per optimizar el model, necesitem initcialitzar els seus pesos amb valors random."
   ]
  },
  {
   "cell_type": "code",
   "execution_count": 48,
   "metadata": {},
   "outputs": [
    {
     "name": "stdout",
     "output_type": "stream",
     "text": [
      "1000/138.61\n",
      "2000/135.68\n",
      "3000/133.24\n",
      "4000/131.22\n",
      "5000/129.58\n",
      "6000/128.25\n",
      "7000/127.18\n",
      "8000/126.33\n",
      "9000/125.64\n",
      "10000/125.10\n",
      "11000/124.67\n",
      "12000/124.34\n",
      "13000/124.07\n",
      "14000/123.86\n",
      "15000/123.70\n",
      "16000/123.57\n",
      "17000/123.47\n",
      "18000/123.39\n",
      "19000/123.33\n",
      "20000/123.28\n",
      "[15.31257081  1.39820979]\n"
     ]
    }
   ],
   "source": [
    "# Parametres per defecte del model\n",
    "w0 = np.random.normal(size=2) # (size=(1, X_fire.shape[1])) ?????\n",
    "\n",
    "# Optimització del model\n",
    "wf_fire = gradient_descend(lambda w: model(w, X_fire, Y_fire), \n",
    "                           w0, 0.001, \n",
    "                           max_iter=20000, print_iters=1000) # ~ @5s\n",
    "print(wf_fire)"
   ]
  },
  {
   "cell_type": "code",
   "execution_count": 51,
   "metadata": {},
   "outputs": [
    {
     "data": {
      "text/plain": [
       "array([15.31257081,  1.39820979])"
      ]
     },
     "execution_count": 51,
     "metadata": {},
     "output_type": "execute_result"
    }
   ],
   "source": [
    "wf_fire"
   ]
  },
  {
   "cell_type": "code",
   "execution_count": null,
   "metadata": {},
   "outputs": [],
   "source": []
  },
  {
   "cell_type": "markdown",
   "metadata": {},
   "source": [
    "Visualització de la recta obtinguda amb el model i els errors de les seves prediccions."
   ]
  },
  {
   "cell_type": "code",
   "execution_count": 52,
   "metadata": {
    "tags": []
   },
   "outputs": [
    {
     "name": "stdout",
     "output_type": "stream",
     "text": [
      "Mean error: 13.02\n"
     ]
    },
    {
     "data": {
      "image/png": "[encoded data removed]",
      "text/plain": [
       "<Figure size 432x288 with 1 Axes>"
      ]
     },
     "metadata": {
      "needs_background": "light"
     },
     "output_type": "display_data"
    }
   ],
   "source": [
    "plt.figure()\n",
    "# Visualització de les dades\n",
    "plt.scatter(df['X'], df['Y'])\n",
    "plt.xlabel('fires per 1000 housing units')\n",
    "plt.ylabel('thefts per 1000 population')\n",
    "plt.title('Fire and Theft in Chicago')\n",
    "\n",
    "# Visualització de la recta\n",
    "# Parametres plt.plot: (x0, x1), (y0, y1)\n",
    "plt.plot((0, 40), (wf_fire[0], linear_regression((1, 40), wf_fire)), color='#ff0000') # wf_fire[0, 0]???\n",
    "\n",
    "# Visualització de l'error a cada punt\n",
    "for _, (x, y) in df.iterrows():\n",
    "    y_pred = linear_regression((1, x), wf_fire)\n",
    "    plt.plot((x, x), (y, y_pred), color='b', alpha=0.2)\n",
    "\n",
    "y_fire_pred = linear_regression(X_fire, wf_fire)\n",
    "print('Mean error: {:.2f}'.format(np.mean(np.abs(Y_fire - y_fire_pred))))"
   ]
  },
  {
   "cell_type": "code",
   "execution_count": null,
   "metadata": {},
   "outputs": [],
   "source": []
  },
  {
   "cell_type": "markdown",
   "metadata": {},
   "source": [
    "## Linear regression amb polinomis\n",
    "\n",
    "Imagineu que la nostra variable $x$ ara l'elevèssim a més potències:\n",
    "$x, x^2, x^3, ...$\n",
    "\n",
    "La fòrmula de linear regression quedaria:\n",
    "\n",
    "$$ r: \\hat{y} = m_1 \\cdot x + m_2 \\cdot x^2 + m_3 \\cdot x^3 + ... + n $$\n",
    "\n",
    "Fixeu-vos que llavors estem aprenent un polinomi per modelar la \"recta\" de predicció.\n",
    "\n",
    "Com un polinomi de grau $k$ inclou tots els possibles polinomis de grau $k-1$, els resultats només poden millorar. Provem-ho:"
   ]
  },
  {
   "cell_type": "code",
   "execution_count": null,
   "metadata": {},
   "outputs": [],
   "source": [
    "# Definim una funció per normalitzar per columnes (Obtenim una distribució Normal)\n",
    "normalize = lambda x: (x - np.mean(x)) / np.std(x)"
   ]
  },
  {
   "cell_type": "code",
   "execution_count": null,
   "metadata": {},
   "outputs": [],
   "source": [
    "for i in range(1, 5 + 1):\n",
    "    def preprocess(x):\n",
    "        # Calcularem totes les potències fins a i, i les ajuntarem totes en la dimensió 1\n",
    "        x = np.concatenate([\n",
    "            x ** j\n",
    "            for j in range(1, i + 1)\n",
    "        ], axis = 1)\n",
    "        \n",
    "        # Normalitzeu les dades! Sense no entrenarem bé (proveu-ho).\n",
    "        x = normalize(x)\n",
    "        \n",
    "        return x\n",
    "    \n",
    "    X_fire = df['X'].values[:, np.newaxis]\n",
    "    X_fire = preprocess(X_fire)\n",
    "    X_fire = add_bias(X_fire)\n",
    "    Y_fire = df['Y'].values\n",
    "    \n",
    "    print(X_fire.shape)\n",
    "    \n",
    "    # Parametres per defecte del model\n",
    "    w0 = np.random.normal(size=(1, X_fire.shape[1]))\n",
    "\n",
    "    # Optimització del model\n",
    "    wf_fire = gradient_descend(lambda w: model(w, X_fire, Y_fire), \n",
    "                               w0, 0.001, \n",
    "                               max_iter=20000, print_iters=1000) # ~ @5s\n",
    "    print(wf_fire)\n",
    "    \n",
    "    y_fire_pred = linear_regression(X_fire, wf_fire)\n",
    "    error = np.mean(np.abs(Y_fire - y_fire_pred))\n",
    "    print(f'Mean error {i}: {error:.2f}\\n')"
   ]
  },
  {
   "cell_type": "code",
   "execution_count": null,
   "metadata": {},
   "outputs": [],
   "source": []
  },
  {
   "cell_type": "markdown",
   "metadata": {},
   "source": [
    "Hem transformat un mètode simplement lineal en un polinomi, només afegint noves columnes amb transformacions de les dades.\n",
    "\n",
    "D'això se'n diu fer **feature engineering**: fem modificacions \"intel·ligents\" sobre les columnes del dataset per permetre'ns obtenir models més potents. \n",
    "\n",
    "Aquí ens hem limitat a fer potències de x, però podriem fer exponencials, logaritmes, talls binaris (x > 25 -> 1, x <= 25 -> 0), etc.\n",
    "\n",
    "Ara, torneu a implementar el mètode preprocess, fent que la matriu resultant tingui:\n",
    "\n",
    "* x (sense cap modificació)\n",
    "* $e^x$\n",
    "* $\\log x$ (això ho podem fer perquè en aquest dataset, x > 0 sempre)\n",
    "* $x > \\overline{x}$, on $\\overline{x}$ és la mitja de x.\n",
    "\n",
    "*No us oblideu de normalitzar!*\n",
    "\n",
    "\n",
    "**Justifica el resultat obtingut en aquest cas.**\n",
    "\n",
    "<hr />\n",
    "\n",
    "* RECORDA JUSTIFICAR LA RESPOSTA\n",
    "\n",
    "<hr />"
   ]
  },
  {
   "cell_type": "code",
   "execution_count": null,
   "metadata": {},
   "outputs": [],
   "source": [
    "def preprocess(x):\n",
    "    \n",
    "    # AQUÍ EL TEU CODI\n",
    "\n",
    "    return x\n",
    "\n",
    "X_fire = df['X'].values[:, np.newaxis]\n",
    "X_fire = preprocess(X_fire)\n",
    "X_fire = add_bias(X_fire)\n",
    "Y_fire = df['Y'].values\n",
    "\n",
    "print(X_fire.shape)\n",
    "\n",
    "# Parametres per defecte del model\n",
    "w0 = np.random.normal(size=(1, X_fire.shape[1]))\n",
    "\n",
    "# Optimització del model\n",
    "wf_fire = gradient_descend(lambda w: model(w, X_fire, Y_fire), \n",
    "                           w0, 0.001, \n",
    "                           max_iter=20000, print_iters=1000) # ~ @5s\n",
    "print(wf_fire)\n",
    "\n",
    "y_fire_pred = linear_regression(X_fire, wf_fire)\n",
    "error = np.mean(np.abs(Y_fire - y_fire_pred))\n",
    "print(f'Mean error {i}: {error:.2f}')"
   ]
  },
  {
   "cell_type": "code",
   "execution_count": null,
   "metadata": {},
   "outputs": [],
   "source": []
  },
  {
   "cell_type": "markdown",
   "metadata": {},
   "source": [
    "## Dades multidimensionals sobre les dades\n",
    "\n",
    "En l'apartat anterior tenim un sol valor de $x$ pel qual volíem obtenir un valor de $y$, però en la gran majoria de casos no serà així.\n",
    "\n",
    "En aquest apartat volem trobar una regressió lineal tal que $dim(X) = 6$, i per tant necessitem un total de 7 paràmetres ($dim(w) = 7$)"
   ]
  },
  {
   "cell_type": "code",
   "execution_count": null,
   "metadata": {},
   "outputs": [],
   "source": [
    "# Lectura de les dades\n",
    "dg = pd.read_csv('data/mlr10.csv', index_col=0)\n",
    "Y_pop = dg.values[:, 0]\n",
    "X_pop = dg.values[:, 1:]\n",
    "X_pop = add_bias(X_pop)\n",
    "display(dg.head())"
   ]
  },
  {
   "cell_type": "code",
   "execution_count": null,
   "metadata": {},
   "outputs": [],
   "source": [
    "# Parametres per defecte del model\n",
    "w0 = np.random.normal(size=(1, X_pop.shape[1]))\n",
    "\n",
    "# Optimització del model\n",
    "wf_population = gradient_descend(lambda w: model(w, X_pop, Y_pop), w0, 0.001, max_iter=100000, print_iters=1000) # ~ @20s\n",
    "print(wf_population)"
   ]
  },
  {
   "cell_type": "code",
   "execution_count": null,
   "metadata": {},
   "outputs": [],
   "source": [
    "# Utilitzant els paràmetres apresos, obtenim la predicció per a cada punt\n",
    "y_pop_pred = linear_regression(X_pop, wf_population)"
   ]
  },
  {
   "cell_type": "code",
   "execution_count": null,
   "metadata": {},
   "outputs": [],
   "source": [
    "# Visualització de les dades originals i les prediccions\n",
    "plt.figure(figsize=(20, 3))\n",
    "plt.scatter(range(Y_pop.shape[0]), Y_pop, color='green', label = 'y')\n",
    "plt.scatter(range(Y_pop.shape[0]), y_pop_pred, color='red', label = 'y_pred')\n",
    "plt.xlabel('Samples')\n",
    "plt.ylabel('Total population')\n",
    "plt.legend()\n",
    "\n",
    "for x in range(X_pop.shape[0]):\n",
    "    plt.plot((x, x), (0, 20), '-.', color='gray', alpha=0.2)\n",
    "\n",
    "print('Mean error: {:.2f}'.format(np.mean(np.abs(Y_pop - y_pop_pred))))"
   ]
  },
  {
   "cell_type": "code",
   "execution_count": null,
   "metadata": {},
   "outputs": [],
   "source": []
  },
  {
   "cell_type": "markdown",
   "metadata": {},
   "source": [
    "**Feu feature engineering** vosaltres mateixos i intenteu aconseguir que la vostra loss sigui **inferior a 0.5**.\n",
    "\n",
    "Podeu canviar els valors d'entrenament (canviar el nombre d'epochs, o el learning rate lr), <br />\n",
    "tot i que els valors establerts (```n_epochs=10000, lr=1e-3```) ja us poden donar el resultat esperat.\n",
    "\n",
    "Idees:\n",
    "\n",
    "* Feu servir les potències de cada columna de x.\n",
    "* Penseu si ajuda o no normalitzar abans de fer cap modificació.\n",
    "* Proveu a afegir algunes funcions diferents (log, exp, binarització...).\n",
    "* Combinacions.\n",
    "\n",
    "\n",
    "**Combinacions**:\n",
    "\n",
    "Tenim 6 columnes d'input. Les tres primeres millores utilitzen transformacions que només aprofiten cada columna per separat ($X_1^3$, $X_2^3$, etc.)\n",
    "\n",
    "Però què passa si \"barregem\" columnes, fent que el model pugui aprofitar les interaccions entre elles?\n",
    "\n",
    "Per exemple, podriem afegir les columnes $X_1 \\cdot X_2, X_1 \\cdot X_3, ..., X_5 \\cdot X_6$.\n",
    "\n",
    "Això serien les combinacions de 2 elements. I de 6 elements?\n",
    "\n",
    "$X_1 \\cdot X_2 \\cdot X_3 \\cdot X_4 \\cdot X_5 \\cdot X_6$.\n",
    "\n",
    "**Veieu si ajuda, i com, aquest afegit. Comenteu els resultats obtinguts.**\n",
    "\n",
    "<hr />\n",
    "\n",
    "* RECORDA JUSTIFICAR LA RESPOSTA\n",
    "\n",
    "<hr />\n"
   ]
  },
  {
   "cell_type": "code",
   "execution_count": null,
   "metadata": {},
   "outputs": [],
   "source": [
    "from itertools import combinations"
   ]
  },
  {
   "cell_type": "code",
   "execution_count": null,
   "metadata": {},
   "outputs": [],
   "source": []
  },
  {
   "cell_type": "code",
   "execution_count": null,
   "metadata": {},
   "outputs": [],
   "source": [
    "def preprocess(x):\n",
    "    \n",
    "    # AQUÍ EL TEU CODI\n",
    "\n",
    "    return x\n",
    "\n",
    "\n",
    "X_pop = dg.values[:, 1:]\n",
    "X_pop = preprocess(X_pop)\n",
    "X_pop = add_bias(X_pop)\n",
    "Y_pop = dg.values[:, 0]\n",
    "\n",
    "print(X_pop.shape)\n",
    "\n",
    "# Parametres per defecte del model\n",
    "w0 = np.random.normal(size=(1, X_pop.shape[1]))\n",
    "\n",
    "# Optimització del model\n",
    "wf_pop = gradient_descend(lambda w: model(w, X_pop, Y_pop), \n",
    "                           w0, 0.001, \n",
    "                           max_iter=20000, print_iters=1000) # ~ @5s\n",
    "print(wf_pop.shape)\n",
    "\n",
    "y_pop_pred = linear_regression(X_pop, wf_pop)\n",
    "error = np.mean(np.abs(Y_pop - y_pop_pred))\n",
    "print(f'Mean error: {error:.2f}')"
   ]
  },
  {
   "cell_type": "code",
   "execution_count": null,
   "metadata": {},
   "outputs": [],
   "source": []
  },
  {
   "cell_type": "markdown",
   "metadata": {},
   "source": [
    "## Airbnb: dades reals (a baixa escala)\n",
    "\n",
    "**Airbnb Dataset**\n",
    "\n",
    "Les dades amb les que treballarem en aquesta pràctica són dades reals recopilades per *Airbnb*. \n",
    "Aquestes analitzen la informació disponible sobre els llistats d’Airbnb d’una ciutat, proporcionant filtres i mètriques clau perquè pugueu veure com Airbnb s’utilitza per competir amb el mercat d’habitatges residencials.\n",
    "\n",
    "Amb aquestes dades podrieu fer preguntes fonamentals sobre Airbnb a qualsevol barri o a tota la ciutat. Preguntes com:\n",
    "\n",
    "- \"Quants fitxes hi ha al meu barri i on són?\"\n",
    "- \"Quantes cases i apartaments es lloguen amb freqüència a turistes i no a residents a llarg termini?\"\n",
    "- \"Quant costen els hostes des del lloguer als turistes (compareu-ho amb els lloguers a llarg termini)?\"\n",
    "- \"Quins amfitrions tenen una empresa amb diversos llistats i on?\"\n",
    "\n",
    "Les dades inclou dades com:\n",
    "- Quantitat de nits que es lloga una vivenda a l'any.\n",
    "- Estades mínimes.\n",
    "- Quantes habitacions es lloguen en un edifici.\n",
    "- Nombre d’ocupats permesos en un lloguer.\n",
    "\n",
    "En el nostre cas, **volem predir el preu de la vivenda utilitzant les dades numèriques.**"
   ]
  },
  {
   "cell_type": "code",
   "execution_count": null,
   "metadata": {},
   "outputs": [],
   "source": [
    "df_airbnb = pd.read_csv('data/clean_scraping.csv', index_col = 'Unnamed: 0')"
   ]
  },
  {
   "cell_type": "code",
   "execution_count": null,
   "metadata": {},
   "outputs": [],
   "source": [
    "display(df_airbnb.head())"
   ]
  },
  {
   "cell_type": "code",
   "execution_count": null,
   "metadata": {},
   "outputs": [],
   "source": [
    "df_airbnb.shape"
   ]
  },
  {
   "cell_type": "code",
   "execution_count": null,
   "metadata": {},
   "outputs": [],
   "source": [
    "df_airbnb.columns"
   ]
  },
  {
   "cell_type": "markdown",
   "metadata": {},
   "source": [
    "A la variable *y_true* guardarem la variable que volem predir amb el nostre model lineal."
   ]
  },
  {
   "cell_type": "code",
   "execution_count": null,
   "metadata": {},
   "outputs": [],
   "source": [
    "y_true = df_airbnb.price"
   ]
  },
  {
   "cell_type": "markdown",
   "metadata": {},
   "source": [
    "Definim ara quina és la informació que utilitzarem per fer la predicció.\n",
    "\n",
    "Com hem vist abans, algunes variables no són numèriques, per tant cal fer una conversió de la informació."
   ]
  },
  {
   "cell_type": "code",
   "execution_count": null,
   "metadata": {},
   "outputs": [],
   "source": [
    "X = df_airbnb[['neighbourhood_group', 'neighbourhood', 'latitude', 'longitude', 'room_type', 'minimum_nights', 'number_of_reviews',\n",
    "       'reviews_per_month', 'calculated_host_listings_count', 'availability_365']]"
   ]
  },
  {
   "cell_type": "code",
   "execution_count": null,
   "metadata": {},
   "outputs": [],
   "source": [
    "cleanup_columns = { 'neighbourhood_group': { name: idx for idx, name in enumerate(X.neighbourhood_group.unique())},\n",
    "                    'neighbourhood': { name: idx for idx, name in enumerate(X.neighbourhood.unique())},\n",
    "                    'room_type': { name: idx for idx, name in enumerate(X.room_type.unique())},\n",
    "                  }"
   ]
  },
  {
   "cell_type": "code",
   "execution_count": null,
   "metadata": {},
   "outputs": [],
   "source": [
    "X = X.replace(cleanup_columns).values"
   ]
  },
  {
   "cell_type": "code",
   "execution_count": null,
   "metadata": {},
   "outputs": [],
   "source": []
  },
  {
   "cell_type": "markdown",
   "metadata": {},
   "source": [
    "No ens oblidem de normalitzar les dades abans de passar-les a LinearRegression!"
   ]
  },
  {
   "cell_type": "code",
   "execution_count": null,
   "metadata": {},
   "outputs": [],
   "source": [
    "X = (X - X.mean(0)) / X.std(0)"
   ]
  },
  {
   "cell_type": "markdown",
   "metadata": {},
   "source": [
    "Un cop netejades les dades, separarem un conjunt de les dades. "
   ]
  },
  {
   "cell_type": "markdown",
   "metadata": {},
   "source": [
    "### Partició de dades\n",
    "\n",
    "En l'aprenentatge automàtic, una tasca habitual és l'estudi i la construcció d'algorismes que poden aprendre i fer prediccions sobre dades. Aquests algoritmes funcionen fent prediccions o decisions basades en dades, mitjançant la creació d'un model matemàtic a partir de dades d'entrada.\n",
    "\n",
    "Les dades que s’utilitzen per construir el model final normalment provenen de múltiples conjunts de dades. En particular, dos conjunts de dades s’utilitzen habitualment en diferents etapes de la creació del model: dades d'entrenament (train) i de prova (test).\n",
    "\n",
    "El model s’adapta inicialment a un conjunt de dades d’entrenament, que és un conjunt d’exemples que s’utilitzen per ajustar els paràmetres (per exemple, pesos del model de regressió linal) del model. \n",
    "El model es forma en el **conjunt de dades d’entrenament** que sovint consisteix en parells d’un vector d’entrada (o escalar) i el vector de sortida corresponent (o escalar), que es denomina habitualment com a objectiu (o etiqueta). El model actual s'executa amb el conjunt de dades d'entrenament i produeix un resultat, que es compara després amb l'objectiu, per a cada vector d'entrada del conjunt de dades d'entrenament. A partir del resultat de la comparació i de l'algorisme d'aprenentatge específic que s'utilitza, s'ajusten els paràmetres del model. L'adaptació del model pot incloure selecció de variables i estimació de paràmetres.\n",
    "\n",
    "El **conjunt de dades de prova** és un conjunt de dades utilitzat per proporcionar una avaluació imparcial d’un model. Si les dades de prova no s’han utilitzat mai durant l'entrenament, el resultats representa el comportament esperat del model.\n",
    "\n",
    "A continuació heu d'implementar la funció *split* que crea aquesta partició de dades."
   ]
  },
  {
   "cell_type": "code",
   "execution_count": null,
   "metadata": {},
   "outputs": [],
   "source": [
    "def split(X, Y, train_percent, random_seed=None):\n",
    "    \"\"\"\n",
    "    Divideix el conjunt de dades en dos subconjunts aleatoris diferents, sense\n",
    "    intersecció.\n",
    "    La divisió es fa conjuntament en X i Y, és a dir, donat una dada x de X,\n",
    "    la seva corresponent y en Y es troba en el mateix conjunt\n",
    "    X = [[1, 2, 3], [2, 3, 1], ..., [1, 4, 5]]\n",
    "    Y = [1, 2, ..., 5]\n",
    "    \n",
    "    Train: X = [[1, 2, 3], [1, 4, 5]]; Y = [1, 5]\n",
    "    Test:  X = [[2, 3, 1]]; Y = [2]\n",
    "    \n",
    "    :param X: Dades del model\n",
    "    :param Y: Corresponents valors a predir\n",
    "    :param train_percent: Percentatge entre 0 i 1, indicant el nombre\n",
    "        d'elements que contindrà el conjunt de train\n",
    "    :param random_seed: En cas de que sigui necessari (no és obligatori fer-ho servir), \n",
    "        per fixar el comporament de random\n",
    "    :return: Una llista/tupla que contingui, en aquest ordre, \n",
    "        * Conjunt train X [NDadesTrain, NFeatures]\n",
    "        * Conjunt test X [NDadesTest, NFeatures]\n",
    "        * Conjunt train Y [NDadesTrain]\n",
    "        * Conjunt test Y [NDadesTest]\n",
    "    \"\"\"\n",
    "    # AQUÍ EL TEU CODI"
   ]
  },
  {
   "cell_type": "markdown",
   "metadata": {},
   "source": [
    "Abans de generar els conjunts d'entrenament i prova cal generar els vectors que representen cada entrada de les dades."
   ]
  },
  {
   "cell_type": "code",
   "execution_count": null,
   "metadata": {},
   "outputs": [],
   "source": [
    "# Valors amb els que predirem el preu de la vivenda\n",
    "X = add_bias(X)\n",
    "\n",
    "# Valors reals de la vivenda\n",
    "Y = df_airbnb['price'].values\n",
    "\n",
    "# Partim en train i test\n",
    "X_train, X_test, Y_train, Y_test = split(X, Y, train_percent=0.80)"
   ]
  },
  {
   "cell_type": "code",
   "execution_count": null,
   "metadata": {},
   "outputs": [],
   "source": [
    "# Parametres per defecte del model\n",
    "w0 = np.random.normal(size=(1, X.shape[1]))\n",
    "\n",
    "# Optimització del model sobre train\n",
    "wf = gradient_descend(lambda w: model(w, X_train, Y_train), w0, 0.01, max_iter=5000, print_iters=100) # ~ @2min\n",
    "\n",
    "# Realitzem la predicció sobre test\n",
    "y_pred = linear_regression(X_test, wf)\n",
    "y_pred = np.maximum(np.min(Y), y_pred)"
   ]
  },
  {
   "cell_type": "code",
   "execution_count": null,
   "metadata": {},
   "outputs": [],
   "source": []
  },
  {
   "cell_type": "code",
   "execution_count": null,
   "metadata": {},
   "outputs": [],
   "source": [
    "# Mostrem únicament 100 dades en el gràfic\n",
    "size = 100\n",
    "sample = np.random.choice(X_test.shape[0], size=size, replace=False)\n",
    "\n",
    "# Mínima i màxima Y a mostrar en el gràfic\n",
    "miny = np.minimum(y_pred[sample].min(), Y_test[sample].min()) - 10\n",
    "maxy = np.maximum(y_pred[sample].max(), Y_test[sample].max()) + 1e3\n",
    "\n",
    "# Visualització de les dades originals i les prediccions\n",
    "plt.figure(figsize=(20, 3))\n",
    "plt.scatter(range(size), Y_test[sample], color='green', label = 'price')\n",
    "plt.scatter(range(size), y_pred[sample], color='red', label = 'pred_price')\n",
    "plt.xlabel('100 random samples')\n",
    "plt.ylabel('Total population (log scale)')\n",
    "plt.yscale('symlog')\n",
    "plt.ylim([miny, maxy])\n",
    "plt.grid(axis='y', which='minor', alpha=0.2)\n",
    "plt.grid(axis='y', which='major', alpha=0.3)\n",
    "plt.legend()\n",
    "\n",
    "for x in range(size):\n",
    "    plt.plot((x, x), (miny, maxy), '-.', color='gray', alpha=0.2)\n",
    "\n",
    "print('Mean error: {:.2f}'.format(np.mean(np.abs(Y_test - y_pred))))"
   ]
  },
  {
   "cell_type": "code",
   "execution_count": null,
   "metadata": {},
   "outputs": [],
   "source": []
  },
  {
   "cell_type": "markdown",
   "metadata": {},
   "source": [
    "## Impacte de les dimensions del vector de característiques sobre una regressió lineal\n",
    "\n",
    "**Explorem com l'ús de més o menys informació impacta sobre el model.**\n",
    "\n",
    "**És possible obtenir un millor model amb menys dades?**\n",
    "\n",
    "<hr />\n",
    "\n",
    "* RECORDA JUSTIFICAR LA RESPOSTA\n",
    "\n",
    "<hr />"
   ]
  },
  {
   "cell_type": "code",
   "execution_count": null,
   "metadata": {},
   "outputs": [],
   "source": [
    "# AQUÍ EL TEU CODI"
   ]
  },
  {
   "cell_type": "code",
   "execution_count": null,
   "metadata": {},
   "outputs": [],
   "source": []
  }
 ],
 "metadata": {
  "kernelspec": {
   "display_name": "Python 3.10.5 64-bit",
   "language": "python",
   "name": "python3"
  },
  "language_info": {
   "codemirror_mode": {
    "name": "ipython",
    "version": 3
   },
   "file_extension": ".py",
   "mimetype": "text/x-python",
   "name": "python",
   "nbconvert_exporter": "python",
   "pygments_lexer": "ipython3",
   "version": "3.10.5"
  },
  "vscode": {
   "interpreter": {
    "hash": "ad2117d8da04c720903da65ba8862d63b2fb82849cd17efbeca69c80f28b43db"
   }
  }
 },
 "nbformat": 4,
 "nbformat_minor": 4
}
