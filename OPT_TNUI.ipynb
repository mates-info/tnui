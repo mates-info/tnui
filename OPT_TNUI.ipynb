{
  "cells": [
    {
      "cell_type": "markdown",
      "metadata": {
        "id": "6CpT80PzCYsn"
      },
      "source": [
        "## Recordatori de Python"
      ]
    },
    {
      "cell_type": "markdown",
      "metadata": {
        "id": "4Rnk92WgCYsq"
      },
      "source": [
        "#### Enumerate"
      ]
    },
    {
      "cell_type": "code",
      "execution_count": 1,
      "metadata": {
        "colab": {
          "base_uri": "https://localhost:8080/",
          "height": 0
        },
        "id": "O86pT-2SCYsr",
        "outputId": "b758ad22-15e2-42c4-a8e3-8b3a679a6d7a"
      },
      "outputs": [
        {
          "name": "stdout",
          "output_type": "stream",
          "text": [
            "0 a\n",
            "1 b\n",
            "2 c\n"
          ]
        }
      ],
      "source": [
        "for a,b in enumerate(['a','b','c']):\n",
        "    print(a,b)"
      ]
    },
    {
      "cell_type": "markdown",
      "metadata": {
        "id": "oob2K5NXCYst"
      },
      "source": [
        "#### zip"
      ]
    },
    {
      "cell_type": "code",
      "execution_count": 2,
      "metadata": {
        "colab": {
          "base_uri": "https://localhost:8080/",
          "height": 0
        },
        "id": "Q7timHkhCYsu",
        "outputId": "5d24c76c-ad2f-4def-d1f7-ea6289200908"
      },
      "outputs": [
        {
          "name": "stdout",
          "output_type": "stream",
          "text": [
            "(1, 3)\n",
            "(2, 4)\n",
            "(3, 5)\n"
          ]
        }
      ],
      "source": [
        "for i in zip([1,2,3],[3,4,5,6]):\n",
        "    print(i)"
      ]
    },
    {
      "cell_type": "markdown",
      "metadata": {
        "id": "YWqlUlCHCYsu"
      },
      "source": [
        "#### \\*args, \\*kwargs o com definir una funció amb un nombre d'arguments arbitrari."
      ]
    },
    {
      "cell_type": "code",
      "execution_count": 3,
      "metadata": {
        "colab": {
          "base_uri": "https://localhost:8080/",
          "height": 0
        },
        "id": "Hm6S1qXXCYsu",
        "outputId": "541de154-0a54-4909-98e9-4017b78e3a50"
      },
      "outputs": [
        {
          "name": "stdout",
          "output_type": "stream",
          "text": [
            "(1, 2, 3)\n",
            "{'val1': 'a', 'val2': 'b'}\n"
          ]
        }
      ],
      "source": [
        "def magic(*args, **kwargs):\n",
        "    print(args)\n",
        "    print(kwargs)\n",
        "    \n",
        "magic(1,2,3, val1='a', val2='b')"
      ]
    },
    {
      "cell_type": "code",
      "execution_count": 4,
      "metadata": {
        "colab": {
          "base_uri": "https://localhost:8080/",
          "height": 0
        },
        "id": "ed7RW4hDCYsv",
        "outputId": "e51f331e-1846-4b64-b74a-a11fcfbbdabe"
      },
      "outputs": [
        {
          "name": "stdout",
          "output_type": "stream",
          "text": [
            "(1, 2, 3)\n",
            "{'val1': 'a', 'val2': 'b'}\n"
          ]
        }
      ],
      "source": [
        "def magic(*a, **b):\n",
        "    print(a)\n",
        "    print(b)\n",
        "    \n",
        "magic(1,2,3, val1='a', val2='b')"
      ]
    },
    {
      "cell_type": "markdown",
      "metadata": {
        "id": "0BE_CYkkCYsv"
      },
      "source": [
        "Els operadors prefixes `*` i `**` ens permeten (entre d'altres coses) passar un nombre variable de paràmetres a una funció."
      ]
    },
    {
      "cell_type": "markdown",
      "metadata": {
        "id": "a9oF2Z6SCYsx"
      },
      "source": [
        "## Descens del gradient d'una funció qualsevol\n",
        "\n",
        "Suposem que tenim una funcio $f(\\mathbf v) = \\sum_{i=1}^n v_i^2$ que té per argument un vector de nombres reals $\\mathbf v = (v_1, \\dots, v_n)$ i que té com a sortida un únic nombre real:"
      ]
    },
    {
      "cell_type": "code",
      "execution_count": 5,
      "metadata": {
        "colab": {
          "base_uri": "https://localhost:8080/",
          "height": 0
        },
        "id": "N-J90TmeCYsx",
        "outputId": "26373fbb-0028-43e5-8360-2530ff3b6fd5"
      },
      "outputs": [
        {
          "data": {
            "text/plain": [
              "12"
            ]
          },
          "execution_count": 5,
          "metadata": {},
          "output_type": "execute_result"
        }
      ],
      "source": [
        "def suma_de_quadrats(v):\n",
        "    return sum([v_i ** 2 for v_i in v]) \n",
        "\n",
        "suma_de_quadrats([2,2,2])"
      ]
    },
    {
      "cell_type": "markdown",
      "metadata": {
        "id": "s7-pUrJ_CYsy"
      },
      "source": [
        "L'objectiu és calcular el **paràmetre** $\\mathbf{v}$ que maximitza o minimitza aquesta funció, o el que és el mateix, la $\\mathbf{v}$ que produeix el valor més alt o més baix possible de $f$. \n",
        "\n",
        "Però abans de veure com fer això amb una funció de varies variables, mirem com ho fariem amb una funció d'una variable."
      ]
    },
    {
      "cell_type": "markdown",
      "metadata": {
        "id": "pzquqDCtCYsy"
      },
      "source": [
        "### De les derivades al gradient\n",
        "\n",
        "Si $f$ és una funció d'una sola variable, la **derivada** de $f$ a un punt $x$ mesura la variació de la funció quan fem un petit canvi a la $x$, i es defineix com el límit de la diferència de dos quocients: \n",
        "\n",
        "$$ \\lim_{h \\rightarrow 0} \\frac{f(x + h) - f(x)}{h} $$"
      ]
    },
    {
      "cell_type": "code",
      "execution_count": 6,
      "metadata": {
        "colab": {
          "base_uri": "https://localhost:8080/",
          "height": 0
        },
        "id": "i2rw8dkXCYsy",
        "outputId": "7348d5e0-a2b4-4755-cb45-742403461369"
      },
      "outputs": [
        {
          "data": {
            "text/plain": [
              "4.0"
            ]
          },
          "execution_count": 6,
          "metadata": {},
          "output_type": "execute_result"
        }
      ],
      "source": [
        "import math\n",
        "\n",
        "# LA H DEPÈN DE LA CURVATURA DE LA FUNCIÓ (SI LA 2A DERIVADA ÉS GRAN, CALDRÀ H MÉS PETITA)\n",
        "\n",
        "def truncate(number, decimals=0):\n",
        "    \"\"\"\n",
        "    Returns a value truncated to a specific number of decimal places.\n",
        "    \"\"\"\n",
        "    if not isinstance(decimals, int):\n",
        "        raise TypeError(\"decimal places must be an integer.\")\n",
        "    elif decimals < 0:\n",
        "        raise ValueError(\"decimal places has to be 0 or more.\")\n",
        "    elif decimals == 0:\n",
        "        return math.trunc(number)\n",
        "\n",
        "    factor = 10.0 ** decimals\n",
        "    return math.trunc(number * factor) / factor\n",
        "\n",
        "def quadrat(x):\n",
        "    return x*x\n",
        "\n",
        "def dif_quo(x, f=quadrat, h=1e-6):\n",
        "    return truncate((f(x+h) - f(x))/h, 5)\n",
        "\n",
        "dif_quo(2.0, quadrat)"
      ]
    },
    {
      "cell_type": "markdown",
      "metadata": {
        "id": "sK5-Fl5FCYsy"
      },
      "source": [
        "La derivada es defineix com la pendent de la tangent a $(x,f(x))$, concepte que s'iguala a la diferència de quocients quan la $h$ tendeix a 0, però per altres $h$ la diferència de quocients no deixa de ser una aproximació a la pendent de la tangent a $((x+h), f(x+h))$.  "
      ]
    },
    {
      "cell_type": "code",
      "execution_count": 7,
      "metadata": {
        "colab": {
          "base_uri": "https://localhost:8080/",
          "height": 391
        },
        "id": "kU22cLJSCYsy",
        "outputId": "9d35a2bb-9b76-4ee0-e42e-7f80a49f8fa4"
      },
      "outputs": [
        {
          "data": {
            "text/plain": [
              "<function matplotlib.pyplot.show(*args, **kw)>"
            ]
          },
          "execution_count": 7,
          "metadata": {},
          "output_type": "execute_result"
        },
        {
          "data": {
            "image/png": "[encoded data removed]",
            "text/plain": [
              "<Figure size 864x432 with 1 Axes>"
            ]
          },
          "metadata": {
            "needs_background": "light"
          },
          "output_type": "display_data"
        }
      ],
      "source": [
        "import matplotlib.pyplot as plt\n",
        "import numpy as np\n",
        "%matplotlib inline\n",
        "\n",
        "x = np.linspace(-1.5,-0.5, 100)\n",
        "f = [i**2 for i in x]\n",
        "plt.plot(x,f, 'r-')\n",
        "plt.plot([-1.5, -0.5], [2, 0.0], 'k-', lw=2)        # x's, y's !!!!!! (d'un segment)\n",
        "plt.plot([-1.4, -1.0], [1.96, 1.0], 'b-', lw=2)\n",
        "plt.plot([-1],[1],'o')\n",
        "plt.plot([-1.4],[1.96],'o')\n",
        "plt.text(-1.0, 1.2, r'$x,f(x)$')\n",
        "plt.text(-1.4, 2.2, r'$(x-h),f(x-h)$')\n",
        "plt.gcf().set_size_inches((12,6))\n",
        "plt.grid()\n",
        "plt.show"
      ]
    },
    {
      "cell_type": "markdown",
      "metadata": {
        "id": "rkXGRGSDCYsz"
      },
      "source": [
        "Hi ha moltes funcions de les quals poden calcular la derivada analíticament, com per exemple $x^2$:"
      ]
    },
    {
      "cell_type": "code",
      "execution_count": 7,
      "metadata": {
        "colab": {
          "base_uri": "https://localhost:8080/"
        },
        "id": "AI0lXx6ACYsz",
        "outputId": "44221b66-5a4c-4726-fc0e-4cfa269be907"
      },
      "outputs": [
        {
          "data": {
            "text/plain": [
              "6.0"
            ]
          },
          "execution_count": 7,
          "metadata": {},
          "output_type": "execute_result"
        }
      ],
      "source": [
        "def d_a_quadrat(x):\n",
        "    # la derivada de x**2 és 2*x\n",
        "    return 2*x\n",
        "\n",
        "d_a_quadrat(3.0)"
      ]
    },
    {
      "cell_type": "code",
      "execution_count": 8,
      "metadata": {
        "colab": {
          "base_uri": "https://localhost:8080/",
          "height": 392
        },
        "id": "QT-DOvvHCYsz",
        "outputId": "dabfb93b-8276-43a3-cfed-bdc38e42b1be"
      },
      "outputs": [
        {
          "data": {
            "text/plain": [
              "<function matplotlib.pyplot.show(close=None, block=None)>"
            ]
          },
          "execution_count": 8,
          "metadata": {},
          "output_type": "execute_result"
        },
        {
          "data": {
            "image/png": "[encoded data removed]",
            "text/plain": [
              "<Figure size 864x432 with 1 Axes>"
            ]
          },
          "metadata": {
            "needs_background": "light"
          },
          "output_type": "display_data"
        }
      ],
      "source": [
        "import matplotlib.pyplot as plt\n",
        "import numpy as np\n",
        "%matplotlib inline\n",
        "\n",
        "font1 = {'family': 'serif',\n",
        "        'color':  'darkred',\n",
        "        'weight': 'normal',\n",
        "        'size': 14,\n",
        "        }\n",
        "\n",
        "font2 = {'family': 'serif',\n",
        "        'color':  'darkgreen',\n",
        "        'weight': 'normal',\n",
        "        'size': 14,\n",
        "        }\n",
        "\n",
        "x = np.linspace(-2,2, 100)\n",
        "f = [i**2 for i in x]\n",
        "df = [2*i for i in x]\n",
        "plt.text(0.2, -0.8, r'$x^2$', fontdict=font1)\n",
        "plt.text(0.6, 2.0, r'$2x$', fontdict=font2)\n",
        "plt.plot(x,f, 'r-')\n",
        "plt.plot(x,df, 'g-')\n",
        "plt.gcf().set_size_inches((12,6))\n",
        "plt.grid()\n",
        "plt.show"
      ]
    },
    {
      "cell_type": "markdown",
      "metadata": {
        "id": "SS-_jgAWCYsz"
      },
      "source": [
        "**Però que hem de fer quan no tenim una fòrmula analítica per la derivada?**\n",
        "\n",
        "Doncs no queda més remei que usar l'aproximació de la diferència de quocients! \n",
        "\n",
        "Si el pas és prou petit no notarem la diferència, tot i que el concepte \"prou petit\" és una mica indefinit: la funció pot variar molt en qualsevol interval i pot requerir una $h$ diferent per zones diferents."
      ]
    },
    {
      "cell_type": "markdown",
      "metadata": {
        "id": "TCII1boFCYs0"
      },
      "source": [
        "### Gradient \n",
        "\n",
        "Quan $f$ és una funció de varies variables, té varies derivades parcials, cada una de les quals indica com varia $f$ quan fem un petit canvi en la variable corresponent. \n",
        "\n",
        "La derivada parcial respecte a una variable es pot calcular considerant només canvis en aquella variable i mantenint la resta constants:"
      ]
    },
    {
      "cell_type": "code",
      "execution_count": 9,
      "metadata": {
        "id": "NaFPvrLkCYs0"
      },
      "outputs": [],
      "source": [
        "def dif_quo_parcial(v, f, i, h=1e-6):\n",
        "    w = [v_j + (h if j==i else 0) for j, v_j in enumerate(v)]\n",
        "    return truncate((f(w) - f(v))/h)"
      ]
    },
    {
      "cell_type": "markdown",
      "metadata": {
        "id": "U1FRN4_SCYs0"
      },
      "source": [
        "El **gradient** de la funció $f$, que és un vector format per les derivades parcials de la funció, ens dóna la **direcció en la qual la funció creix més ràpidament**. \n",
        "\n",
        "$$\\nabla {f} = (\\frac{\\partial f}{\\partial v_1}, \\dots, \\frac{\\partial f}{\\partial v_n})$$"
      ]
    },
    {
      "cell_type": "code",
      "execution_count": 10,
      "metadata": {
        "colab": {
          "base_uri": "https://localhost:8080/"
        },
        "id": "D55MBmaeCYs0",
        "outputId": "8d82ca21-2abe-406d-a9f2-418ea00e336a"
      },
      "outputs": [
        {
          "name": "stdout",
          "output_type": "stream",
          "text": [
            "12 [4, 4, 4]\n"
          ]
        }
      ],
      "source": [
        "def gradient(v, f, h=1e-6):\n",
        "    return[dif_quo_parcial(v,f,i,h) for i,_ in enumerate(v)]\n",
        "\n",
        "def f(v):\n",
        "    return sum(v_i**2 for v_i in v)\n",
        "\n",
        "v = [2,2,2]\n",
        "print(f(v), gradient(v,f))"
      ]
    },
    {
      "cell_type": "code",
      "execution_count": null,
      "metadata": {},
      "outputs": [],
      "source": []
    },
    {
      "cell_type": "markdown",
      "metadata": {
        "id": "qho2sFyuCYs1"
      },
      "source": [
        "## Optimització\n",
        "\n",
        "La forma més simple de trobar el mínim d'una funció és l'algorisme de Nelder-Mead: http://www.benfrederickson.com/numerical-optimization/\n",
        "\n",
        "Aquest algorisme té com a principal limitació el nombre d'avaluacions que s'han de fer de la funció a cada pas. Com més dimensions té la funció, més avaluacions hem de fer! Això és un limitació molt gran quan treballem amb funcions de moltes dimensions!\n",
        "\n",
        "<span style=\"color:green\">\n",
        "LA GRÀCIA DEL GRADIENT - DESCENT ÉS QUE HEM D'AVALUAR POQUES VEGADES LA F / ITERACIÓ, MENTRE QUE AQUEST NECESSITA AVALUAR N+1 VEGADES / STEP (N DIMENSIÓ);\n",
        "AVALUAR LA FUNCIÓ TÉ UN COST ELEVAT (ÉS LA LOSS, S'HA D'AVALUAR EN TOTES LES DADES CADA COP)\n",
        "</span>\n",
        "\n",
        "### Algorisme de descens del gradient\n",
        "\n",
        "Una estratègia alternativa per minimitzar una funció és repetir la següent estratègia (**algorisme de descens del gradient**):\n",
        "\n",
        "+ Col·locar-se en una solució potencial aleatòria (un valor aleatori de $\\mathbf{v}$)\n",
        "+ Calcular el vector gradient en aquell punt.\n",
        "+ Fer un petit pas (variar el valor de $\\mathbf{v}$) en la direcció (*contraria*) del vector gradient.\n",
        "\n",
        "La cerca s'acaba quan el vector gradient és zero o quan el canvi en el valor de $f$ és molt petit. Presumiblement, hem trobat un mínim. \n",
        "\n",
        "Si la funció és unimodal (conté un únic mínim), hem trobat una la nostra solució. Sinó, pot ser que estem en un mínim local que no sigui global."
      ]
    },
    {
      "cell_type": "markdown",
      "metadata": {
        "id": "D9Zr92uDCYs1"
      },
      "source": [
        "### Com utilitzar el gradient\n",
        "\n",
        "És fàcil veure que la funció \"suma de quadrats\", $\\sum_i v_i^2$, pren el seu mínim valor quan totes les $v$ són 0. \n",
        "\n",
        "Anem a comprovar-ho pel cas de dimensió 3. Per fer-ho, encara ens cal una funció que varii el valor de $\\mathbf v$ en la direcció contrària del gradient, que anomenarem ``pas``: "
      ]
    },
    {
      "cell_type": "code",
      "execution_count": 11,
      "metadata": {
        "collapsed": true,
        "id": "LEWmVBBgCYs1",
        "jupyter": {
          "outputs_hidden": true
        }
      },
      "outputs": [],
      "source": [
        "def gradient_suma_quadrats(v):\n",
        "    return [2 * v_i for v_i in v]\n",
        "    \n",
        "def pas(v,grad,mida_pas):\n",
        "    return [v_i - mida_pas * dir_i for v_i, dir_i in zip(v,grad)]"
      ]
    },
    {
      "cell_type": "markdown",
      "metadata": {
        "id": "LwcQmN8OCYs1"
      },
      "source": [
        "Començarem escollint un valor a l'atzar i llavors anirem movent-nos en la direcció contrària al gradient. \n",
        "\n",
        "Ens aturarem quan el canvi en el valor de la funcio sigui *prou petit*. \n",
        "\n",
        "Implementarem el concepte *prou petit* amb aquesta funció:"
      ]
    },
    {
      "cell_type": "code",
      "execution_count": 12,
      "metadata": {
        "colab": {
          "base_uri": "https://localhost:8080/"
        },
        "id": "BKDjr2KYCYs1",
        "outputId": "17a1083b-67f6-4e55-df98-04eb6a11f295"
      },
      "outputs": [
        {
          "data": {
            "text/plain": [
              "[6, 3, 5]"
            ]
          },
          "execution_count": 12,
          "metadata": {},
          "output_type": "execute_result"
        }
      ],
      "source": [
        "import random\n",
        "import numpy as np\n",
        "\n",
        "def distancia(v1,v2):\n",
        "    import numpy as np\n",
        "    import math\n",
        "    v = np.array(v1)-np.array(v2)\n",
        "    return math.sqrt(sum(v_i ** 2 for v_i in v))\n",
        "\n",
        "v = [random.randint(-10,10) for i in range(3)]\n",
        "v"
      ]
    },
    {
      "cell_type": "code",
      "execution_count": 13,
      "metadata": {
        "colab": {
          "base_uri": "https://localhost:8080/"
        },
        "id": "0d2tBe7pCYs1",
        "outputId": "209e870a-c52f-44d0-95de-15ee827aec41"
      },
      "outputs": [
        {
          "name": "stdout",
          "output_type": "stream",
          "text": [
            "[3.522459623002587e-14, 1.7612298115012935e-14, 2.935383019168828e-14]\n"
          ]
        }
      ],
      "source": [
        "tolerancia = 1e-15\n",
        "while True:\n",
        "    gradient = gradient_suma_quadrats(v)\n",
        "    next_v = pas(v,gradient,0.01)\n",
        "    if distancia(next_v,v) < tolerancia:\n",
        "        break\n",
        "    v = next_v\n",
        "print(v)\n"
      ]
    },
    {
      "cell_type": "markdown",
      "metadata": {
        "id": "lHoOafXVCYs2"
      },
      "source": [
        "### El pas\n",
        "\n",
        "La **mida del pas** és un aspecte delicat: si és massa petita avançarem massa lentament; si és massa gran, podem perdre el màxim (mínim) ques estem buscant. \n",
        "\n",
        "Per tant, a l'hora de triar la mida del pas hem de considerar quina política seguir:\n",
        "\n",
        "+ Fer servir una mida de pas constant. En aquest cas la mida del pas defineix la precisió de la solució.\n",
        "+ Anar disminuint la mida del pas a mesura que passa el temps.\n",
        "+ A cada pas, cercar la mida que minimitza el valor de funció objectiu.\n",
        "\n",
        "La darrera opció és bona però molt cara. El màxim que podriem fer és considerar un conjunt fix de mides."
      ]
    },
    {
      "cell_type": "code",
      "execution_count": 14,
      "metadata": {
        "collapsed": true,
        "id": "FQ-pt0qRCYs2",
        "jupyter": {
          "outputs_hidden": true
        }
      },
      "outputs": [],
      "source": [
        "mides_pas = [100, 10, 1, 0.1, 0.01, 0.001, 0.0001, 0.00001]"
      ]
    },
    {
      "cell_type": "markdown",
      "metadata": {
        "id": "BCvscLIaCYs2"
      },
      "source": [
        "### Plantejament general d'un problema d'aprenentatge\n",
        "\n",
        "En general, tenim els següents elements:\n",
        "\n",
        "+ Un conjunt de dades $(\\mathbf x,y)$. \n",
        "+ Una funció objectiu *target_f*, que volem minimitzar, que representa la discrepància entre les dades i un model.\n",
        "+ La funció que representa el gradient de la funció objectiu, *gradient_f*. \n",
        "\n",
        "\n",
        "El cas més normal és que *target_f*  representi els errors d'un model $M$ de representació de les dades $(x_i, y_i)$, en funció dels seus paràmetres $w$, i volem trobar els paràmetres que minimitzen l'error:\n",
        "\n",
        "$$ f = \\sum_{i} (y_i - M(\\mathbf x_i,w))^2 $$\n",
        "\n",
        "Per exemple, $(x,y)$ pot representar:\n",
        "\n",
        "+ $x$: el comportament d'un jugador de \"Candy Crush\"; $y$: les compres mensuals que fa de \"vides\". \n",
        "+ $x$: les dades de funcionament del motor d'un cotxe; $y$: la probabilitat d'un error de funcionament del motor.\n",
        "+ $x$: les dades financeres d'un client d'un banc; $y$: la seva qualificació (si/no) per un préstec.\n",
        "\n",
        "> El cas que $y$ és un valor real, el problema s'anomena *regressió*.\n",
        "\n",
        "> El cas que $y$ és un valor binari o categòric, el problema s'anomena *classificació*. \n",
        "\n",
        "Llavors els descens del gradient es pot implementar així:"
      ]
    },
    {
      "cell_type": "code",
      "execution_count": null,
      "metadata": {
        "collapsed": true,
        "id": "gC1pUUt1CYs2",
        "jupyter": {
          "outputs_hidden": true
        }
      },
      "outputs": [],
      "source": [
        "# Les dades de la funció y = 2x serien del tipus:\n",
        "x = [1,2,3,4]\n",
        "y = [2,4,6,8]\n",
        "\n",
        "def minimitza_batch(target_f, gradient_f, x, y, theta_inicial, toler = 1e-6):\n",
        "    \n",
        "    mides_pas = [100, 10, 1, 0.1, 0.01, 0.001, 0.0001, 0.00001]\n",
        "    theta = theta_inicial\n",
        "    target_f = safe(target_f)\n",
        "    valor = target_f(x,y,theta)\n",
        "    \n",
        "    while True:\n",
        "        gradient = gradient_f(theta)\n",
        "        next_thetas = [pas(theta, gradient, -pas) for mida_pas in mides_pas]\n",
        "        next_theta = min(next_thetas, key = target_f)\n",
        "        next_valor = target_f(x,y,next_theta) # Car!!!! (per exemple, 1M de imatges de 1.000 x 1.000)\n",
        "        if abs(valor - next_valor) < toler:\n",
        "            return theta\n",
        "        else:\n",
        "            theta, valor = next_theta, next_valor"
      ]
    },
    {
      "cell_type": "markdown",
      "metadata": {
        "id": "wc7qEcXOCYs2"
      },
      "source": [
        "**Observació:** Aquesta funció avalua a cada pas la funció $f$ tal i com està definida, és a dir, necessita **totes** les dades $(x_i,y_i)$ a cada iteració. "
      ]
    },
    {
      "cell_type": "markdown",
      "metadata": {
        "id": "Q_9M4i8bCYs3"
      },
      "source": [
        "### Descens del gradient estocàstic\n",
        "\n",
        "**Si el volum de dades és molt gran aquesta estratègia no és viable**. \n",
        "\n",
        "#### Convergència en probabilitat? A cada pas només cal avaluar 1 element random\n",
        "\n",
        "La funció d'error que estem avaluant quan aprenem un model a partir de dades és de tipus additiu: es construeix a partir de la suma dels errors de cada una de les dades respecte del model.\n",
        "\n",
        "En aquest cas podem usar la tècnica Stochastic Gradient Descend (SGD), que consisteix en calcular el gradient (i fer un pas en la direcció del mínim) a partir de l'estimació d'**una única dada** (o d'un conjunt petit de dades o *minibatch*). \n",
        "\n",
        "En aquest exemple farem servir un pas adaptatiu: si no observem millora en el valor de la funció anem fent petit el pas.\n",
        "\n",
        "Una de les condicions d'aquest algorisme (per assegurar que convergim al mínim) és que a cada cicle iterarem sobre les dades en **ordre aleatori**:"
      ]
    },
    {
      "cell_type": "code",
      "execution_count": null,
      "metadata": {
        "collapsed": true,
        "id": "bZC3H6icCYs3",
        "jupyter": {
          "outputs_hidden": true
        }
      },
      "outputs": [],
      "source": [
        "x = [1,2,3,4]\n",
        "y = [2,4,6,8]\n",
        "dades = list(zip(x,y))\n",
        "\n",
        "def in_random_order(dades):\n",
        "    import random\n",
        "    indexes = [i for i,_ in enumerate(dades)]\n",
        "    random.shuffle(indexes)\n",
        "    for i in indexes:\n",
        "        yield dades[i]"
      ]
    },
    {
      "cell_type": "code",
      "execution_count": null,
      "metadata": {
        "colab": {
          "base_uri": "https://localhost:8080/"
        },
        "id": "F87e12CNCYs3",
        "outputId": "e956f651-f9bc-400b-d830-0cbd00342afe"
      },
      "outputs": [
        {
          "name": "stdout",
          "output_type": "stream",
          "text": [
            "3 6\n",
            "4 8\n",
            "2 4\n",
            "1 2\n"
          ]
        }
      ],
      "source": [
        "for (x_i,y_i) in in_random_order(dades):\n",
        "    print(x_i,y_i) "
      ]
    },
    {
      "cell_type": "code",
      "execution_count": null,
      "metadata": {
        "collapsed": true,
        "id": "Uy-_yVH-CYs3",
        "jupyter": {
          "outputs_hidden": true
        }
      },
      "outputs": [],
      "source": [
        "def vector_subtract(v,w):\n",
        "    return [v_i - w_i for v_i, w_i in zip(v,w)]\n",
        "\n",
        "def scalar_multiply(c,v):\n",
        "    return [c * v_i for v_i in v]\n",
        "\n",
        "def SGD(target_f, gradient_f, x, y, theta_0, alpha_0=0.01):\n",
        "    dades = zip(x,y)\n",
        "    theta = theta_0 # valor inicial dels paràmetres\n",
        "    alpha = alpha_0 # pes del gradient\n",
        "    min_theta, min_valor = float('inf'), float('inf')\n",
        "    iteracions_sense_millora = 0 \n",
        "    # iterem fins que no millorem el valor de la funció durant 100 iteracions\n",
        "    while iteracions_sense_millora < 100:\n",
        "        # calculem el valor de la funció\n",
        "        valor = sum(target_f(x_i, y_i, theta) for x_i,y_i in dades)\n",
        "        if valor < min_valor: # si el valor de la funció ha baixat, actualitzem\n",
        "            min_theta, min_valor = theta, valor\n",
        "            iteracions_sense_millora = 0\n",
        "            alpha = alpha_0\n",
        "        else: # sinó, activem un comptador de paciència i fem el pas més petit\n",
        "            iteracions_sense_millora += 1\n",
        "            alpha *= 0.9\n",
        "        for x_i, y_i in in_random_order(dades): # cambien els paràmetres en funció del gradient\n",
        "            gradient_i = gradient_f(x_i, y_i, theta)\n",
        "            theta = vector_subtract(theta, scalar_multiply(alpha, gradient_i))\n",
        "    return min_theta"
      ]
    },
    {
      "cell_type": "markdown",
      "metadata": {
        "id": "Vj_mmWifCYs3"
      },
      "source": [
        "## Gradient Descent i Regressió Lineal\n",
        "\n"
      ]
    },
    {
      "cell_type": "markdown",
      "metadata": {
        "id": "nDfrDerECYs3"
      },
      "source": [
        "El model de regressió lineal assumeix una relació entre les dades i el model d'quest tipus:\n",
        "\n",
        "$$ y_i = \\beta x_i + \\alpha $$"
      ]
    },
    {
      "cell_type": "code",
      "execution_count": null,
      "metadata": {
        "collapsed": true,
        "id": "yLA_nkFRCYs3",
        "jupyter": {
          "outputs_hidden": true
        }
      },
      "outputs": [],
      "source": [
        "import numpy as np\n",
        "x = np.random.uniform(0,1,20)\n",
        "\n",
        "def f(x): return x*2\n",
        "\n",
        "noise_variance =0.2\n",
        "noise = np.random.randn(x.shape[0])*noise_variance\n",
        "y = f(x) + noise"
      ]
    },
    {
      "cell_type": "code",
      "execution_count": null,
      "metadata": {
        "colab": {
          "base_uri": "https://localhost:8080/",
          "height": 409
        },
        "id": "GHHdEE0NCYs4",
        "outputId": "9f8d3501-3428-4de3-f34b-27f079fbc979"
      },
      "outputs": [
        {
          "data": {
            "image/png": "[encoded data removed]",
            "text/plain": [
              "<Figure size 864x432 with 1 Axes>"
            ]
          },
          "metadata": {
            "needs_background": "light"
          },
          "output_type": "display_data"
        }
      ],
      "source": [
        "plt.plot(x, y, 'o', label='y')\n",
        "plt.plot([0, 1], [f(0), f(1)], 'b-', label='f(x)')\n",
        "plt.xlabel('$x$', fontsize=15)\n",
        "plt.ylabel('$t$', fontsize=15)\n",
        "plt.ylim([0,2])\n",
        "plt.title('inputs (x) vs targets (y)')\n",
        "plt.grid()\n",
        "plt.legend(loc=2)\n",
        "plt.gcf().set_size_inches((12,6))\n",
        "plt.show()"
      ]
    },
    {
      "cell_type": "code",
      "execution_count": null,
      "metadata": {
        "colab": {
          "base_uri": "https://localhost:8080/",
          "height": 409
        },
        "id": "IrGZH3weCYs4",
        "outputId": "a63ed51f-f33a-4fcf-b6af-f0dd9a08b6f2"
      },
      "outputs": [
        {
          "data": {
            "image/png": "[encoded data removed]",
            "text/plain": [
              "<Figure size 864x432 with 1 Axes>"
            ]
          },
          "metadata": {
            "needs_background": "light"
          },
          "output_type": "display_data"
        }
      ],
      "source": [
        "# El nostre model y = x * w\n",
        "def nn(x, w): return x * w\n",
        "\n",
        "# Definim la funció de cost\n",
        "def cost(y, t): return ((t - y)**2).sum()\n",
        "\n",
        "# Definim un vector de possibles valors d'aquesta funció \n",
        "ws = np.linspace(0, 4, num=100)  \n",
        "cost_ws = np.vectorize(lambda w: cost(nn(x, w) , y))(ws)  \n",
        "\n",
        "# Plot\n",
        "plt.plot(ws, cost_ws, 'r-')\n",
        "plt.xlabel('$w$', fontsize=15)\n",
        "plt.ylabel('Cost', fontsize=15)\n",
        "plt.title('cost vs. pesos')\n",
        "plt.grid()\n",
        "plt.gcf().set_size_inches((12,6))\n",
        "plt.show()"
      ]
    },
    {
      "cell_type": "code",
      "execution_count": null,
      "metadata": {
        "colab": {
          "base_uri": "https://localhost:8080/"
        },
        "id": "sz4rko8wCYs4",
        "outputId": "51421323-c067-4812-9b88-4349ad2f64c5"
      },
      "outputs": [
        {
          "name": "stdout",
          "output_type": "stream",
          "text": [
            "w(0): 0.1000 \t cost: 28.8943\n",
            "w(1): 0.6899 \t cost: 14.2027\n",
            "w(2): 1.0962 \t cost: 7.2334\n",
            "w(3): 1.3760 \t cost: 3.9274\n",
            "w(4): 1.5688 \t cost: 2.3591\n",
            "w(5): 1.7015 \t cost: 1.6152\n",
            "w(6): 1.7929 \t cost: 1.2623\n",
            "w(7): 1.8559 \t cost: 1.0949\n",
            "w(8): 1.8993 \t cost: 1.0155\n",
            "w(9): 1.9292 \t cost: 0.9778\n",
            "w(10): 1.9497 \t cost: 0.9599\n",
            "w(11): 1.9639 \t cost: 0.9514\n",
            "w(12): 1.9737 \t cost: 0.9474\n",
            "w(13): 1.9804 \t cost: 0.9455\n",
            "w(14): 1.9850 \t cost: 0.9446\n",
            "w(15): 1.9882 \t cost: 0.9442\n"
          ]
        }
      ],
      "source": [
        "def gradient(w, x, y): \n",
        "    return 2 * x * (nn(x, w) - y)\n",
        "\n",
        "# definim un pas\n",
        "def delta_w(w_k, x, y, learning_rate):\n",
        "    return learning_rate * gradient(w_k, x, y).sum()\n",
        "\n",
        "# valor inicial del paràmetre\n",
        "w = 0.1\n",
        "\n",
        "#learning_rate = 0.1\n",
        "learning_rate = 0.02\n",
        "#learning_rate = 0.001\n",
        "\n",
        "\n",
        "nb_of_iterations = 15  \n",
        "w_cost = [(w, cost(nn(x, w), y))] \n",
        "for i in range(nb_of_iterations):\n",
        "    dw = delta_w(w, x, y, learning_rate)  \n",
        "    w = w - dw  \n",
        "    w_cost.append((w, cost(nn(x, w), y)))  \n",
        "\n",
        "for i in range(0, len(w_cost)):\n",
        "    print('w({}): {:.4f} \\t cost: {:.4f}'.format(i, w_cost[i][0], w_cost[i][1]))"
      ]
    },
    {
      "cell_type": "code",
      "execution_count": null,
      "metadata": {
        "colab": {
          "base_uri": "https://localhost:8080/",
          "height": 409
        },
        "id": "9aOHwDBECYs4",
        "outputId": "dbc7d50f-f0ca-4767-c6f6-0bf0ffc7237d"
      },
      "outputs": [
        {
          "data": {
            "image/png": "[encoded data removed]",
            "text/plain": [
              "<Figure size 864x432 with 1 Axes>"
            ]
          },
          "metadata": {
            "needs_background": "light"
          },
          "output_type": "display_data"
        }
      ],
      "source": [
        "# Plot the first 2 gradient descent updates\n",
        "plt.plot(ws, cost_ws, 'r-')  # Plot the error curve\n",
        "# Plot the updates\n",
        "for i in range(1, len(w_cost)-2):\n",
        "    w1, c1 = w_cost[i-1]\n",
        "    w2, c2 = w_cost[i]\n",
        "    plt.plot(w1, c1, 'bo')\n",
        "    plt.plot([w1, w2],[c1, c2], 'b-')\n",
        "    plt.text(w1, c1+0.5, '$w({})$'.format(i)) \n",
        "# Plot the last weight, axis, and show figure\n",
        "w1, c1 = w_cost[len(w_cost)-3]\n",
        "plt.plot(w1, c1, 'bo')\n",
        "plt.text(w1, c1+0.5, '$w({})$'.format(nb_of_iterations))  \n",
        "plt.xlabel('$w$', fontsize=15)\n",
        "plt.ylabel('$\\\\xi$', fontsize=15)\n",
        "plt.title('Gradient descent updates plotted on cost function')\n",
        "plt.grid()\n",
        "plt.gcf().set_size_inches((12,6))\n",
        "plt.show()"
      ]
    },
    {
      "cell_type": "code",
      "execution_count": null,
      "metadata": {
        "colab": {
          "base_uri": "https://localhost:8080/",
          "height": 404
        },
        "id": "Jb77P0lWCYs4",
        "outputId": "9e0fb9ea-ce76-4710-9b0b-49ecf3a44f51"
      },
      "outputs": [
        {
          "data": {
            "image/png": "[encoded data removed]",
            "text/plain": [
              "<Figure size 864x432 with 1 Axes>"
            ]
          },
          "metadata": {
            "needs_background": "light"
          },
          "output_type": "display_data"
        }
      ],
      "source": [
        "w = 0\n",
        "nb_of_iterations = 10  \n",
        "for i in range(nb_of_iterations):\n",
        "    dw = delta_w(w, x, y, learning_rate)  \n",
        "    w = w - dw  \n",
        "    \n",
        "\n",
        "plt.plot(x, y, 'o', label='t')\n",
        "plt.plot([0, 1], [f(0), f(1)], 'b-', label='f(x)')\n",
        "plt.plot([0, 1], [0*w, 1*w], 'r-', label='fitted line')\n",
        "plt.xlabel('input x')\n",
        "plt.ylabel('target t')\n",
        "plt.ylim([0,2])\n",
        "plt.title('input vs. target')\n",
        "plt.grid()\n",
        "plt.legend(loc=2)\n",
        "plt.gcf().set_size_inches((12,6))\n",
        "plt.show()"
      ]
    }
  ],
  "metadata": {
    "colab": {
      "collapsed_sections": [],
      "provenance": [],
      "toc_visible": true
    },
    "kernel_info": {
      "name": "python3"
    },
    "kernelspec": {
      "display_name": "Python 3.10.5 64-bit",
      "language": "python",
      "name": "python3"
    },
    "language_info": {
      "codemirror_mode": {
        "name": "ipython",
        "version": 3
      },
      "file_extension": ".py",
      "mimetype": "text/x-python",
      "name": "python",
      "nbconvert_exporter": "python",
      "pygments_lexer": "ipython3",
      "version": "3.10.5"
    },
    "nteract": {
      "version": "0.12.3"
    },
    "vscode": {
      "interpreter": {
        "hash": "ad2117d8da04c720903da65ba8862d63b2fb82849cd17efbeca69c80f28b43db"
      }
    }
  },
  "nbformat": 4,
  "nbformat_minor": 0
}
